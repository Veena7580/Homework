{
  "cells": [
    {
      "cell_type": "markdown",
      "metadata": {
        "id": "Ds-HRf5IifXk"
      },
      "source": [
        "# Regular Expressions\n",
        "\n",
        "Regular Expressions can be hard. Luckily, there are some great online tools to help you build and test them:\n",
        "\n",
        "https://regex101.com/\n",
        "\n",
        "---"
      ]
    },
    {
      "cell_type": "code",
      "execution_count": 1,
      "metadata": {
        "id": "1mz-55sRifXq"
      },
      "outputs": [],
      "source": [
        "import re"
      ]
    },
    {
      "cell_type": "code",
      "execution_count": 2,
      "metadata": {
        "id": "dcvBAj6yifXt"
      },
      "outputs": [],
      "source": [
        "phone1 = \"314-598-5494\""
      ]
    },
    {
      "cell_type": "code",
      "execution_count": 3,
      "metadata": {
        "id": "lLs-lJL3ifXu"
      },
      "outputs": [],
      "source": [
        "matches = re.match(r\"(\\d{3})-(\\d{3})-(\\d{4})\",phone1)"
      ]
    },
    {
      "cell_type": "code",
      "execution_count": 4,
      "metadata": {
        "colab": {
          "base_uri": "https://localhost:8080/",
          "height": 36
        },
        "id": "9XU58ML5ifXv",
        "outputId": "b5acc8d6-c58b-4ee3-9445-a1bbc7ac6618"
      },
      "outputs": [
        {
          "output_type": "execute_result",
          "data": {
            "text/plain": [
              "'314-598-5494'"
            ],
            "application/vnd.google.colaboratory.intrinsic+json": {
              "type": "string"
            }
          },
          "metadata": {},
          "execution_count": 4
        }
      ],
      "source": [
        "matches.group(0)"
      ]
    },
    {
      "cell_type": "code",
      "execution_count": 5,
      "metadata": {
        "id": "b-dMJA1NifXw"
      },
      "outputs": [],
      "source": [
        "phones = [\n",
        "    '314-598-5494',\n",
        "    '(555) 321-1234',\n",
        "    '+1 555-123-4567'\n",
        "]"
      ]
    },
    {
      "cell_type": "code",
      "execution_count": 6,
      "metadata": {
        "colab": {
          "base_uri": "https://localhost:8080/"
        },
        "id": "noXyjV8zifXx",
        "outputId": "7b1823d3-a68c-4906-807f-260b9ee76c0a"
      },
      "outputs": [
        {
          "output_type": "stream",
          "name": "stdout",
          "text": [
            "314-598-5494\n",
            "(555) 321-1234\n",
            "Doesn't match: +1 555-123-4567\n"
          ]
        }
      ],
      "source": [
        "for phone in phones:\n",
        "    matches = re.match(r\"(\\(?\\d{3}\\)?)[-\\ ](\\d{3})-(\\d{4})\", phone)\n",
        "    if matches is None:\n",
        "        print(f\"Doesn't match: {phone}\")\n",
        "    else:\n",
        "        print(matches.group(0))"
      ]
    },
    {
      "cell_type": "markdown",
      "metadata": {
        "id": "fIqfi7_vifXy"
      },
      "source": [
        "# Name Parsing"
      ]
    },
    {
      "cell_type": "code",
      "execution_count": 7,
      "metadata": {
        "id": "XGrLZDJlifXz"
      },
      "outputs": [],
      "source": [
        "# Names are formatted as First MI. Last\n",
        "name=\"Paul E. Boal\""
      ]
    },
    {
      "cell_type": "code",
      "execution_count": 8,
      "metadata": {
        "id": "8Eor3wgGifX0"
      },
      "outputs": [],
      "source": [
        "matches = re.match(r\"^([\\w]+) ([A-Z])\\. ([\\w]+)\", name)"
      ]
    },
    {
      "cell_type": "code",
      "execution_count": 9,
      "metadata": {
        "colab": {
          "base_uri": "https://localhost:8080/",
          "height": 36
        },
        "id": "i7qFZ-zpifX0",
        "outputId": "f2fceb0f-ecae-48ab-d54e-b8c4c2b45a52"
      },
      "outputs": [
        {
          "output_type": "execute_result",
          "data": {
            "text/plain": [
              "'Paul E. Boal'"
            ],
            "application/vnd.google.colaboratory.intrinsic+json": {
              "type": "string"
            }
          },
          "metadata": {},
          "execution_count": 9
        }
      ],
      "source": [
        "# The whole match\n",
        "matches.group(0)"
      ]
    },
    {
      "cell_type": "code",
      "execution_count": 10,
      "metadata": {
        "colab": {
          "base_uri": "https://localhost:8080/",
          "height": 36
        },
        "id": "6Y6V8kr-ifX1",
        "outputId": "fa65f50b-1090-4fa6-d241-2099c733fde3"
      },
      "outputs": [
        {
          "output_type": "execute_result",
          "data": {
            "text/plain": [
              "'Paul'"
            ],
            "application/vnd.google.colaboratory.intrinsic+json": {
              "type": "string"
            }
          },
          "metadata": {},
          "execution_count": 10
        }
      ],
      "source": [
        "# THe first subgroup\n",
        "matches.group(1)"
      ]
    },
    {
      "cell_type": "code",
      "execution_count": 11,
      "metadata": {
        "colab": {
          "base_uri": "https://localhost:8080/",
          "height": 36
        },
        "id": "4X5vbn3oifX2",
        "outputId": "af10ebeb-d115-4076-8a0e-eb34a86ac40b"
      },
      "outputs": [
        {
          "output_type": "execute_result",
          "data": {
            "text/plain": [
              "'E'"
            ],
            "application/vnd.google.colaboratory.intrinsic+json": {
              "type": "string"
            }
          },
          "metadata": {},
          "execution_count": 11
        }
      ],
      "source": [
        "matches.group(2)"
      ]
    },
    {
      "cell_type": "code",
      "execution_count": 12,
      "metadata": {
        "colab": {
          "base_uri": "https://localhost:8080/",
          "height": 36
        },
        "id": "gCXBYb_eifX2",
        "outputId": "753ef28c-87a6-402f-efe8-bc304a2bf270"
      },
      "outputs": [
        {
          "output_type": "execute_result",
          "data": {
            "text/plain": [
              "'Boal'"
            ],
            "application/vnd.google.colaboratory.intrinsic+json": {
              "type": "string"
            }
          },
          "metadata": {},
          "execution_count": 12
        }
      ],
      "source": [
        "matches.group(3)"
      ]
    },
    {
      "cell_type": "markdown",
      "metadata": {
        "id": "jlYxFJWdifX3"
      },
      "source": [
        "# Add on Credentials!"
      ]
    },
    {
      "cell_type": "code",
      "execution_count": 19,
      "metadata": {
        "id": "paBKQOAdifX3"
      },
      "outputs": [],
      "source": [
        "names = [\n",
        "    \"Steven G. Sanders, MD\",\n",
        "    \"Alice D. Edwards, PhD\",\n",
        "    \"Joseph B. Lester, MD, PhD\"\n",
        "]"
      ]
    },
    {
      "cell_type": "code",
      "execution_count": 20,
      "metadata": {
        "colab": {
          "base_uri": "https://localhost:8080/"
        },
        "id": "ZdzoweeAifX4",
        "outputId": "774b5588-78a6-4559-ff01-b0c42e48e17c"
      },
      "outputs": [
        {
          "output_type": "stream",
          "name": "stdout",
          "text": [
            "['Steven', 'G', 'Sanders', ['MD']]\n",
            "['Alice', 'D', 'Edwards', ['PhD']]\n",
            "['Joseph', 'B', 'Lester', ['MD', 'PhD']]\n"
          ]
        }
      ],
      "source": [
        "for name in names:\n",
        "    matches = re.match(r\"^([\\w]+) ([A-Z])\\. ([\\w]+), ([\\w\\.\\, ]+)\", name)\n",
        "    first = matches.group(1)\n",
        "    middle = matches.group(2)\n",
        "    last = matches.group(3)\n",
        "    creds = matches.group(4).split(', ')\n",
        "    print([first, middle, last, creds])"
      ]
    },
    {
      "cell_type": "markdown",
      "metadata": {
        "id": "z74UU_TRifX5"
      },
      "source": [
        "# Date of Birth\n",
        "\n",
        "Month ##, ####"
      ]
    },
    {
      "cell_type": "code",
      "execution_count": 13,
      "metadata": {
        "id": "0_NMlu9XifX5"
      },
      "outputs": [],
      "source": [
        "birthday=\"March 25, 2011\""
      ]
    },
    {
      "cell_type": "code",
      "execution_count": 14,
      "metadata": {
        "id": "Ll4EBiYdifX6"
      },
      "outputs": [],
      "source": [
        "matches = re.match(r\"([a-zA-Z]+) ([0-9]{1,2}), ([0-9]{4})\", birthday)"
      ]
    },
    {
      "cell_type": "code",
      "execution_count": 15,
      "metadata": {
        "colab": {
          "base_uri": "https://localhost:8080/",
          "height": 36
        },
        "id": "_NtDUrxcifX6",
        "outputId": "91c72010-dea4-48b6-a16e-7f1a913f7d33"
      },
      "outputs": [
        {
          "output_type": "execute_result",
          "data": {
            "text/plain": [
              "'March 25, 2011'"
            ],
            "application/vnd.google.colaboratory.intrinsic+json": {
              "type": "string"
            }
          },
          "metadata": {},
          "execution_count": 15
        }
      ],
      "source": [
        "matches.group(0)"
      ]
    },
    {
      "cell_type": "code",
      "execution_count": 16,
      "metadata": {
        "colab": {
          "base_uri": "https://localhost:8080/",
          "height": 36
        },
        "id": "bxay4HDQifX7",
        "outputId": "8bd2273f-b4f0-44ab-f211-aa81a2497211"
      },
      "outputs": [
        {
          "output_type": "execute_result",
          "data": {
            "text/plain": [
              "'March'"
            ],
            "application/vnd.google.colaboratory.intrinsic+json": {
              "type": "string"
            }
          },
          "metadata": {},
          "execution_count": 16
        }
      ],
      "source": [
        "matches.group(1)"
      ]
    },
    {
      "cell_type": "code",
      "execution_count": 17,
      "metadata": {
        "colab": {
          "base_uri": "https://localhost:8080/",
          "height": 36
        },
        "id": "yWMnrXvSifX7",
        "outputId": "564a2859-9fec-4811-fd1c-2df6d6ebe7e5"
      },
      "outputs": [
        {
          "output_type": "execute_result",
          "data": {
            "text/plain": [
              "'25'"
            ],
            "application/vnd.google.colaboratory.intrinsic+json": {
              "type": "string"
            }
          },
          "metadata": {},
          "execution_count": 17
        }
      ],
      "source": [
        "matches.group(2)"
      ]
    },
    {
      "cell_type": "code",
      "execution_count": 18,
      "metadata": {
        "colab": {
          "base_uri": "https://localhost:8080/",
          "height": 36
        },
        "id": "VBlo0gOGifX7",
        "outputId": "cf5fcd52-3cca-4c4d-b556-9707cfe41d1e"
      },
      "outputs": [
        {
          "output_type": "execute_result",
          "data": {
            "text/plain": [
              "'2011'"
            ],
            "application/vnd.google.colaboratory.intrinsic+json": {
              "type": "string"
            }
          },
          "metadata": {},
          "execution_count": 18
        }
      ],
      "source": [
        "matches.group(3)"
      ]
    },
    {
      "cell_type": "code",
      "execution_count": 18,
      "metadata": {
        "id": "k7RRN6lYifX7"
      },
      "outputs": [],
      "source": []
    }
  ],
  "metadata": {
    "kernelspec": {
      "display_name": "Python 3",
      "language": "python",
      "name": "python3"
    },
    "language_info": {
      "codemirror_mode": {
        "name": "ipython",
        "version": 3
      },
      "file_extension": ".py",
      "mimetype": "text/x-python",
      "name": "python",
      "nbconvert_exporter": "python",
      "pygments_lexer": "ipython3",
      "version": "3.6.7"
    },
    "colab": {
      "provenance": []
    }
  },
  "nbformat": 4,
  "nbformat_minor": 0
}