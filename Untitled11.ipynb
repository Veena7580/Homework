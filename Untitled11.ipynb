{
  "nbformat": 4,
  "nbformat_minor": 0,
  "metadata": {
    "colab": {
      "provenance": [],
      "authorship_tag": "ABX9TyMkZSg0rxVTiBH8wdYlWRPl",
      "include_colab_link": true
    },
    "kernelspec": {
      "name": "python3",
      "display_name": "Python 3"
    },
    "language_info": {
      "name": "python"
    }
  },
  "cells": [
    {
      "cell_type": "markdown",
      "metadata": {
        "id": "view-in-github",
        "colab_type": "text"
      },
      "source": [
        "<a href=\"https://colab.research.google.com/github/Veena7580/Homework/blob/main/Untitled11.ipynb\" target=\"_parent\"><img src=\"https://colab.research.google.com/assets/colab-badge.svg\" alt=\"Open In Colab\"/></a>"
      ]
    },
    {
      "cell_type": "code",
      "execution_count": 9,
      "metadata": {
        "colab": {
          "base_uri": "https://localhost:8080/"
        },
        "id": "PL7Ajnu-CDAx",
        "outputId": "e1cc810e-101d-44d0-a3a3-504186c07c20"
      },
      "outputs": [
        {
          "output_type": "stream",
          "name": "stdout",
          "text": [
            "Welcome to the Code Breaker Challenge!\n",
            "The secret passcode. You have 10 attempts.\n",
            "Attempt 1: Your guess is 1234\n",
            "Feedback: 1 Exact Matches, 1 Near Matches\n",
            "Attempt 2: Your guess is 5721\n",
            "Feedback: 2 Exact Matches, 2 Near Matches\n",
            "Attempt 3: Your guess is 5271\n",
            "Feedback: 4 Exact Matches, 0 Near Matches\n",
            "Congratulations! You broke the code!\n",
            "The secret code was 5271\n"
          ]
        }
      ],
      "source": [
        "import random\n",
        "\n",
        "def give_feedback(secret_code, guess):\n",
        "    exact_match = 0\n",
        "    near_match = 0\n",
        "    secret_code_list = list(secret_code)\n",
        "    guess_list = list(guess)\n",
        "\n",
        "    # First pass to check for exact matches\n",
        "    for i in range(4):\n",
        "        if guess_list[i] == secret_code_list[i]:\n",
        "            exact_match += 1\n",
        "            secret_code_list[i] = None\n",
        "            guess_list[i] = None\n",
        "\n",
        "    # Second pass to check for near matches\n",
        "    for i in range(4):\n",
        "        if guess_list[i] is not None and guess_list[i] in secret_code_list:\n",
        "            near_match += 1\n",
        "            secret_code_list[secret_code_list.index(guess_list[i])] = None\n",
        "\n",
        "    return exact_match, near_match\n",
        "\n",
        "def code_breaker():\n",
        "    # Generate a random 4-digit secret code\n",
        "\n",
        "    attempts = 10\n",
        "    # Predefined guesses for each of the 10 attempts\n",
        "    guesses = ['1234', '5721', '5271', '9876', '4321', '1000', '2345', '6789', '1111', '5555']\n",
        "\n",
        "    print(\"Welcome to the Code Breaker Challenge!\")\n",
        "    print(\"The secret passcode. You have 10 attempts.\")\n",
        "\n",
        "    for attempt in range(1, attempts + 1):\n",
        "        guess = guesses[attempt - 1]\n",
        "        print(f\"Attempt {attempt}: Your guess is {guess}\")\n",
        "\n",
        "        # Provide feedback\n",
        "        exact_match, near_match = give_feedback(secret_code, guess)\n",
        "        print(f\"Feedback: {exact_match} Exact Matches, {near_match} Near Matches\")\n",
        "\n",
        "        # Check if the guess is correct\n",
        "        if exact_match == 4:\n",
        "            print(\"Congratulations! You broke the code!\")\n",
        "            return secret_code\n",
        "\n",
        "    else:\n",
        "        print(f\"Sorry, you've used all {attempts} attempts. The correct passcode was {secret_code}.\")\n",
        "        return secret_code\n",
        "# Start the game\n",
        "secret_code = code_breaker()\n",
        "print(f\"The secret code was {secret_code}\")\n"
      ]
    },
    {
      "cell_type": "markdown",
      "source": [
        "# Code Explanation:\n",
        "\n",
        "This code implements a Code Breaker Game where the player has 10 attempts to guess a secret 4-digit passcode.\n",
        "\n",
        "1. give_feedback function: This function compares the secret code and the guess. It first checks for exact matches (correct digit at the correct position) and then checks for near matches (correct digit in the wrong position).\n",
        "2. Secret Code Generation: The code doesn't generate a secret code randomly in the current implementation. The secret_code needs to be predefined.\n",
        "Main Game Loop (code_breaker function):\n",
        "3. The player is given 10 predefined guesses: The function checks if the guess has 4 exact matches, and if so, the game ends with success. If not, feedback (exact and near matches) is provided for each attempt."
      ],
      "metadata": {
        "id": "JcOO1pM9Gcfi"
      }
    }
  ]
}