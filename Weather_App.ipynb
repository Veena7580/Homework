{
  "cells": [
    {
      "cell_type": "markdown",
      "metadata": {
        "id": "view-in-github",
        "colab_type": "text"
      },
      "source": [
        "<a href=\"https://colab.research.google.com/github/Veena7580/Homework/blob/main/Weather_App.ipynb\" target=\"_parent\"><img src=\"https://colab.research.google.com/assets/colab-badge.svg\" alt=\"Open In Colab\"/></a>"
      ]
    },
    {
      "cell_type": "markdown",
      "metadata": {
        "id": "MYs-ZRD56x1R"
      },
      "source": [
        "# Make a weather app that:\n",
        "Let users enter a location (any of the following:  Zip Code/Postal Code, GPS Coordinates, Landmarks, Town, City, etc..)  and get the current weather.  You have autonomy to determine how to handle how the user should enter their location\n",
        "Shows the weather clearly, with any details you think are useful.\n",
        "Let users see the weather based on their current location.\n",
        "Use icons or images to make the weather info look cool using any design standards.\n"
      ]
    },
    {
      "cell_type": "code",
      "execution_count": null,
      "metadata": {
        "id": "ZkOdbAoHSPCV"
      },
      "outputs": [],
      "source": [
        "import tkinter as tk\n",
        "from tkinter import ttk, messagebox\n",
        "import requests\n",
        "from datetime import datetime\n",
        "\n",
        "class WeatherApp:\n",
        "    def __init__(self, root):\n",
        "        self.root = root\n",
        "        self.root.title(\"Weather App\")\n",
        "\n",
        "        self.weather_icons = {\n",
        "    0: 'Clear Sky', 1: 'Partly Cloudy', 2: 'Cloudy', 3: 'Overcast',\n",
        "    45: 'Fog', 48: 'Fog', 51: 'Light Rain', 53: 'Moderate Rain',\n",
        "    55: 'Heavy Rain', 56: 'Very Heavy Rain', 57: 'Extremely Heavy Rain',\n",
        "    61: 'Light Rain Showers', 63: 'Moderate Rain Showers', 65: 'Heavy Rain Showers',\n",
        "    66: 'Light Snow', 67: 'Heavy Snow', 71: 'Light Snow Showers',\n",
        "    73: 'Moderate Snow Showers', 75: 'Heavy Snow Showers', 77: 'Very Heavy Snow Showers',\n",
        "    80: 'Light Rain Showers', 81: 'Moderate Rain Showers', 82: 'Heavy Rain Showers',\n",
        "    85: 'Light Snow Showers', 86: 'Heavy Snow Showers', 95: 'Thunderstorm',\n",
        "    96: 'Severe Thunderstorm', 99: 'Extreme Thunderstorm'\n",
        "}\n",
        "\n",
        "        # Call create_widgets within the __init__ method\n",
        "        self.create_widgets() #This line was moved inside the __init__ method."
      ]
    },
    {
      "cell_type": "code",
      "execution_count": null,
      "metadata": {
        "id": "5VaUjs16WU_s"
      },
      "outputs": [],
      "source": [
        "def create_widgets(self):\n",
        "        # Input Frame\n",
        "        input_frame = ttk.Frame(self.root, padding=10)\n",
        "        input_frame.grid(row=0, column=0, sticky='ew')\n",
        "\n",
        "        self.location_entry = ttk.Entry(input_frame, width=30)\n",
        "        self.location_entry.grid(row=0, column=0, padx=5)\n",
        "\n",
        "        ttk.Button(input_frame, text=\"Get Weather\",\n",
        "                  command=self.get_weather).grid(row=0, column=1, padx=5)\n",
        "        ttk.Button(input_frame, text=\"Current Location\",\n",
        "                  command=self.get_current_location).grid(row=0, column=2, padx=5)\n",
        "\n",
        "        # Current Weather Frame\n",
        "        self.current_frame = ttk.LabelFrame(self.root, text=\"Current Weather\", padding=10)\n",
        "        self.current_frame.grid(row=1, column=0, padx=10, pady=10, sticky='nsew')\n",
        "\n",
        "        # Forecast Frame\n",
        "        self.forecast_frame = ttk.LabelFrame(self.root, text=\"5-Day Forecast\", padding=10)\n",
        "        self.forecast_frame.grid(row=2, column=0, padx=10, pady=10, sticky='nsew')\n"
      ]
    },
    {
      "cell_type": "code",
      "execution_count": null,
      "metadata": {
        "id": "OIpOoHEyWVCN"
      },
      "outputs": [],
      "source": [
        "def get_coordinates(self, location):\n",
        "        try:\n",
        "            geocode_url = \"https://geocoding-api.open-meteo.com/v1/search\"\n",
        "            params = {'name': location, 'count': 1}\n",
        "            response = requests.get(geocode_url, params=params)\n",
        "            response.raise_for_status()\n",
        "            data = response.json()\n",
        "\n",
        "            if not data.get('results'):\n",
        "                messagebox.showerror(\"Error\", \"Location not found\")\n",
        "                return None\n",
        "\n",
        "            return (\n",
        "                data['results'][0]['latitude'],\n",
        "                data['results'][0]['longitude']\n",
        "            )\n",
        "        except Exception as e:\n",
        "            messagebox.showerror(\"Error\", f\"Geocoding failed: {str(e)}\")\n",
        "            return None\n"
      ]
    },
    {
      "cell_type": "code",
      "execution_count": null,
      "metadata": {
        "id": "EXpw9MsaWVEh"
      },
      "outputs": [],
      "source": [
        "def get_weather_data(self, lat, lon):\n",
        "        try:\n",
        "            weather_url = \"https://api.open-meteo.com/v1/forecast\"\n",
        "            params = {\n",
        "                'latitude': lat,\n",
        "                'longitude': lon,\n",
        "                'current': 'temperature_2m,relative_humidity_2m,wind_speed_10m,weather_code',\n",
        "                'daily': 'weather_code,temperature_2m_max,temperature_2m_min',\n",
        "                'temperature_unit': 'fahrenheit',\n",
        "                'timezone': 'auto',\n",
        "                'forecast_days': 5\n",
        "            }\n",
        "            response = requests.get(weather_url, params=params)\n",
        "            response.raise_for_status()\n",
        "            return response.json()\n",
        "        except Exception as e:\n",
        "            messagebox.showerror(\"Error\", f\"Weather API error: {str(e)}\")\n",
        "            return None\n"
      ]
    },
    {
      "cell_type": "code",
      "execution_count": null,
      "metadata": {
        "id": "5SyYcnSqWVHT"
      },
      "outputs": [],
      "source": [
        "def update_current_weather(self, data):\n",
        "        for widget in self.current_frame.winfo_children():\n",
        "            widget.destroy()\n",
        "\n",
        "        current = data['current']\n",
        "        weather_code = current['weather_code']\n",
        "\n",
        "        ttk.Label(self.current_frame,\n",
        "                 text=f\"{self.weather_icons.get(weather_code, '❓')}\",\n",
        "                 font=('Arial', 48)).grid(row=0, column=0, rowspan=2)\n",
        "\n",
        "        ttk.Label(self.current_frame,\n",
        "                 text=f\"{current['temperature_2m']}°F\\n\"\n",
        "                      f\"Humidity: {current['relative_humidity_2m']}%\\n\"\n",
        "                      f\"Wind: {current['wind_speed_10m']} mph\",\n",
        "                 font=('Arial', 14)).grid(row=0, column=1)"
      ]
    },
    {
      "cell_type": "code",
      "execution_count": null,
      "metadata": {
        "id": "3cLHLNt7WVKy"
      },
      "outputs": [],
      "source": [
        "def update_forecast(self, data):\n",
        "        for widget in self.forecast_frame.winfo_children():\n",
        "            widget.destroy()\n",
        "\n",
        "        for i, day in enumerate(data['daily']['time']):\n",
        "            frame = ttk.Frame(self.forecast_frame)\n",
        "            frame.grid(row=0, column=i, padx=10, pady=5)\n",
        "\n",
        "            date = datetime.strptime(day, '%Y-%m-%d').strftime('%a, %b %d')\n",
        "            code = data['daily']['weather_code'][i]\n",
        "\n",
        "            ttk.Label(frame, text=date).grid(row=0, column=0)\n",
        "            ttk.Label(frame,\n",
        "                     text=self.weather_icons.get(code, '❓'),\n",
        "                     font=('Arial', 24)).grid(row=1, column=0)\n",
        "            ttk.Label(frame,\n",
        "                     text=f\"↑{data['daily']['temperature_2m_max'][i]}°\\n\"\n",
        "                          f\"↓{data['daily']['temperature_2m_min'][i]}°\").grid(row=2, column=0)\n"
      ]
    },
    {
      "cell_type": "code",
      "execution_count": null,
      "metadata": {
        "id": "agwU0JfMWu6L"
      },
      "outputs": [],
      "source": [
        "def get_weather(self):\n",
        "        location = self.location_entry.get()\n",
        "        if not location:\n",
        "            messagebox.showwarning(\"Input Error\", \"Please enter a location\")\n",
        "            return\n",
        "\n",
        "        coords = self.get_coordinates(location)\n",
        "        if not coords:\n",
        "            return\n",
        "\n",
        "        weather_data = self.get_weather_data(*coords)\n",
        "        if weather_data:\n",
        "            self.update_current_weather(weather_data)\n",
        "            self.update_forecast(weather_data)\n",
        "\n"
      ]
    },
    {
      "cell_type": "code",
      "execution_count": null,
      "metadata": {
        "colab": {
          "base_uri": "https://localhost:8080/"
        },
        "id": "VOY5toYDWvI7",
        "outputId": "408576e4-7f79-48a8-f45b-2c4f02182cc3"
      },
      "outputs": [
        {
          "name": "stdout",
          "output_type": "stream",
          "text": [
            "Requirement already satisfied: Pillow in /usr/local/lib/python3.11/dist-packages (11.1.0)\n"
          ]
        }
      ],
      "source": [
        "!pip install Pillow"
      ]
    },
    {
      "cell_type": "code",
      "execution_count": null,
      "metadata": {
        "colab": {
          "base_uri": "https://localhost:8080/"
        },
        "id": "ALTD0h0nYYlp",
        "outputId": "ac7d7d8b-d02c-4836-f488-bbf36a6bb151"
      },
      "outputs": [
        {
          "name": "stdout",
          "output_type": "stream",
          "text": [
            "Reading package lists... Done\n",
            "Building dependency tree... Done\n",
            "Reading state information... Done\n",
            "The following additional packages will be installed:\n",
            "  libfontenc1 libxfont2 libxkbfile1 x11-xkb-utils xfonts-base xfonts-encodings xfonts-utils\n",
            "  xserver-common\n",
            "The following NEW packages will be installed:\n",
            "  libfontenc1 libxfont2 libxkbfile1 x11-xkb-utils xfonts-base xfonts-encodings xfonts-utils\n",
            "  xserver-common xvfb\n",
            "0 upgraded, 9 newly installed, 0 to remove and 30 not upgraded.\n",
            "Need to get 7,817 kB of archives.\n",
            "After this operation, 12.0 MB of additional disk space will be used.\n",
            "Get:1 http://archive.ubuntu.com/ubuntu jammy/main amd64 libfontenc1 amd64 1:1.1.4-1build3 [14.7 kB]\n",
            "Get:2 http://archive.ubuntu.com/ubuntu jammy/main amd64 libxfont2 amd64 1:2.0.5-1build1 [94.5 kB]\n",
            "Get:3 http://archive.ubuntu.com/ubuntu jammy/main amd64 libxkbfile1 amd64 1:1.1.0-1build3 [71.8 kB]\n",
            "Get:4 http://archive.ubuntu.com/ubuntu jammy/main amd64 x11-xkb-utils amd64 7.7+5build4 [172 kB]\n",
            "Get:5 http://archive.ubuntu.com/ubuntu jammy/main amd64 xfonts-encodings all 1:1.0.5-0ubuntu2 [578 kB]\n",
            "Get:6 http://archive.ubuntu.com/ubuntu jammy/main amd64 xfonts-utils amd64 1:7.7+6build2 [94.6 kB]\n",
            "Get:7 http://archive.ubuntu.com/ubuntu jammy/main amd64 xfonts-base all 1:1.0.5 [5,896 kB]\n",
            "Get:8 http://archive.ubuntu.com/ubuntu jammy-updates/main amd64 xserver-common all 2:21.1.4-2ubuntu1.7~22.04.14 [29.2 kB]\n",
            "Get:9 http://archive.ubuntu.com/ubuntu jammy-updates/universe amd64 xvfb amd64 2:21.1.4-2ubuntu1.7~22.04.14 [866 kB]\n",
            "Fetched 7,817 kB in 1s (7,168 kB/s)\n",
            "Selecting previously unselected package libfontenc1:amd64.\n",
            "(Reading database ... 126213 files and directories currently installed.)\n",
            "Preparing to unpack .../0-libfontenc1_1%3a1.1.4-1build3_amd64.deb ...\n",
            "Unpacking libfontenc1:amd64 (1:1.1.4-1build3) ...\n",
            "Selecting previously unselected package libxfont2:amd64.\n",
            "Preparing to unpack .../1-libxfont2_1%3a2.0.5-1build1_amd64.deb ...\n",
            "Unpacking libxfont2:amd64 (1:2.0.5-1build1) ...\n",
            "Selecting previously unselected package libxkbfile1:amd64.\n",
            "Preparing to unpack .../2-libxkbfile1_1%3a1.1.0-1build3_amd64.deb ...\n",
            "Unpacking libxkbfile1:amd64 (1:1.1.0-1build3) ...\n",
            "Selecting previously unselected package x11-xkb-utils.\n",
            "Preparing to unpack .../3-x11-xkb-utils_7.7+5build4_amd64.deb ...\n",
            "Unpacking x11-xkb-utils (7.7+5build4) ...\n",
            "Selecting previously unselected package xfonts-encodings.\n",
            "Preparing to unpack .../4-xfonts-encodings_1%3a1.0.5-0ubuntu2_all.deb ...\n",
            "Unpacking xfonts-encodings (1:1.0.5-0ubuntu2) ...\n",
            "Selecting previously unselected package xfonts-utils.\n",
            "Preparing to unpack .../5-xfonts-utils_1%3a7.7+6build2_amd64.deb ...\n",
            "Unpacking xfonts-utils (1:7.7+6build2) ...\n",
            "Selecting previously unselected package xfonts-base.\n",
            "Preparing to unpack .../6-xfonts-base_1%3a1.0.5_all.deb ...\n",
            "Unpacking xfonts-base (1:1.0.5) ...\n",
            "Selecting previously unselected package xserver-common.\n",
            "Preparing to unpack .../7-xserver-common_2%3a21.1.4-2ubuntu1.7~22.04.14_all.deb ...\n",
            "Unpacking xserver-common (2:21.1.4-2ubuntu1.7~22.04.14) ...\n",
            "Selecting previously unselected package xvfb.\n",
            "Preparing to unpack .../8-xvfb_2%3a21.1.4-2ubuntu1.7~22.04.14_amd64.deb ...\n",
            "Unpacking xvfb (2:21.1.4-2ubuntu1.7~22.04.14) ...\n",
            "Setting up libfontenc1:amd64 (1:1.1.4-1build3) ...\n",
            "Setting up xfonts-encodings (1:1.0.5-0ubuntu2) ...\n",
            "Setting up libxkbfile1:amd64 (1:1.1.0-1build3) ...\n",
            "Setting up libxfont2:amd64 (1:2.0.5-1build1) ...\n",
            "Setting up x11-xkb-utils (7.7+5build4) ...\n",
            "Setting up xfonts-utils (1:7.7+6build2) ...\n",
            "Setting up xfonts-base (1:1.0.5) ...\n",
            "Setting up xserver-common (2:21.1.4-2ubuntu1.7~22.04.14) ...\n",
            "Setting up xvfb (2:21.1.4-2ubuntu1.7~22.04.14) ...\n",
            "Processing triggers for man-db (2.10.2-1) ...\n",
            "Processing triggers for fontconfig (2.13.1-4.2ubuntu5) ...\n",
            "Processing triggers for libc-bin (2.35-0ubuntu3.8) ...\n",
            "/sbin/ldconfig.real: /usr/local/lib/libtbbmalloc_proxy.so.2 is not a symbolic link\n",
            "\n",
            "/sbin/ldconfig.real: /usr/local/lib/libtbbmalloc.so.2 is not a symbolic link\n",
            "\n",
            "/sbin/ldconfig.real: /usr/local/lib/libtcm_debug.so.1 is not a symbolic link\n",
            "\n",
            "/sbin/ldconfig.real: /usr/local/lib/libumf.so.0 is not a symbolic link\n",
            "\n",
            "/sbin/ldconfig.real: /usr/local/lib/libur_adapter_level_zero.so.0 is not a symbolic link\n",
            "\n",
            "/sbin/ldconfig.real: /usr/local/lib/libhwloc.so.15 is not a symbolic link\n",
            "\n",
            "/sbin/ldconfig.real: /usr/local/lib/libur_loader.so.0 is not a symbolic link\n",
            "\n",
            "/sbin/ldconfig.real: /usr/local/lib/libtbbbind_2_0.so.3 is not a symbolic link\n",
            "\n",
            "/sbin/ldconfig.real: /usr/local/lib/libur_adapter_opencl.so.0 is not a symbolic link\n",
            "\n",
            "/sbin/ldconfig.real: /usr/local/lib/libtcm.so.1 is not a symbolic link\n",
            "\n",
            "/sbin/ldconfig.real: /usr/local/lib/libtbb.so.12 is not a symbolic link\n",
            "\n",
            "/sbin/ldconfig.real: /usr/local/lib/libtbbbind_2_5.so.3 is not a symbolic link\n",
            "\n",
            "/sbin/ldconfig.real: /usr/local/lib/libtbbbind.so.3 is not a symbolic link\n",
            "\n",
            "Requirement already satisfied: Pillow in /usr/local/lib/python3.11/dist-packages (11.1.0)\n"
          ]
        }
      ],
      "source": [
        "!apt-get install -y xvfb # Install X virtual frame buffer\n",
        "import os\n",
        "os.system('Xvfb :1 -screen 0 1600x1200x16 &')    # create virtual display with size 1600x1200 and 16 bit color. Color can be changed to 24 or 8\n",
        "os.environ['DISPLAY']=':1'    # tell X clients to use our virtual DISPLAY :1\n",
        "\n",
        "\n",
        "!pip install Pillow\n",
        "import tkinter as tk\n",
        "from PIL import Image, ImageTk, ImageDraw, ImageFont\n",
        "import io\n"
      ]
    },
    {
      "cell_type": "code",
      "execution_count": null,
      "metadata": {
        "colab": {
          "base_uri": "https://localhost:8080/",
          "height": 453
        },
        "id": "a5NnrKEvXXlD",
        "outputId": "724a4ad3-a8ce-4d82-a8bb-824fe6291f07"
      },
      "outputs": [
        {
          "data": {
            "image/png": "[encoded data removed]",
            "text/plain": [
              "<Figure size 640x480 with 1 Axes>"
            ]
          },
          "metadata": {},
          "output_type": "display_data"
        },
        {
          "data": {
            "image/png": "[encoded data removed]",
            "text/plain": [
              "<Figure size 640x480 with 1 Axes>"
            ]
          },
          "metadata": {},
          "output_type": "display_data"
        }
      ],
      "source": [
        "import tkinter as tk\n",
        "from PIL import Image, ImageTk, ImageDraw, ImageFont\n",
        "import io\n",
        "import matplotlib.pyplot as plt\n",
        "import numpy as np\n",
        "\n",
        "class WeatherApp:\n",
        "    def __init__(self, root=None):\n",
        "        self.current_frame = None  # No Tkinter frame needed for Jupyter\n",
        "\n",
        "    def update_current_weather(self, weather_data):\n",
        "        # Create an image (for example, a simple blank image with some text)\n",
        "        img = Image.new('RGB', (200, 100), color=(255, 255, 255))\n",
        "        draw = ImageDraw.Draw(img)\n",
        "\n",
        "        # Load a larger font\n",
        "        try:\n",
        "            font = ImageFont.truetype(\"arial.ttf\", 20)  # You can specify the size here\n",
        "        except IOError:\n",
        "            font = ImageFont.load_default()\n",
        "\n",
        "        draw.text((10, 25), \"Weather: Sunny\", font=font, fill=(0, 0, 0))\n",
        "\n",
        "        # Display the image using matplotlib (suitable for Jupyter)\n",
        "        plt.imshow(img)\n",
        "        plt.axis('off')  # Turn off axis labels\n",
        "        plt.show()\n",
        "\n",
        "    def display_5_day_forecast(self, forecast_data):\n",
        "        # Create an image with a white background for the forecast display\n",
        "        img_width = 1000\n",
        "        img_height = 300\n",
        "        img = Image.new('RGB', (img_width, img_height), color=(255, 255, 255))\n",
        "        draw = ImageDraw.Draw(img)\n",
        "\n",
        "        # Load a larger font\n",
        "        try:\n",
        "            font = ImageFont.truetype(\"arial.ttf\", 50)  # You can specify the size here\n",
        "        except IOError:\n",
        "            font = ImageFont.load_default()\n",
        "\n",
        "        # Draw the title\n",
        "        draw.text((10, 10), \"5-Day Weather Forecast\", font=font, fill=(0, 0, 0))\n",
        "\n",
        "        # Create a simple grid for 5-day forecast (each day will have a small rectangle)\n",
        "        days = ['Day 1', 'Day 2', 'Day 3', 'Day 4', 'Day 5']\n",
        "        temps = [25, 22, 28, 26, 23]  # Example temperatures in Celsius\n",
        "        conditions = ['Sunny', 'Cloudy', 'Rainy', 'Sunny', 'Partly Cloudy']\n",
        "\n",
        "        day_width = img_width // 5\n",
        "        for i in range(5):\n",
        "            # Draw the day box\n",
        "            day_box_x = i * day_width\n",
        "            draw.rectangle([day_box_x, 50, day_box_x + day_width, img_height - 50], outline=(0, 0, 0), width=10)\n",
        "\n",
        "            # Add text (Day, Temperature, Condition)\n",
        "            draw.text((day_box_x + 100, 160), days[i], font=font, fill=(0, 0, 0))\n",
        "            draw.text((day_box_x + 100, 180), f\"{temps[i]}°C\", font=font, fill=(0, 0, 0))\n",
        "            draw.text((day_box_x + 100, 200), conditions[i], font=font, fill=(0, 0, 0))\n",
        "\n",
        "        # Display the forecast image using matplotlib\n",
        "        plt.imshow(img)\n",
        "        plt.axis('off')  # Hide axes for a cleaner look\n",
        "        plt.show()\n",
        "\n",
        "# Initialize the WeatherApp\n",
        "weather_app = WeatherApp()\n",
        "\n",
        "# Example weather data (for 5 days)\n",
        "weather_data = None  # Placeholder for actual data\n",
        "forecast_data = [\n",
        "    {'day': 'Day 1', 'temp': 25, 'condition': 'Sunny'},\n",
        "    {'day': 'Day 2', 'temp': 22, 'condition': 'Cloudy'},\n",
        "    {'day': 'Day 3', 'temp': 28, 'condition': 'Rainy'},\n",
        "    {'day': 'Day 4', 'temp': 26, 'condition': 'Sunny'},\n",
        "    {'day': 'Day 5', 'temp': 23, 'condition': 'Partly Cloudy'}\n",
        "]\n",
        "\n",
        "# Update the current weather (optional)\n",
        "weather_app.update_current_weather(weather_data)\n",
        "\n",
        "# Display the 5-day forecast\n",
        "weather_app.display_5_day_forecast(forecast_data)\n"
      ]
    },
    {
      "cell_type": "code",
      "execution_count": null,
      "metadata": {
        "colab": {
          "base_uri": "https://localhost:8080/"
        },
        "id": "yUf0OIe2XXty",
        "outputId": "5d8df004-7a19-4b11-d9d1-4843435e2d21"
      },
      "outputs": [
        {
          "name": "stdout",
          "output_type": "stream",
          "text": [
            "An error occurred while fetching weather data: 404 Client Error: Not Found for url: http://api.openweathermap.org/data/2.5/weather?q=Nonexistent+City&appid=9c7781a942e6115d80f8c530fefe9b85\n",
            "Could not retrieve weather data.\n"
          ]
        }
      ],
      "source": [
        "import requests\n",
        "\n",
        "class WeatherApp:\n",
        "    def __init__(self):\n",
        "        self.api_key = '9c7781a942e6115d80f8c530fefe9b85'\n",
        "        self.base_url = 'http://api.openweathermap.org/data/2.5/weather'\n",
        "\n",
        "    def get_weather(self, city):\n",
        "        try:\n",
        "            # Sending a request to the weather API\n",
        "            response = requests.get(self.base_url, params={'q': city, 'appid': self.api_key})\n",
        "            response.raise_for_status()  # Raise an exception for 4xx/5xx responses\n",
        "\n",
        "            # If city not found, API will return a specific error\n",
        "            if response.status_code == 404:\n",
        "                raise ValueError(\"City not found. Please enter a valid city name.\")\n",
        "\n",
        "            data = response.json()\n",
        "            return data\n",
        "        except requests.exceptions.RequestException as e:\n",
        "            print(f\"An error occurred while fetching weather data: {e}\")\n",
        "        except ValueError as ve:\n",
        "            print(ve)\n",
        "        except Exception as e:\n",
        "            print(f\"Unexpected error: {e}\")\n",
        "\n",
        "    def display_weather(self, city):\n",
        "        weather_data = self.get_weather(city)\n",
        "        if weather_data:\n",
        "            # If data is returned, show the weather\n",
        "            print(f\"Weather in {city}: {weather_data['weather'][0]['description']}\")\n",
        "        else:\n",
        "            print(\"Could not retrieve weather data.\")\n",
        "\n",
        "# Example usage\n",
        "weather_app = WeatherApp()\n",
        "weather_app.display_weather(\"Nonexistent City\")  # This will trigger a city not found error\n"
      ]
    }
  ],
  "metadata": {
    "colab": {
      "provenance": [],
      "authorship_tag": "ABX9TyOBVpIIbHnjITz4+BNoT3di",
      "include_colab_link": true
    },
    "kernelspec": {
      "display_name": "Python 3",
      "name": "python3"
    },
    "language_info": {
      "name": "python"
    }
  },
  "nbformat": 4,
  "nbformat_minor": 0
}