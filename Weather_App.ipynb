{
  "nbformat": 4,
  "nbformat_minor": 0,
  "metadata": {
    "colab": {
      "provenance": [],
      "authorship_tag": "ABX9TyOo7Qwp319F/TTUV2xGCRq9",
      "include_colab_link": true
    },
    "kernelspec": {
      "name": "python3",
      "display_name": "Python 3"
    },
    "language_info": {
      "name": "python"
    }
  },
  "cells": [
    {
      "cell_type": "markdown",
      "metadata": {
        "id": "view-in-github",
        "colab_type": "text"
      },
      "source": [
        "<a href=\"https://colab.research.google.com/github/Veena7580/Homework/blob/main/Weather_App.ipynb\" target=\"_parent\"><img src=\"https://colab.research.google.com/assets/colab-badge.svg\" alt=\"Open In Colab\"/></a>"
      ]
    },
    {
      "cell_type": "markdown",
      "source": [
        "# Make a weather app that:\n",
        "Let users enter a location (any of the following:  Zip Code/Postal Code, GPS Coordinates, Landmarks, Town, City, etc..)  and get the current weather.  You have autonomy to determine how to handle how the user should enter their location\n",
        "Shows the weather clearly, with any details you think are useful.\n",
        "Let users see the weather based on their current location.\n",
        "Use icons or images to make the weather info look cool using any design standards.\n"
      ],
      "metadata": {
        "id": "MYs-ZRD56x1R"
      }
    },
    {
      "cell_type": "code",
      "source": [
        "pip install sqlalchemy sqlite"
      ],
      "metadata": {
        "colab": {
          "base_uri": "https://localhost:8080/"
        },
        "id": "C2myNETRG2J5",
        "outputId": "2f3ab6d2-a2e0-440f-c271-f1c9a7586580"
      },
      "execution_count": null,
      "outputs": [
        {
          "output_type": "stream",
          "name": "stdout",
          "text": [
            "Requirement already satisfied: sqlalchemy in /usr/local/lib/python3.11/dist-packages (2.0.40)\n",
            "\u001b[31mERROR: Could not find a version that satisfies the requirement sqlite (from versions: none)\u001b[0m\u001b[31m\n",
            "\u001b[0m\u001b[31mERROR: No matching distribution found for sqlite\u001b[0m\u001b[31m\n",
            "\u001b[0m"
          ]
        }
      ]
    },
    {
      "cell_type": "code",
      "source": [
        "from sqlalchemy import create_engine, Column, Integer, String\n",
        "from sqlalchemy.ext.declarative import declarative_base\n",
        "from sqlalchemy.orm import sessionmaker\n",
        "\n",
        "# Define the base class for SQLAlchemy models\n",
        "Base = declarative_base()\n",
        "\n",
        "# Define the Location model (table)\n",
        "class Location(Base):\n",
        "    __tablename__ = 'locations'\n",
        "\n",
        "    id = Column(Integer, primary_key=True)\n",
        "    key = Column(String, unique=True)\n",
        "    name = Column(String)\n",
        "    status = Column(String)\n",
        "\n",
        "# Create an SQLite database (or replace with your database URL)\n",
        "DATABASE_URL = \"sqlite:///locations.db\"\n",
        "engine = create_engine(DATABASE_URL, echo=True)\n",
        "\n",
        "# Create the database tables if they don't exist\n",
        "Base.metadata.create_all(engine)\n",
        "\n",
        "# Create a session to interact with the database\n",
        "Session = sessionmaker(bind=engine)\n",
        "session = Session()\n",
        "\n",
        "# Insert a record for testing\n",
        "def add_sample_data():\n",
        "    # Sample record for \"Saint Louis\"\n",
        "    sample_location = Location(\n",
        "        key='9c7781a942e6115d80f8b530fefe9b85',  # Unique key\n",
        "        name='Saint Louis',\n",
        "        status='Active'\n",
        "    )\n",
        "    session.add(sample_location)\n",
        "    session.commit()\n",
        "\n",
        "# Function to query and get the location by name\n",
        "def get_location_by_name(name):\n",
        "    location = session.query(Location).filter(Location.name == name).first()\n",
        "    return location\n",
        "\n",
        "# Function to update the status of a location\n",
        "def update_location_status(name, new_status):\n",
        "    location = session.query(Location).filter(Location.name == name).first()\n",
        "    if location:\n",
        "        location.status = new_status\n",
        "        session.commit()\n",
        "        return f\"Status of {name} updated to {new_status}\"\n",
        "    else:\n",
        "        return f\"Location {name} not found.\"\n",
        "\n",
        "# Uncomment this to add sample data (run once)\n",
        "# add_sample_data()\n",
        "\n",
        "# Example: Get \"Saint Louis\" location\n",
        "location = get_location_by_name(\"Saint Louis\")\n",
        "if location:\n",
        "    print(f\"Location: {location.name}, Status: {location.status}\")\n",
        "else:\n",
        "    print(\"Location not found.\")\n",
        "\n",
        "# Example: Update status of \"Saint Louis\" to \"Inactive\"\n",
        "update_message = update_location_status(\"Saint Louis\", \"Inactive\")\n",
        "print(update_message)\n",
        "\n",
        "# Confirm the update by getting the location again\n",
        "location = get_location_by_name(\"Saint Louis\")\n",
        "if location:\n",
        "    print(f\"Updated Location: {location.name}, Status: {location.status}\")\n"
      ],
      "metadata": {
        "colab": {
          "base_uri": "https://localhost:8080/"
        },
        "id": "zEOzFu46G2MB",
        "outputId": "ceed030f-eeab-4799-a687-5e7fe3b8d3df",
        "collapsed": true
      },
      "execution_count": null,
      "outputs": [
        {
          "output_type": "stream",
          "name": "stdout",
          "text": [
            "2025-04-04 23:21:13,874 INFO sqlalchemy.engine.Engine BEGIN (implicit)\n"
          ]
        },
        {
          "output_type": "stream",
          "name": "stderr",
          "text": [
            "<ipython-input-14-6f0c001b3eff>:6: MovedIn20Warning: The ``declarative_base()`` function is now available as sqlalchemy.orm.declarative_base(). (deprecated since: 2.0) (Background on SQLAlchemy 2.0 at: https://sqlalche.me/e/b8d9)\n",
            "  Base = declarative_base()\n",
            "INFO:sqlalchemy.engine.Engine:BEGIN (implicit)\n"
          ]
        },
        {
          "output_type": "stream",
          "name": "stdout",
          "text": [
            "2025-04-04 23:21:13,880 INFO sqlalchemy.engine.Engine PRAGMA main.table_info(\"locations\")\n"
          ]
        },
        {
          "output_type": "stream",
          "name": "stderr",
          "text": [
            "INFO:sqlalchemy.engine.Engine:PRAGMA main.table_info(\"locations\")\n"
          ]
        },
        {
          "output_type": "stream",
          "name": "stdout",
          "text": [
            "2025-04-04 23:21:13,884 INFO sqlalchemy.engine.Engine [raw sql] ()\n"
          ]
        },
        {
          "output_type": "stream",
          "name": "stderr",
          "text": [
            "INFO:sqlalchemy.engine.Engine:[raw sql] ()\n"
          ]
        },
        {
          "output_type": "stream",
          "name": "stdout",
          "text": [
            "2025-04-04 23:21:13,893 INFO sqlalchemy.engine.Engine PRAGMA temp.table_info(\"locations\")\n"
          ]
        },
        {
          "output_type": "stream",
          "name": "stderr",
          "text": [
            "INFO:sqlalchemy.engine.Engine:PRAGMA temp.table_info(\"locations\")\n"
          ]
        },
        {
          "output_type": "stream",
          "name": "stdout",
          "text": [
            "2025-04-04 23:21:13,897 INFO sqlalchemy.engine.Engine [raw sql] ()\n"
          ]
        },
        {
          "output_type": "stream",
          "name": "stderr",
          "text": [
            "INFO:sqlalchemy.engine.Engine:[raw sql] ()\n"
          ]
        },
        {
          "output_type": "stream",
          "name": "stdout",
          "text": [
            "2025-04-04 23:21:13,901 INFO sqlalchemy.engine.Engine \n",
            "CREATE TABLE locations (\n",
            "\tid INTEGER NOT NULL, \n",
            "\t\"key\" VARCHAR, \n",
            "\tname VARCHAR, \n",
            "\tstatus VARCHAR, \n",
            "\tPRIMARY KEY (id), \n",
            "\tUNIQUE (\"key\")\n",
            ")\n",
            "\n",
            "\n"
          ]
        },
        {
          "output_type": "stream",
          "name": "stderr",
          "text": [
            "INFO:sqlalchemy.engine.Engine:\n",
            "CREATE TABLE locations (\n",
            "\tid INTEGER NOT NULL, \n",
            "\t\"key\" VARCHAR, \n",
            "\tname VARCHAR, \n",
            "\tstatus VARCHAR, \n",
            "\tPRIMARY KEY (id), \n",
            "\tUNIQUE (\"key\")\n",
            ")\n",
            "\n",
            "\n"
          ]
        },
        {
          "output_type": "stream",
          "name": "stdout",
          "text": [
            "2025-04-04 23:21:13,905 INFO sqlalchemy.engine.Engine [no key 0.00378s] ()\n"
          ]
        },
        {
          "output_type": "stream",
          "name": "stderr",
          "text": [
            "INFO:sqlalchemy.engine.Engine:[no key 0.00378s] ()\n"
          ]
        },
        {
          "output_type": "stream",
          "name": "stdout",
          "text": [
            "2025-04-04 23:21:13,925 INFO sqlalchemy.engine.Engine COMMIT\n"
          ]
        },
        {
          "output_type": "stream",
          "name": "stderr",
          "text": [
            "INFO:sqlalchemy.engine.Engine:COMMIT\n"
          ]
        },
        {
          "output_type": "stream",
          "name": "stdout",
          "text": [
            "2025-04-04 23:21:13,932 INFO sqlalchemy.engine.Engine BEGIN (implicit)\n"
          ]
        },
        {
          "output_type": "stream",
          "name": "stderr",
          "text": [
            "INFO:sqlalchemy.engine.Engine:BEGIN (implicit)\n"
          ]
        },
        {
          "output_type": "stream",
          "name": "stdout",
          "text": [
            "2025-04-04 23:21:13,939 INFO sqlalchemy.engine.Engine SELECT locations.id AS locations_id, locations.\"key\" AS locations_key, locations.name AS locations_name, locations.status AS locations_status \n",
            "FROM locations \n",
            "WHERE locations.name = ?\n",
            " LIMIT ? OFFSET ?\n"
          ]
        },
        {
          "output_type": "stream",
          "name": "stderr",
          "text": [
            "INFO:sqlalchemy.engine.Engine:SELECT locations.id AS locations_id, locations.\"key\" AS locations_key, locations.name AS locations_name, locations.status AS locations_status \n",
            "FROM locations \n",
            "WHERE locations.name = ?\n",
            " LIMIT ? OFFSET ?\n"
          ]
        },
        {
          "output_type": "stream",
          "name": "stdout",
          "text": [
            "2025-04-04 23:21:13,945 INFO sqlalchemy.engine.Engine [generated in 0.00580s] ('Saint Louis', 1, 0)\n"
          ]
        },
        {
          "output_type": "stream",
          "name": "stderr",
          "text": [
            "INFO:sqlalchemy.engine.Engine:[generated in 0.00580s] ('Saint Louis', 1, 0)\n"
          ]
        },
        {
          "output_type": "stream",
          "name": "stdout",
          "text": [
            "Location not found.\n",
            "2025-04-04 23:21:13,950 INFO sqlalchemy.engine.Engine SELECT locations.id AS locations_id, locations.\"key\" AS locations_key, locations.name AS locations_name, locations.status AS locations_status \n",
            "FROM locations \n",
            "WHERE locations.name = ?\n",
            " LIMIT ? OFFSET ?\n"
          ]
        },
        {
          "output_type": "stream",
          "name": "stderr",
          "text": [
            "INFO:sqlalchemy.engine.Engine:SELECT locations.id AS locations_id, locations.\"key\" AS locations_key, locations.name AS locations_name, locations.status AS locations_status \n",
            "FROM locations \n",
            "WHERE locations.name = ?\n",
            " LIMIT ? OFFSET ?\n"
          ]
        },
        {
          "output_type": "stream",
          "name": "stdout",
          "text": [
            "2025-04-04 23:21:13,953 INFO sqlalchemy.engine.Engine [cached since 0.01393s ago] ('Saint Louis', 1, 0)\n"
          ]
        },
        {
          "output_type": "stream",
          "name": "stderr",
          "text": [
            "INFO:sqlalchemy.engine.Engine:[cached since 0.01393s ago] ('Saint Louis', 1, 0)\n"
          ]
        },
        {
          "output_type": "stream",
          "name": "stdout",
          "text": [
            "Location Saint Louis not found.\n",
            "2025-04-04 23:21:13,958 INFO sqlalchemy.engine.Engine SELECT locations.id AS locations_id, locations.\"key\" AS locations_key, locations.name AS locations_name, locations.status AS locations_status \n",
            "FROM locations \n",
            "WHERE locations.name = ?\n",
            " LIMIT ? OFFSET ?\n"
          ]
        },
        {
          "output_type": "stream",
          "name": "stderr",
          "text": [
            "INFO:sqlalchemy.engine.Engine:SELECT locations.id AS locations_id, locations.\"key\" AS locations_key, locations.name AS locations_name, locations.status AS locations_status \n",
            "FROM locations \n",
            "WHERE locations.name = ?\n",
            " LIMIT ? OFFSET ?\n"
          ]
        },
        {
          "output_type": "stream",
          "name": "stdout",
          "text": [
            "2025-04-04 23:21:13,961 INFO sqlalchemy.engine.Engine [cached since 0.02187s ago] ('Saint Louis', 1, 0)\n"
          ]
        },
        {
          "output_type": "stream",
          "name": "stderr",
          "text": [
            "INFO:sqlalchemy.engine.Engine:[cached since 0.02187s ago] ('Saint Louis', 1, 0)\n"
          ]
        }
      ]
    },
    {
      "cell_type": "code",
      "source": [
        "pip install flask requests"
      ],
      "metadata": {
        "colab": {
          "base_uri": "https://localhost:8080/"
        },
        "id": "adHC3kb1G2Pf",
        "outputId": "82669530-df32-4bc4-c170-804271230f18",
        "collapsed": true
      },
      "execution_count": null,
      "outputs": [
        {
          "output_type": "stream",
          "name": "stdout",
          "text": [
            "Requirement already satisfied: flask in /usr/local/lib/python3.11/dist-packages (3.1.0)\n",
            "Requirement already satisfied: requests in /usr/local/lib/python3.11/dist-packages (2.32.3)\n",
            "Requirement already satisfied: Werkzeug>=3.1 in /usr/local/lib/python3.11/dist-packages (from flask) (3.1.3)\n",
            "Requirement already satisfied: Jinja2>=3.1.2 in /usr/local/lib/python3.11/dist-packages (from flask) (3.1.6)\n",
            "Requirement already satisfied: itsdangerous>=2.2 in /usr/local/lib/python3.11/dist-packages (from flask) (2.2.0)\n",
            "Requirement already satisfied: click>=8.1.3 in /usr/local/lib/python3.11/dist-packages (from flask) (8.1.8)\n",
            "Requirement already satisfied: blinker>=1.9 in /usr/local/lib/python3.11/dist-packages (from flask) (1.9.0)\n",
            "Requirement already satisfied: charset-normalizer<4,>=2 in /usr/local/lib/python3.11/dist-packages (from requests) (3.4.1)\n",
            "Requirement already satisfied: idna<4,>=2.5 in /usr/local/lib/python3.11/dist-packages (from requests) (3.10)\n",
            "Requirement already satisfied: urllib3<3,>=1.21.1 in /usr/local/lib/python3.11/dist-packages (from requests) (1.26.20)\n",
            "Requirement already satisfied: certifi>=2017.4.17 in /usr/local/lib/python3.11/dist-packages (from requests) (2025.1.31)\n",
            "Requirement already satisfied: MarkupSafe>=2.0 in /usr/local/lib/python3.11/dist-packages (from Jinja2>=3.1.2->flask) (3.0.2)\n"
          ]
        }
      ]
    },
    {
      "cell_type": "code",
      "source": [
        "from flask import Flask, render_template\n",
        "import requests\n",
        "\n",
        "# Initialize Flask app\n",
        "app = Flask(__name__)\n",
        "\n",
        "# API key for weather API (replace with your actual key)\n",
        "API_KEY = \"your_weather_api_key\"\n",
        "BASE_URL = \"http://api.openweathermap.org/data/2.5/weather\"\n",
        "\n",
        "# Function to get weather data from OpenWeatherMap API\n",
        "def get_weather(city_name):\n",
        "    params = {\n",
        "        'q': city_name,\n",
        "        'appid': API_KEY,\n",
        "        'units': 'metric'  # For Celsius temperature, you can change this to 'imperial' for Fahrenheit\n",
        "    }\n",
        "    response = requests.get(BASE_URL, params=params)\n",
        "    return response.json()\n",
        "\n",
        "# Route for the dashboard\n",
        "@app.route('/')\n",
        "def dashboard():\n",
        "    # Get the location from the database\n",
        "    location = get_location_by_name(\"Saint Louis\")\n",
        "    if location:\n",
        "        weather_data = get_weather(location.name)\n",
        "        if weather_data.get(\"cod\") == 200:\n",
        "            main_data = weather_data[\"main\"]\n",
        "            weather_info = weather_data[\"weather\"][0]\n",
        "            return render_template(\"dashboard.html\", location=location, main_data=main_data, weather_info=weather_info)\n",
        "        else:\n",
        "            return render_template(\"dashboard.html\", error=\"City not found.\")\n",
        "    else:\n",
        "        return \"Location not found in database.\"\n",
        "\n",
        "# Run the Flask app\n",
        "if __name__ == '__main__':\n",
        "    app.run(debug=True)\n"
      ],
      "metadata": {
        "colab": {
          "base_uri": "https://localhost:8080/"
        },
        "id": "3-Gv_TuBIcVk",
        "outputId": "07de0f61-d929-4093-995f-4ea7017cb516",
        "collapsed": true
      },
      "execution_count": null,
      "outputs": [
        {
          "output_type": "stream",
          "name": "stdout",
          "text": [
            " * Serving Flask app '__main__'\n",
            " * Debug mode: on\n"
          ]
        },
        {
          "output_type": "stream",
          "name": "stderr",
          "text": [
            "INFO:werkzeug:\u001b[31m\u001b[1mWARNING: This is a development server. Do not use it in a production deployment. Use a production WSGI server instead.\u001b[0m\n",
            " * Running on http://127.0.0.1:5000\n",
            "INFO:werkzeug:\u001b[33mPress CTRL+C to quit\u001b[0m\n",
            "INFO:werkzeug: * Restarting with stat\n"
          ]
        }
      ]
    }
  ]
}