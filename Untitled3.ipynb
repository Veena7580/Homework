{
  "nbformat": 4,
  "nbformat_minor": 0,
  "metadata": {
    "colab": {
      "provenance": [],
      "authorship_tag": "ABX9TyNW5/3NKSkCqneE6SO5HBpl",
      "include_colab_link": true
    },
    "kernelspec": {
      "name": "python3",
      "display_name": "Python 3"
    },
    "language_info": {
      "name": "python"
    }
  },
  "cells": [
    {
      "cell_type": "markdown",
      "metadata": {
        "id": "view-in-github",
        "colab_type": "text"
      },
      "source": [
        "<a href=\"https://colab.research.google.com/github/Veena7580/Homework/blob/main/Untitled3.ipynb\" target=\"_parent\"><img src=\"https://colab.research.google.com/assets/colab-badge.svg\" alt=\"Open In Colab\"/></a>"
      ]
    },
    {
      "cell_type": "code",
      "execution_count": 1,
      "metadata": {
        "colab": {
          "base_uri": "https://localhost:8080/"
        },
        "id": "jo_0oWSItR-4",
        "outputId": "587aeab5-d1d1-46e7-8aa2-d26479c8edc6"
      },
      "outputs": [
        {
          "output_type": "stream",
          "name": "stdout",
          "text": [
            "veena\n",
            "25\n"
          ]
        }
      ],
      "source": [
        "# Variable Assignment:\n",
        "# Write a Python program to store your name and age in two variables and print them.\n",
        "\n",
        "# Variable assignment\n",
        "name = \"veena\"\n",
        "age = 25\n",
        "\n",
        "# Printing the values\n",
        "print(\"veena\")\n",
        "print(\"25\")\n"
      ]
    },
    {
      "cell_type": "code",
      "source": [
        "# Basic Arithmetic Operations:\n",
        "# Write a Python program that takes two numbers as input and prints their sum, difference, product, and quotient.\n",
        "\n",
        "# Assigning two numbers\n",
        "num1 = 10\n",
        "num2 = 5\n",
        "\n",
        "# Performing arithmetic operations\n",
        "sum_result = num1 + num2\n",
        "difference = num1 - num2\n",
        "product = num1 * num2\n",
        "quotient = num1 / num2\n",
        "\n",
        "# Printing the results\n",
        "print(sum_result)\n",
        "print(difference)\n",
        "print(product)\n",
        "print(quotient)\n"
      ],
      "metadata": {
        "colab": {
          "base_uri": "https://localhost:8080/"
        },
        "id": "02K1NQxltXXS",
        "outputId": "6d6e2692-f77a-4eb5-9d5c-9efc964a8716"
      },
      "execution_count": 5,
      "outputs": [
        {
          "output_type": "stream",
          "name": "stdout",
          "text": [
            "15\n",
            "5\n",
            "50\n",
            "2.0\n"
          ]
        }
      ]
    },
    {
      "cell_type": "code",
      "source": [
        "# Number System Conversion:\n",
        "# Write a Python program to convert a given decimal number to binary, octal, and hexadecimal.\n",
        "\n",
        "# Given decimal number\n",
        "decimal_number = 50\n",
        "\n",
        "# Converting to different number systems\n",
        "binary_number = bin(decimal_number)\n",
        "octal_number = oct(decimal_number)\n",
        "hexadecimal_number = hex(decimal_number)\n",
        "\n",
        "# Printing the results\n",
        "print(\"Decimal:\", decimal_number)\n",
        "print(\"Binary:\", binary_number)\n",
        "print(\"Octal:\", octal_number)\n",
        "print(\"Hexadecimal:\", hexadecimal_number)\n"
      ],
      "metadata": {
        "colab": {
          "base_uri": "https://localhost:8080/"
        },
        "id": "SgMICvYrtXmz",
        "outputId": "36ae2d05-c3af-444d-c32b-566aa061d615"
      },
      "execution_count": 7,
      "outputs": [
        {
          "output_type": "stream",
          "name": "stdout",
          "text": [
            "Decimal: 50\n",
            "Binary: 0b110010\n",
            "Octal: 0o62\n",
            "Hexadecimal: 0x32\n"
          ]
        }
      ]
    },
    {
      "cell_type": "code",
      "source": [
        "# Data Type Checking:\n",
        "# Write a Python program that takes a user input and prints its data type.\n",
        "\n",
        "# Given input (example with an integer, float, and string)\n",
        "x = 42\n",
        "\n",
        "# Checking the data type\n",
        "print(\"The data type of the input is:\", type(x))\n",
        "\n",
        "# Testing with a float input\n",
        "x = 42.5\n",
        "print(\"The data type of the input is:\", type(x))\n",
        "\n",
        "# Testing with a string input\n",
        "x = \"Hello, World!\"\n",
        "print(\"The data type of the input is:\", type(x))\n"
      ],
      "metadata": {
        "colab": {
          "base_uri": "https://localhost:8080/"
        },
        "id": "SFpxRXdqtXy2",
        "outputId": "fbc98090-6734-4fe8-f2f4-cc922a68724c"
      },
      "execution_count": 9,
      "outputs": [
        {
          "output_type": "stream",
          "name": "stdout",
          "text": [
            "The data type of the input is: <class 'int'>\n",
            "The data type of the input is: <class 'float'>\n",
            "The data type of the input is: <class 'str'>\n"
          ]
        }
      ]
    },
    {
      "cell_type": "code",
      "source": [
        "# Swapping Variables:\n",
        "# Write a Python program to swap the values of two variables without using a third variable.\n",
        "\n",
        "# Given two variables\n",
        "a = 10\n",
        "b = 20\n",
        "\n",
        "# Swapping values without using a third variable\n",
        "a, b = b, a\n",
        "\n",
        "# Printing the swapped values\n",
        "print(\"a =\", a)\n",
        "print(\"b =\", b)\n"
      ],
      "metadata": {
        "colab": {
          "base_uri": "https://localhost:8080/"
        },
        "id": "Y17qWKs8tX9h",
        "outputId": "6dfe89d7-6c73-49af-86a1-0e62de40b010"
      },
      "execution_count": 12,
      "outputs": [
        {
          "output_type": "stream",
          "name": "stdout",
          "text": [
            "a = 20\n",
            "b = 10\n"
          ]
        }
      ]
    }
  ]
}