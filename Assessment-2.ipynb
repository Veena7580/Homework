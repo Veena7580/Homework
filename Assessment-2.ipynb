{
  "nbformat": 4,
  "nbformat_minor": 0,
  "metadata": {
    "colab": {
      "provenance": [],
      "authorship_tag": "ABX9TyPfWuXKm0jag9IyCzfGj59b",
      "include_colab_link": true
    },
    "kernelspec": {
      "name": "python3",
      "display_name": "Python 3"
    },
    "language_info": {
      "name": "python"
    }
  },
  "cells": [
    {
      "cell_type": "markdown",
      "metadata": {
        "id": "view-in-github",
        "colab_type": "text"
      },
      "source": [
        "<a href=\"https://colab.research.google.com/github/Veena7580/Homework/blob/main/Assessment-2.ipynb\" target=\"_parent\"><img src=\"https://colab.research.google.com/assets/colab-badge.svg\" alt=\"Open In Colab\"/></a>"
      ]
    },
    {
      "cell_type": "markdown",
      "source": [
        "# 1. Data Types & Variables (10 points)\n",
        "Question: Create three variables: • a (integer)\n",
        "                                  • b (float)\n",
        "                                  • c (string)\n",
        "Write an expression that adds a and b but multiplies the result by the length of c. Print the\n",
        "final result.\n",
        "Example Input:\n",
        "a = 5\n",
        "b = 2.5\n",
        "c = \"Python\"\n",
        "\n",
        "\n",
        "Expected Output:\n",
        "45.0\n",
        "(Explanation: (5 + 2.5) * 6 = 45.0)"
      ],
      "metadata": {
        "id": "2rMBZ_22yDPJ"
      }
    },
    {
      "cell_type": "code",
      "source": [
        "# Define the variables\n",
        "a = 5\n",
        "b = 2.5\n",
        "c = \"Python\"\n",
        "\n",
        "# Compute the expression\n",
        "result = (a + b) * len(c)\n",
        "\n",
        "# Print the result\n",
        "print(result)\n"
      ],
      "metadata": {
        "colab": {
          "base_uri": "https://localhost:8080/"
        },
        "id": "kGcvopQmyRmy",
        "outputId": "91ada9bb-53e2-460e-b701-c65b019d5099"
      },
      "execution_count": 1,
      "outputs": [
        {
          "output_type": "stream",
          "name": "stdout",
          "text": [
            "45.0\n"
          ]
        }
      ]
    },
    {
      "cell_type": "markdown",
      "source": [
        "# 2. Operators Hidden Behavior (10 points)\n",
        "Question: Analyze the following code: x = \"10\"\n",
        "y = 5\n",
        "z = x * y\n",
        "print(z)\n",
        "\n",
        "Expected Output:\n",
        "\"1010101010\"\n",
        "Explanation:\n",
        "The x variable is a string (\"10\"). When multiplied by y (5), it repeats the string five times\n",
        "instead of performing mathematical multiplication."
      ],
      "metadata": {
        "id": "kg_UBYHnyxnN"
      }
    },
    {
      "cell_type": "code",
      "source": [
        "x = \"10\"\n",
        "y = 5\n",
        "z = x * y\n",
        "print(z)\n"
      ],
      "metadata": {
        "colab": {
          "base_uri": "https://localhost:8080/"
        },
        "id": "bKrhqDJay-PS",
        "outputId": "c4363de7-3300-4979-ffb3-d72d5b073f0f"
      },
      "execution_count": 14,
      "outputs": [
        {
          "output_type": "stream",
          "name": "stdout",
          "text": [
            "1010101010\n"
          ]
        }
      ]
    },
    {
      "cell_type": "markdown",
      "source": [
        "# 3. Conditionals The Mystery Check (15 points)\n",
        "Question:\n",
        "Write a program that checks if three numbers (x, y, z) are equal, different, or if at least two\n",
        "numbers are the same.\n",
        "Example Input:\n",
        "x = 7\n",
        "y = 7\n",
        "z = 3\n",
        "Expected Output:\n",
        "\"At least two numbers are equal\"\n",
        "Example Input 2:\n",
        "x = 2\n",
        "y = 5\n",
        "z = 9\n",
        "Expected Output:\n",
        "\"All numbers are different\"\n",
        "Example Input 3:\n",
        "x = 4\n",
        "y = 4\n",
        "z = 4\n",
        "Expected Output:\n",
        "\"All numbers are equal\""
      ],
      "metadata": {
        "id": "_e7WquNnzKoD"
      }
    },
    {
      "cell_type": "code",
      "source": [
        "# Input-1\n",
        "x = 7\n",
        "y = 7\n",
        "z= 3\n",
        "\n",
        "if x == y and y == z:\n",
        "    print(\"All numbers are equal\")\n",
        "elif x == y or y == z or z == x:\n",
        "    print(\"At least two numbers are equal\")\n",
        "else:\n",
        "    print(\"All numbers are different\")\n"
      ],
      "metadata": {
        "colab": {
          "base_uri": "https://localhost:8080/"
        },
        "id": "hQ-mq0MMzQhh",
        "outputId": "b03a046e-f28c-4c0e-cc6e-26d59d898c83"
      },
      "execution_count": 3,
      "outputs": [
        {
          "output_type": "stream",
          "name": "stdout",
          "text": [
            "At least two numbers are equal\n"
          ]
        }
      ]
    },
    {
      "cell_type": "code",
      "source": [
        "# Input-2\n",
        "x = 2\n",
        "y = 5\n",
        "z = 9\n",
        "\n",
        "if x == y and y == z:\n",
        "    print(\"All numbers are equal\")\n",
        "elif x == y or y == z or z == x:\n",
        "    print(\"At least two numbers are equal\")\n",
        "else:\n",
        "    print(\"All numbers are different\")\n"
      ],
      "metadata": {
        "colab": {
          "base_uri": "https://localhost:8080/"
        },
        "id": "Rh7RcnJHzlnk",
        "outputId": "58402dca-2406-44bf-a238-02b53a644607"
      },
      "execution_count": 4,
      "outputs": [
        {
          "output_type": "stream",
          "name": "stdout",
          "text": [
            "All numbers are different\n"
          ]
        }
      ]
    },
    {
      "cell_type": "code",
      "source": [
        "# Input-3\n",
        "x = 4\n",
        "y = 4\n",
        "z = 4\n",
        "if x == y and y == z:\n",
        "    print(\"All numbers are equal\")\n",
        "elif x == y or y == z or z == x:\n",
        "    print(\"At least two numbers are equal\")\n",
        "else:\n",
        "    print(\"All numbers are different\")"
      ],
      "metadata": {
        "colab": {
          "base_uri": "https://localhost:8080/"
        },
        "id": "oGLNDpi6zusK",
        "outputId": "07b3c38d-f728-4233-8b74-977a8cdd41a7"
      },
      "execution_count": 5,
      "outputs": [
        {
          "output_type": "stream",
          "name": "stdout",
          "text": [
            "All numbers are equal\n"
          ]
        }
      ]
    },
    {
      "cell_type": "markdown",
      "source": [
        "# 4. Lists The Swapping Challenge (15 points)\n",
        "Question:\n",
        "You have a list:\n",
        "numbers = [4, 8, 15, 16, 23, 42]\n",
        "Swap the first and last elements without using loops and print the modified list.\n",
        "\n",
        "\n",
        "Expected Output:\n",
        "[42, 8, 15, 16, 23, 4]"
      ],
      "metadata": {
        "id": "ffm5TMg6z2Xh"
      }
    },
    {
      "cell_type": "code",
      "source": [
        "list =[4, 8, 15, 16, 23, 42]\n",
        "\n",
        "# Swap the first and last elements\n",
        "list[0], list[-1] = list[-1], list[0]\n",
        "\n",
        "# Print the modified list\n",
        "print(list)"
      ],
      "metadata": {
        "colab": {
          "base_uri": "https://localhost:8080/"
        },
        "id": "s6nclFwiz7gv",
        "outputId": "7928d9e4-0113-4b01-b8e8-df3dbb88a1d3"
      },
      "execution_count": 9,
      "outputs": [
        {
          "output_type": "stream",
          "name": "stdout",
          "text": [
            "[42, 8, 15, 16, 23, 4]\n"
          ]
        }
      ]
    },
    {
      "cell_type": "markdown",
      "source": [
        "# 5. The Ultimate List Indexing Puzzle (20 points)\n",
        "Question:\n",
        "You have the following list:\n",
        "data = [\"Python\", 3.14, 42, [1, 2, 3], \"End\"]\n",
        "Write code to:\n",
        "1. Print \"3.14\" using list indexing.\n",
        "2. Print \"2\" using nested indexing.\n",
        "3. Replace \"End\" with \"Finished\".\n",
        "4. Print the modified list.\n",
        "\n",
        "\n",
        "Expected Output:\n",
        "3.14\n",
        "2\n",
        "['Python', 3.14, 42, [1, 2, 3], 'Finished']"
      ],
      "metadata": {
        "id": "vbzRK2P60WcV"
      }
    },
    {
      "cell_type": "code",
      "source": [
        "data = [\"Python\", 3.14, 42, [1, 2, 3], \"End\"]\n",
        "\n",
        "# Print \"3.14\" using list indexing\n",
        "print(data[1])\n",
        "\n",
        "# Print \"2\" using nested indexing\n",
        "print(data[3][1])\n",
        "\n",
        "# Replace \"End\" with \"Finished\"\n",
        "data[-1] = \"Finished\"\n",
        "\n",
        "# Print the modified list\n",
        "print(data)\n"
      ],
      "metadata": {
        "colab": {
          "base_uri": "https://localhost:8080/"
        },
        "id": "Z7KL9yf10awI",
        "outputId": "5e7a0d32-85b9-428a-964a-d0083a612c0f"
      },
      "execution_count": 12,
      "outputs": [
        {
          "output_type": "stream",
          "name": "stdout",
          "text": [
            "3.14\n",
            "2\n",
            "['Python', 3.14, 42, [1, 2, 3], 'Finished']\n"
          ]
        }
      ]
    },
    {
      "cell_type": "markdown",
      "source": [
        "# 6. Tricky Boolean Condition (20 points)\n",
        "Question:\n",
        "Analyze this code:\n",
        "a = 5\n",
        "b = 10\n",
        "c = \"5\"\n",
        "if a + int(c) == b and str(a) == c:\n",
        "print(\"Confusing, right?\")\n",
        "else:\n",
        "print(\"Think again!\")\n",
        "\n",
        "\n",
        "Expected Output:\n",
        "\"Confusing, right?\"\n",
        "Explanation:\n",
        "• a + int(c) → 5 + 5 = 10\n",
        "✅\n",
        "• str(a) == c → \"5\" == \"5\"\n",
        "✅\n",
        "• Both conditions are True, so \"Confusing, right?\" is printed."
      ],
      "metadata": {
        "id": "WJSIcZKZ1Oko"
      }
    },
    {
      "cell_type": "code",
      "source": [
        "a = 5\n",
        "b = 10\n",
        "c = \"5\"\n",
        "\n",
        "# Checking two conditions:\n",
        "if a + int(c) == b and str(a) == c:\n",
        "    print(\"Confusing, right?\")\n",
        "else:\n",
        "    print(\"Think again!\")\n"
      ],
      "metadata": {
        "colab": {
          "base_uri": "https://localhost:8080/"
        },
        "id": "HqzMjPWg1XiC",
        "outputId": "24d7a61b-9be7-40b5-b924-1dcb05c87485"
      },
      "execution_count": 15,
      "outputs": [
        {
          "output_type": "stream",
          "name": "stdout",
          "text": [
            "Confusing, right?\n"
          ]
        }
      ]
    },
    {
      "cell_type": "markdown",
      "source": [
        "# 7. Operators & Conditionals The Magic Number (10 points)\n",
        "Question:\n",
        "Write a program that prints:\n",
        "• \"Positive Even\" if n is positive and even.\n",
        "• \"Positive Odd\" if n is positive and odd.\n",
        "• \"Negative\" if n is negative.\n",
        "• \"Zero\" if n is zero.\n",
        "Example Input 1:\n",
        "n = 8\n",
        "Expected Output:\n",
        "\"Positive Even\"\n",
        "Example Input 2:\n",
        "n = -3\n",
        "Expected Output:\n",
        "\"Negative\"\n",
        "Example Input 3:\n",
        "n = 0\n",
        "Expected Output:\n",
        "\"Zero\""
      ],
      "metadata": {
        "id": "Adp3Q_hh2OO0"
      }
    },
    {
      "cell_type": "code",
      "source": [
        "# Input 1\n",
        "n = 8\n",
        "if n > 0:\n",
        "    if n % 2 == 0:\n",
        "        print(\"Positive Even\")\n",
        "    else:\n",
        "        print(\"Positive Odd\")\n",
        "elif n < 0:\n",
        "    print(\"Negative\")\n",
        "else:\n",
        "    print(\"Zero\")"
      ],
      "metadata": {
        "colab": {
          "base_uri": "https://localhost:8080/"
        },
        "id": "pjW58eTE2WBA",
        "outputId": "beb12c1a-b86b-4acc-86a3-8f2fa09dcff2"
      },
      "execution_count": 16,
      "outputs": [
        {
          "output_type": "stream",
          "name": "stdout",
          "text": [
            "Positive Even\n"
          ]
        }
      ]
    },
    {
      "cell_type": "code",
      "source": [
        "# Input 2\n",
        "n = -3\n",
        "if n > 0:\n",
        "    if n % 2 == 0:\n",
        "        print(\"Positive Even\")\n",
        "    else:\n",
        "        print(\"Positive Odd\")\n",
        "elif n < 0:\n",
        "    print(\"Negative\")\n",
        "else:\n",
        "    print(\"Zero\")"
      ],
      "metadata": {
        "colab": {
          "base_uri": "https://localhost:8080/"
        },
        "id": "dA3nkCH_2i8U",
        "outputId": "9d2949e1-6dd2-4b58-c014-8a84934616e6"
      },
      "execution_count": 17,
      "outputs": [
        {
          "output_type": "stream",
          "name": "stdout",
          "text": [
            "Negative\n"
          ]
        }
      ]
    },
    {
      "cell_type": "code",
      "source": [
        "# Input 3\n",
        "n = 0\n",
        "if n > 0:\n",
        "  if n % 2 == 0:\n",
        "    print(\"Positive Even\")\n",
        "  else:\n",
        "    print(\"Positive Odd\")\n",
        "elif n < 0:\n",
        "  print(\"Negative\")\n",
        "else:\n",
        "  print(\"Zero\")\n"
      ],
      "metadata": {
        "colab": {
          "base_uri": "https://localhost:8080/"
        },
        "id": "OYDwYL2n2oJN",
        "outputId": "e3603f7c-9940-453b-d29d-35f9d55744d0"
      },
      "execution_count": 18,
      "outputs": [
        {
          "output_type": "stream",
          "name": "stdout",
          "text": [
            "Zero\n"
          ]
        }
      ]
    }
  ]
}