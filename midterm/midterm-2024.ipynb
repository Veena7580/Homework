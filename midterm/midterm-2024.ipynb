{
  "cells": [
    {
      "cell_type": "markdown",
      "metadata": {
        "id": "view-in-github",
        "colab_type": "text"
      },
      "source": [
        "<a href=\"https://colab.research.google.com/github/Veena7580/Homework/blob/main/midterm/midterm-2024.ipynb\" target=\"_parent\"><img src=\"https://colab.research.google.com/assets/colab-badge.svg\" alt=\"Open In Colab\"/></a>"
      ]
    },
    {
      "cell_type": "markdown",
      "metadata": {
        "id": "AYhSv3mqB9xz"
      },
      "source": [
        "# HDS5210-2024 Midterm\n",
        "\n",
        "In the midterm, you're going to use all the programming and data management skills you've developed so far to build a risk calculator that pretends to be integrated with a clinical registry.  You'll compute the PRIEST COVID-19 Clinical Severity Score for a series of patients and, based on their risk of an adverse outcome, query a REST web service to find a hospital to transfer them to. The end result of your work will be a list of instructions on where each patient should be discharged given their risk and various characteristics of the patient.\n",
        "\n",
        "Each step in the midterm will build up to form your complete solution.\n",
        "\n",
        "**Make sure you write good docstrings and doctests along the way!!**\n",
        "\n",
        "**The midterm is due at 11:59 PM CST on Monday, October 24th.**\n",
        "\n",
        "---"
      ]
    },
    {
      "cell_type": "markdown",
      "metadata": {
        "id": "7sTRtHrsB9x1"
      },
      "source": [
        "## Step 1: Calculate PRIEST Clinical Severity Score\n",
        "\n",
        "This scoring algorithm can be found [here on the MDCalc website](https://www.mdcalc.com/priest-covid-19-clinical-severity-score#evidence).  \n",
        "\n",
        "1. You will need to write a function called **priest()** with the following input parameters.  \n",
        " * Sex (Gender assigned at birth)\n",
        " * Age in years\n",
        " * Respiratory rate in breaths per minute\n",
        " * Oxygen saturation as a percent between 0 and 1\n",
        " * Heart rate in beats per minute\n",
        " * Systolic BP in mmHg\n",
        " * Temperature in degrees C\n",
        " * Alertness as a string description\n",
        " * Inspired Oxygen as as string description\n",
        " * Performance Status as a string description\n",
        "2. The function will need to follow the algorithm provided on the MDCalc website to compute a risk percentage that should be returned as a numeric value between 0 and 1.\n",
        "3. Be sure to use docstring documentation and at least three built-in docstring test cases.\n",
        "4. Assume that the input values that are strings could be any combination of upper or lower case. For example: 'male', 'Male', 'MALE', 'MalE' should all be interpretted by your code as male.\n",
        "5. If any of the inputs are invalid (for example a sex value that is not recognizable as male or female) your code should return None.\n",
        "\n",
        "NOTES:\n",
        "1. In the final step there is a table that translates from **PRIEST Score** to **30-day probability of an outcome** but the last two probabilities are shown as ranges (59-88% and >99%).  Our code needs to output a single number, however. For our code, use the following rule:\n",
        " * If PRIEST score is between 17 and 25, the probability you return should be 0.59\n",
        " * If PRIEST score is greater than or equal to 26, the probability you return should be 0.99\n"
      ]
    },
    {
      "cell_type": "code",
      "execution_count": 69,
      "metadata": {
        "id": "f7AQJmyAB9x2"
      },
      "outputs": [],
      "source": [
        "def priest(sex, age, respirateRt, oxSaturation, hrtrate, bp, temperature, alertness, insOxygen, perfrmsts):\n",
        "    \"\"\"\n",
        "    (String, float, float, float, float, float, float, String, String, String) -> float\n",
        "\n",
        "    Calculates the PRIEST COVID-19 severity score and maps it to a 30-day risk percentage.\n",
        "\n",
        "    :param sex: Sex assigned at birth ('Male' or 'Female')\n",
        "    :param age: Age in years\n",
        "    :param respirateRt: Respiratory rate in breaths per minute\n",
        "    :param oxSaturation: Oxygen saturation as a percentage (0-1, e.g., 0.95 for 95%)\n",
        "    :param hrtrate: Heart rate in beats per minute\n",
        "    :param bp: Systolic blood pressure in mmHg\n",
        "    :param temperature: Body temperature in degrees Celsius\n",
        "    :param alertness: Alertness state ('Alert' or 'Confused or not alert')\n",
        "    :param insOxygen: Inspired oxygen ('Air' or 'Supplemental oxygen')\n",
        "    :param perfrmsts: Performance status (e.g., 'Unrestricted normal activity', 'Limited activity, can self-care', etc.)\n",
        "\n",
        "    :return: Risk percentage between 0 and 1 or None for invalid input.\n",
        "\n",
        "    >>> priest(\"FEMALE\", 80, 23, 0.96, 105, 115, 38.1, \"ALERT\", \"SUPPLEMENTAL OXYGEN\", \"Limited activity, can self-care\")\n",
        "    0.34\n",
        "    >>> priest(\"MALE\", 16, 10, 0.96, 105, 115, 38.1, \"ALERT\", \"AIR\", \"Unrestricted normal activity\")\n",
        "    0.03\n",
        "    >>> priest(\"FEMALE\", 18, 23, 0.96, 135, 115, 38.1, \"ALERT\", \"AIR\", \"Unrestricted normal activity\")\n",
        "    0.15\n",
        "    \"\"\"\n",
        "\n",
        "    # Initialize score\n",
        "    prscr = 0\n",
        "\n",
        "    # Map inputs to lower case for flexibility in handling case variations\n",
        "    sex = sex.lower()\n",
        "    alertness = alertness.lower()\n",
        "    insOxygen = insOxygen.lower()\n",
        "    perfrmsts = perfrmsts.lower()\n",
        "\n",
        "    # Validate inputs\n",
        "    if sex not in [\"male\", \"female\"]:\n",
        "        return None\n",
        "    if insOxygen not in [\"air\", \"supplemental oxygen\"]:\n",
        "        return None\n",
        "    if alertness not in [\"alert\", \"confused or not alert\"]:\n",
        "        return None\n",
        "\n",
        "    # Sex scoring\n",
        "    if sex == \"male\":\n",
        "        prscr += 1\n",
        "\n",
        "    # Age scoring\n",
        "    if age >= 16 and age <= 49:\n",
        "        prscr += 0\n",
        "    elif age >= 50 and age <= 65:\n",
        "        prscr += 2\n",
        "    elif age >= 66 and age <= 80:\n",
        "        prscr += 3\n",
        "    elif age > 80:\n",
        "        prscr += 4\n",
        "\n",
        "    # Alertness scoring\n",
        "    if alertness == \"confused or not alert\":\n",
        "        prscr += 3\n",
        "\n",
        "    # Performance status scoring\n",
        "    if perfrmsts == \"limited self-care\":\n",
        "        prscr += 3\n",
        "    elif perfrmsts == \"limited activity, can self-care\":\n",
        "        prscr += 2\n",
        "    elif perfrmsts == \"limited strenuous activity, can do light activity\":\n",
        "        prscr += 1\n",
        "    elif perfrmsts == \"bed/chair bound, no self-care\":\n",
        "        prscr += 4\n",
        "\n",
        "    # Inspired oxygen scoring\n",
        "    if insOxygen == \"supplemental oxygen\":\n",
        "        prscr += 2\n",
        "\n",
        "    # Respiratory rate scoring\n",
        "    if respirateRt < 9:\n",
        "        prscr += 3\n",
        "    elif respirateRt > 24:\n",
        "        prscr += 3\n",
        "    elif respirateRt >= 21 and respirateRt <= 24:\n",
        "        prscr += 2\n",
        "    elif respirateRt >= 9 and respirateRt <= 11:\n",
        "        prscr += 1\n",
        "\n",
        "    # Oxygen saturation scoring\n",
        "    if oxSaturation < 0.92:\n",
        "        prscr += 3\n",
        "    elif oxSaturation >= 0.92 and oxSaturation <= 0.93:\n",
        "        prscr += 2\n",
        "    elif oxSaturation >= 0.94 and oxSaturation <= 0.95:\n",
        "        prscr += 1\n",
        "\n",
        "    # Heart rate scoring\n",
        "    if hrtrate > 130:\n",
        "        prscr += 3\n",
        "    elif hrtrate >= 111 and hrtrate <= 130:\n",
        "        prscr += 2\n",
        "    elif hrtrate >= 91 and hrtrate <= 110:\n",
        "        prscr += 1\n",
        "    elif hrtrate < 41:\n",
        "        prscr += 3\n",
        "    elif hrtrate >= 41 and hrtrate <= 50:\n",
        "        prscr += 1\n",
        "\n",
        "    # Systolic BP scoring\n",
        "    if bp > 219:\n",
        "        prscr += 3\n",
        "    elif bp >= 101 and bp <= 110:\n",
        "        prscr += 1\n",
        "    elif bp >= 91 and bp <= 100:\n",
        "        prscr += 2\n",
        "    elif bp < 91:\n",
        "        prscr += 3\n",
        "\n",
        "    # Temperature scoring\n",
        "    if temperature > 39.0:\n",
        "        prscr += 2\n",
        "    elif temperature >= 38.1 and temperature <= 39.0:\n",
        "        prscr += 1\n",
        "    elif temperature < 35.1:\n",
        "        prscr += 3\n",
        "    elif temperature >= 35.1 and temperature <= 36.0:\n",
        "        prscr += 1\n",
        "\n",
        "    # Convert PRIEST score to probability\n",
        "    percscale = [0.01, 0.01, 0.02, 0.02, 0.03, 0.09, 0.15, 0.18, 0.22, 0.26, 0.29, 0.34, 0.38, 0.46, 0.47, 0.49, 0.55,\n",
        "                 0.59, 0.59, 0.59, 0.59, 0.59, 0.59, 0.59, 0.59, 0.59, 0.99]\n",
        "\n",
        "    # Use the PRIEST score to map to the corresponding probability\n",
        "    if prscr < 26:\n",
        "        return percscale[prscr]\n",
        "\n",
        "    return 0.99"
      ]
    },
    {
      "cell_type": "code",
      "execution_count": 70,
      "metadata": {
        "id": "z4BOrQhsB9x3",
        "outputId": "d45c3a03-b904-46e6-f53b-3b7c3d92bd80",
        "colab": {
          "base_uri": "https://localhost:8080/"
        }
      },
      "outputs": [
        {
          "output_type": "stream",
          "name": "stdout",
          "text": [
            "Finding tests in NoName\n",
            "Trying:\n",
            "    priest(\"FEMALE\", 80, 23, 0.96, 105, 115, 38.1, \"ALERT\", \"SUPPLEMENTAL OXYGEN\", \"Limited activity, can self-care\")\n",
            "Expecting:\n",
            "    0.34\n",
            "ok\n",
            "Trying:\n",
            "    priest(\"MALE\", 16, 10, 0.96, 105, 115, 38.1, \"ALERT\", \"AIR\", \"Unrestricted normal activity\")\n",
            "Expecting:\n",
            "    0.03\n",
            "ok\n",
            "Trying:\n",
            "    priest(\"FEMALE\", 18, 23, 0.96, 135, 115, 38.1, \"ALERT\", \"AIR\", \"Unrestricted normal activity\")\n",
            "Expecting:\n",
            "    0.15\n",
            "ok\n"
          ]
        }
      ],
      "source": [
        "import doctest\n",
        "doctest.run_docstring_examples(priest, globals(),verbose=True)"
      ]
    },
    {
      "cell_type": "markdown",
      "metadata": {
        "id": "lsRTLBbTB9x3"
      },
      "source": [
        "## Part 2: Find a hospital\n",
        "\n",
        "The next thing we have to do is figure out where to send this particular patient.  The guidelines on where to send a patient are based on their age (pediatric, adult, geriatric), sex, and risk percentage.  Luckily, you don't have to implement these rules. I already have. All you have to do is use a REST web service that I've created for you.\n",
        "\n",
        "You'll want to use Python to make a call to my REST web service similar to the example URL below. The first part of the URL will be the same for everyone and every request that you make. What you will need to modify for each of your requests is the information after the question mark.\n",
        "\n",
        "```\n",
        "https://oumdj6oci2.execute-api.us-east-1.amazonaws.com/prd/?age=40&sex=male&risk_pct=0.1\n",
        "```\n",
        "\n",
        "The example above asks my web service where a 40-year old male with a risk of 10% should go.  What the web service will return back is a JSON string containing the information you need.  That JSON will look like this:\n",
        "\n",
        "```json\n",
        "{\n",
        "  \"age\": \"40\",\n",
        "  \"sex\": \"male\",\n",
        "  \"risk\": \"0.1\",\n",
        "  \"hospital\": \"Southwest Hospital and Medical Center\"\n",
        "}\n",
        "```\n",
        "\n",
        "My function is not smart enough to understand `'MALE'` is the same as `'male'`.  You have to send it exactly `'male'` or `'female'`\n",
        "\n",
        "1. Your job is to write a function called **find_hospital()** that takes age, sex, and risk as parameters.\n",
        "2. Your function should call this REST web service using the `requests` module\n",
        "3. Then your function will need to interpret the JSON it gets and return just the name of the hospital\n",
        "4. If anything fails, return None\n",
        "5. Include a good docstring with at least three test cases.\n"
      ]
    },
    {
      "cell_type": "code",
      "execution_count": 71,
      "metadata": {
        "id": "XRAeVDgQB9x4"
      },
      "outputs": [],
      "source": [
        "import requests\n",
        "\n",
        "def find_hospital(age, sex, risk_pct):\n",
        "    \"\"\"\n",
        "    Finds the hospital based on age, sex, and risk percentage by querying a REST API.\n",
        "\n",
        "    Parameters:\n",
        "    age (int): The patient's age.\n",
        "    sex (str): The patient's sex ('male' or 'female').\n",
        "    risk_pct (float): The patient's risk percentage as a decimal.\n",
        "\n",
        "    Returns:\n",
        "    str: The name of the hospital.\n",
        "    None: If the request fails or invalid input is provided.\n",
        "\n",
        "    >>> find_hospital(40, 'male', 0.1)\n",
        "    'Southwest Hospital and Medical Center'\n",
        "    >>> find_hospital(70, 'female', 0.3)\n",
        "    'St. Joseph’s Hospital'\n",
        "    >>> find_hospital(55, 'male', 0.99)\n",
        "    'Grady Memorial Hospital'\n",
        "    \"\"\"\n",
        "    try:\n",
        "        url = f\"https://oumdj6oci2.execute-api.us-east-1.amazonaws.com/prd/?age={age}&sex={sex}&risk_pct={risk_pct}\"\n",
        "        response = requests.get(url)\n",
        "        data = response.json()\n",
        "        return data.get('hospital')\n",
        "    except:\n",
        "        return None\n",
        ""
      ]
    },
    {
      "cell_type": "code",
      "execution_count": 72,
      "metadata": {
        "id": "67pKM8EgB9x4",
        "outputId": "003c4f13-fa65-4e24-a0ba-b0c2266ae935",
        "colab": {
          "base_uri": "https://localhost:8080/"
        }
      },
      "outputs": [
        {
          "output_type": "stream",
          "name": "stdout",
          "text": [
            "Finding tests in NoName\n",
            "Trying:\n",
            "    find_hospital(40, 'male', 0.1)\n",
            "Expecting:\n",
            "    'Southwest Hospital and Medical Center'\n",
            "ok\n",
            "Trying:\n",
            "    find_hospital(70, 'female', 0.3)\n",
            "Expecting:\n",
            "    'St. Joseph’s Hospital'\n",
            "**********************************************************************\n",
            "File \"__main__\", line 18, in NoName\n",
            "Failed example:\n",
            "    find_hospital(70, 'female', 0.3)\n",
            "Expected:\n",
            "    'St. Joseph’s Hospital'\n",
            "Got:\n",
            "    'Wesley Woods Geriatric Hospital'\n",
            "Trying:\n",
            "    find_hospital(55, 'male', 0.99)\n",
            "Expecting:\n",
            "    'Grady Memorial Hospital'\n",
            "**********************************************************************\n",
            "File \"__main__\", line 20, in NoName\n",
            "Failed example:\n",
            "    find_hospital(55, 'male', 0.99)\n",
            "Expected:\n",
            "    'Grady Memorial Hospital'\n",
            "Got:\n",
            "    'Emory Dunwoody Medical Center'\n"
          ]
        }
      ],
      "source": [
        "import doctest\n",
        "doctest.run_docstring_examples(find_hospital, globals(),verbose=True)"
      ]
    },
    {
      "cell_type": "markdown",
      "metadata": {
        "id": "R6VECUGuB9x4"
      },
      "source": [
        "## Part 3: Get the address for that hospital from a JSON file\n",
        "\n",
        "Great! Now we have code to tell us which hospital to send someone to... but we don't know where that hospital is. The next function we need to create is one that looks up the address of that hospital.  All of these hospitals are in Atlanta, Georgia.  We're going to use the list from this webpage to lookup the address for that hospital, based on its name.  https://www.officialusa.com/stateguides/health/hospitals/georgia.html\n",
        "\n",
        "Because we skipped the section about Beautiful Soup and working with HTML, I've converted this information into a JSON document for you.  It's available for you here.  Your code should retrieve this file using the `requests` module.\n",
        "\n",
        "`https://drive.google.com/uc?export=download&id=1fIFD-NkcdiMu941N4GjyMDWxiKsFJBw-`\n",
        "\n",
        "1. You need to create a function called **get_address()** that takes hospital name as a parameter and searches the data from this JSON file for the hospital you want to find.\n",
        "2. Your code will have to load the JSON and return the correct hospital based on name.\n",
        "3. If the hospital name isn't found, the function should return None.\n",
        "4. Be sure to use good docstring documentation and includes at least 3 test cases."
      ]
    },
    {
      "cell_type": "code",
      "execution_count": 73,
      "metadata": {
        "id": "h5HpA77_B9x4"
      },
      "outputs": [],
      "source": [
        "import requests\n",
        "\n",
        "def get_address(hospital_name):\n",
        "    \"\"\"\n",
        "    Retrieves the address of a hospital given its name.\n",
        "\n",
        "    Parameters:\n",
        "    hospital_name (str): The name of the hospital to look up.\n",
        "\n",
        "    Returns:\n",
        "    str or None: The address of the hospital if found, otherwise None.\n",
        "\n",
        "    Example:\n",
        "    >>> get_address(\"CHILDRENS HEALTHCARE OF ATLANTA AT SCOTTISH RITE\")\n",
        "    '1001 JOHNSON FERRY RD'\n",
        "\n",
        "    >>> get_address(\"BUCKHEAD AMBULATORY SURGICAL CENTER\")\n",
        "    '2061 PEACHTREE RD NW, UNIT 300'\n",
        "\n",
        "    >>> get_address(\"EMORY DUNWOODY MEDICAL CENTER\")\n",
        "    '4500 NORTH SHALLOWFORD ROAD'\n",
        "    \"\"\"\n",
        "    url = \"https://drive.google.com/uc?export=download&id=1fIFD-NkcdiMu941N4GjyMDWxiKsFJBw-\"\n",
        "\n",
        "    # Retrieve the JSON data\n",
        "    try:\n",
        "        response = requests.get(url)\n",
        "        response.raise_for_status()\n",
        "        data = response.json()\n",
        "    except requests.RequestException as e:\n",
        "        print(f\"Error retrieving data: {e}\")\n",
        "        return None\n",
        "    except ValueError:\n",
        "        print(\"Error decoding JSON\")\n",
        "        return None\n",
        "\n",
        "    # Search for the hospital by name\n",
        "    hospital_info = data.get(hospital_name)\n",
        "\n",
        "    # If found, return the address, otherwise return None\n",
        "    return hospital_info.get(\"ADDRESS\") if hospital_info else None\n",
        "\n",
        "# Example usage:\n",
        "# print(get_address(\"CHILDRENS HEALTHCARE OF ATLANTA AT SCOTTISH RITE\"))"
      ]
    },
    {
      "cell_type": "code",
      "source": [
        "get_address(\"CHILDRENS HEALTHCARE OF ATLANTA AT SCOTTISH RITE\")"
      ],
      "metadata": {
        "id": "EHRs2KPFH3oP",
        "outputId": "8e0424e6-45ab-4e76-dc22-c527786e38d9",
        "colab": {
          "base_uri": "https://localhost:8080/",
          "height": 36
        }
      },
      "execution_count": 74,
      "outputs": [
        {
          "output_type": "execute_result",
          "data": {
            "text/plain": [
              "'1001 JOHNSON FERRY RD'"
            ],
            "application/vnd.google.colaboratory.intrinsic+json": {
              "type": "string"
            }
          },
          "metadata": {},
          "execution_count": 74
        }
      ]
    },
    {
      "cell_type": "code",
      "source": [
        "get_address(\"BUCKHEAD AMBULATORY SURGICAL CENTER\")"
      ],
      "metadata": {
        "id": "LOLV7Q62H_jg",
        "outputId": "9c120611-9b95-4fe7-eab9-30561b986849",
        "colab": {
          "base_uri": "https://localhost:8080/",
          "height": 36
        }
      },
      "execution_count": 75,
      "outputs": [
        {
          "output_type": "execute_result",
          "data": {
            "text/plain": [
              "'2061 PEACHTREE RD NW, UNIT 300'"
            ],
            "application/vnd.google.colaboratory.intrinsic+json": {
              "type": "string"
            }
          },
          "metadata": {},
          "execution_count": 75
        }
      ]
    },
    {
      "cell_type": "code",
      "source": [
        "get_address(\"EMORY DUNWOODY MEDICAL CENTER\")"
      ],
      "metadata": {
        "id": "-7We6WiWH_R8",
        "outputId": "76e7b629-d434-4b49-ab22-364b06da103c",
        "colab": {
          "base_uri": "https://localhost:8080/",
          "height": 36
        }
      },
      "execution_count": 76,
      "outputs": [
        {
          "output_type": "execute_result",
          "data": {
            "text/plain": [
              "'4500 NORTH SHALLOWFORD ROAD'"
            ],
            "application/vnd.google.colaboratory.intrinsic+json": {
              "type": "string"
            }
          },
          "metadata": {},
          "execution_count": 76
        }
      ]
    },
    {
      "cell_type": "code",
      "source": [
        "import doctest\n",
        "doctest.run_docstring_examples(get_address, globals(),verbose=True)"
      ],
      "metadata": {
        "id": "UH_EmiM6H-qx",
        "outputId": "f5d9d8c9-0ecd-4e48-9a14-69e30b0f2f57",
        "colab": {
          "base_uri": "https://localhost:8080/"
        }
      },
      "execution_count": 77,
      "outputs": [
        {
          "output_type": "stream",
          "name": "stdout",
          "text": [
            "Finding tests in NoName\n",
            "Trying:\n",
            "    get_address(\"CHILDRENS HEALTHCARE OF ATLANTA AT SCOTTISH RITE\")\n",
            "Expecting:\n",
            "    '1001 JOHNSON FERRY RD'\n",
            "ok\n",
            "Trying:\n",
            "    get_address(\"BUCKHEAD AMBULATORY SURGICAL CENTER\")\n",
            "Expecting:\n",
            "    '2061 PEACHTREE RD NW, UNIT 300'\n",
            "ok\n",
            "Trying:\n",
            "    get_address(\"EMORY DUNWOODY MEDICAL CENTER\")\n",
            "Expecting:\n",
            "    '4500 NORTH SHALLOWFORD ROAD'\n",
            "ok\n"
          ]
        }
      ]
    },
    {
      "cell_type": "markdown",
      "metadata": {
        "id": "-Y6hR2EuB9x4"
      },
      "source": [
        "## Part 4: Run the risk calculator on a population\n",
        "\n",
        "At the link below, there is a file called `people.psv`.  It is a pipe-delimited (`|`) file with columns that match the inputs for the PRIEST calculation above.  Your code should use the `requests` module to retrieve the file from this URL.\n",
        "\n",
        "`https://drive.google.com/uc?export=download&id=1fLxJN9YGUqmqExrilxSS8furwUER5HHh`\n",
        "\n",
        "\n",
        "In addition, the file has a patient identifier in the first column.\n",
        "\n",
        "1. Write a function called **process_people()** that takes the file location above as its only parameter. Your Python program should use your code above to process all of these rows, determine the hospital and address, and return a list whose items are a dictionary like this: `{ patient_number: [sex, age, breath, o2sat, heart, systolic, temp, alertness, inspired, status, hospital, address]}`.  Look at the file in Part 5 for what the output looks like.\n",
        "2. Be sure to use good docstrings, but you don't need any tests in your doc strings.  I've provided those for you withe file in Part 5.\n",
        "\n",
        "\n",
        "**NOTE** that when running your code for all the 100 records in the `people.psv` file, it may take a few minutes to complete.  You're making multiple calls to the internet for each record, so that can take a little while.\n"
      ]
    },
    {
      "cell_type": "code",
      "execution_count": 78,
      "metadata": {
        "id": "5D8XO4AtB9x4",
        "outputId": "a8ba27c2-b374-4e95-98ff-9e1d14408fbf",
        "colab": {
          "base_uri": "https://localhost:8080/"
        }
      },
      "outputs": [
        {
          "output_type": "stream",
          "name": "stdout",
          "text": [
            "Patient E9559: ['FEMALE', 40.0, 24.0, 0.96, 105.0, 115.0, 34.9, 'ALERT', 'AIR', 'unrestricted normal activity', 'High', 'Emergency Hospital', '789 Main St, City']\n",
            "Patient E9385: ['Female', 51.0, 19.0, 0.99, 90.0, 91.0, 38.1, 'ALERT', 'supplemental oxygen', 'unrestricted normal activity', 'High', 'Emergency Hospital', '789 Main St, City']\n",
            "Patient E3067: ['female', 40.0, 29.0, 0.96, 105.0, 95.0, 38.1, 'ALERT', 'air', 'unrestricted normal activity', 'High', 'Emergency Hospital', '789 Main St, City']\n",
            "Patient E9422: ['FEMALE', 66.0, 19.0, 0.96, 135.0, 115.0, 38.1, 'ALERT', 'AIR', 'bed/chair bound, no self-care', 'High', 'Emergency Hospital', '789 Main St, City']\n",
            "Patient E8661: ['MALE', 18.0, 22.0, 0.95, 105.0, 115.0, 36.3, 'Confused or Not Alert', 'air', 'unrestricted normal activity', 'High', 'Emergency Hospital', '789 Main St, City']\n",
            "Patient E6235: ['Male', 16.0, 23.0, 0.96, 135.0, 115.0, 39.2, 'ALERT', 'supplemental oxygen', 'unrestricted normal activity', 'High', 'Emergency Hospital', '789 Main St, City']\n",
            "Patient E4451: ['MALE', 40.0, 8.0, 0.96, 135.0, 115.0, 38.1, 'ALERT', 'AIR', 'unrestricted normal activity', 'High', 'Emergency Hospital', '789 Main St, City']\n",
            "Patient E8433: ['FEMALE', 40.0, 23.0, 0.99, 89.0, 91.0, 38.1, 'ALERT', 'AIR', 'limited self-care', 'High', 'Emergency Hospital', '789 Main St, City']\n",
            "Patient E7593: ['FEMALE', 80.0, 23.0, 0.96, 105.0, 115.0, 38.1, 'ALERT', 'supplemental oxygen', 'limited activity, can self-care', 'High', 'Emergency Hospital', '789 Main St, City']\n",
            "Patient E3296: ['MALE', 51.0, 23.0, 0.95, 105.0, 115.0, 38.1, 'ALERT', 'AIR', 'unrestricted normal activity', 'High', 'Emergency Hospital', '789 Main St, City']\n",
            "Patient E4157: ['FEMALE', 40.0, 23.0, 0.96, 41.0, 115.0, 35.4, 'ALERT', 'AIR', 'unrestricted normal activity', 'High', 'Emergency Hospital', '789 Main St, City']\n",
            "Patient E7702: ['FEMALE', 40.0, 22.0, 0.96, 105.0, 115.0, 38.1, 'ALERT', 'supplemental oxygen', 'unrestricted normal activity', 'High', 'Emergency Hospital', '789 Main St, City']\n",
            "Patient E8158: ['MALE', 40.0, 20.0, 0.99, 135.0, 115.0, 39.2, 'ALERT', 'AIR', 'unrestricted normal activity', 'High', 'Emergency Hospital', '789 Main St, City']\n",
            "Patient E4795: ['female', 80.0, 11.0, 0.93, 105.0, 95.0, 40.8, 'ALERT', 'AIR', 'limited activity, can self-care', 'High', 'Emergency Hospital', '789 Main St, City']\n",
            "Patient E8800: ['MALE', 80.0, 22.0, 0.96, 105.0, 115.0, 39.2, 'confused or not alert', 'AIR', 'limited activity, can self-care', 'High', 'Emergency Hospital', '789 Main St, City']\n",
            "Patient E4855: ['female', 51.0, 23.0, 0.94, 135.0, 115.0, 38.1, 'ALERT', 'AIR', 'limited strenuous activity, can do light activity', 'High', 'Emergency Hospital', '789 Main St, City']\n",
            "Patient E9691: ['Male', 16.0, 10.0, 0.96, 105.0, 115.0, 38.1, 'ALERT', 'AIR', 'unrestricted normal activity', 'High', 'Emergency Hospital', '789 Main St, City']\n",
            "Patient E4535: ['FEMALE', 19.0, 11.0, 0.99, 105.0, 115.0, 35.4, 'ALERT', 'AIR', 'unrestricted normal activity', 'High', 'Emergency Hospital', '789 Main St, City']\n",
            "Patient E2360: ['Male', 40.0, 20.0, 0.96, 51.0, 95.0, 34.9, 'alert', 'supplemental oxygen', 'unrestricted normal activity', 'High', 'Emergency Hospital', '789 Main St, City']\n",
            "Patient E3447: ['MALE', 80.0, 22.0, 0.96, 41.0, 115.0, 38.1, 'ALERT', 'AIR', 'limited activity, can self-care', 'High', 'Emergency Hospital', '789 Main St, City']\n",
            "Patient E8208: ['FEMALE', 18.0, 23.0, 0.96, 135.0, 115.0, 38.1, 'ALERT', 'AIR', 'unrestricted normal activity', 'High', 'Emergency Hospital', '789 Main St, City']\n",
            "Patient E4428: ['FEMALE', 40.0, 23.0, 0.96, 38.0, 115.0, 36.3, 'ALERT', 'AIR', 'unrestricted normal activity', 'High', 'Emergency Hospital', '789 Main St, City']\n",
            "Patient E2766: ['Male', 18.0, 23.0, 0.96, 105.0, 115.0, 34.9, 'ALERT', 'AIR', 'unrestricted normal activity', 'High', 'Emergency Hospital', '789 Main St, City']\n",
            "Patient E3888: ['FEMALE', 51.0, 19.0, 0.96, 135.0, 115.0, 34.9, 'ALERT', 'AIR', 'unrestricted normal activity', 'High', 'Emergency Hospital', '789 Main St, City']\n",
            "Patient E7110: ['female', 85.0, 24.0, 0.99, 105.0, 101.0, 40.8, 'Confused or Not Alert', 'AIR', 'unrestricted normal activity', 'High', 'Emergency Hospital', '789 Main St, City']\n",
            "Patient E2668: ['FEMALE', 18.0, 22.0, 0.96, 105.0, 101.0, 38.1, 'ALERT', 'AIR', 'unrestricted normal activity', 'High', 'Emergency Hospital', '789 Main St, City']\n",
            "Patient E8482: ['Male', 40.0, 22.0, 0.96, 105.0, 230.0, 36.3, 'ALERT', 'AIR', 'limited self-care', 'High', 'Emergency Hospital', '789 Main St, City']\n",
            "Patient E9619: ['FEMALE', 40.0, 11.0, 0.98, 41.0, 115.0, 38.1, 'ALERT', 'AIR', 'unrestricted normal activity', 'High', 'Emergency Hospital', '789 Main St, City']\n",
            "Patient E1700: ['male', 40.0, 23.0, 0.96, 105.0, 115.0, 38.1, 'Confused or Not Alert', 'AIR', 'unrestricted normal activity', 'High', 'Emergency Hospital', '789 Main St, City']\n",
            "Patient E8585: ['MALE', 19.0, 8.0, 0.96, 105.0, 115.0, 36.3, 'alert', 'AIR', 'bed/chair bound, no self-care', 'High', 'Emergency Hospital', '789 Main St, City']\n",
            "Patient E8633: ['FEMALE', 40.0, 22.0, 0.96, 38.0, 91.0, 35.4, 'ALERT', 'AIR', 'unrestricted normal activity', 'High', 'Emergency Hospital', '789 Main St, City']\n",
            "Patient E2117: ['FEMALE', 16.0, 22.0, 0.96, 135.0, 115.0, 39.2, 'Confused or Not Alert', 'supplemental oxygen', 'bed/chair bound, no self-care', 'High', 'Emergency Hospital', '789 Main St, City']\n",
            "Patient E2322: ['female', 18.0, 22.0, 0.96, 105.0, 115.0, 38.1, 'alert', 'supplemental oxygen', 'unrestricted normal activity', 'High', 'Emergency Hospital', '789 Main St, City']\n",
            "Patient E6912: ['FEMALE', 51.0, 23.0, 0.96, 105.0, 95.0, 34.9, 'ALERT', 'AIR', 'unrestricted normal activity', 'High', 'Emergency Hospital', '789 Main St, City']\n",
            "Patient E5702: ['Male', 80.0, 23.0, 0.96, 135.0, 115.0, 38.1, 'ALERT', 'AIR', 'unrestricted normal activity', 'High', 'Emergency Hospital', '789 Main St, City']\n",
            "Patient E5513: ['FEMALE', 18.0, 12.0, 0.96, 105.0, 115.0, 38.1, 'ALERT', 'AIR', 'unrestricted normal activity', 'High', 'Emergency Hospital', '789 Main St, City']\n",
            "Patient E1861: ['FEMALE', 18.0, 22.0, 0.96, 105.0, 230.0, 38.1, 'ALERT', 'AIR', 'limited strenuous activity, can do light activity', 'High', 'Emergency Hospital', '789 Main St, City']\n",
            "Patient E4809: ['FEMALE', 40.0, 22.0, 0.96, 41.0, 230.0, 38.1, 'ALERT', 'AIR', 'unrestricted normal activity', 'High', 'Emergency Hospital', '789 Main St, City']\n",
            "Patient E1365: ['MALE', 22.0, 22.0, 0.96, 115.0, 101.0, 35.4, 'ALERT', 'AIR', 'bed/chair bound, no self-care', 'High', 'Emergency Hospital', '789 Main St, City']\n",
            "Patient E5984: ['Male', 40.0, 12.0, 0.93, 105.0, 91.0, 35.1, 'ALERT', 'AIR', 'limited activity, can self-care', 'High', 'Emergency Hospital', '789 Main St, City']\n",
            "Patient E7013: ['FEMALE', 66.0, 23.0, 0.96, 135.0, 89.0, 40.8, 'ALERT', 'supplemental oxygen', 'unrestricted normal activity', 'High', 'Emergency Hospital', '789 Main St, City']\n",
            "Patient E2331: ['female', 18.0, 23.0, 0.98, 105.0, 115.0, 38.1, 'ALERT', 'AIR', 'limited self-care', 'High', 'Emergency Hospital', '789 Main St, City']\n",
            "Patient E9938: ['MALE', 18.0, 12.0, 0.96, 105.0, 89.0, 35.1, 'ALERT', 'AIR', 'unrestricted normal activity', 'High', 'Emergency Hospital', '789 Main St, City']\n",
            "Patient E5121: ['Female', 18.0, 23.0, 0.96, 41.0, 95.0, 38.1, 'ALERT', 'supplemental oxygen', 'limited activity, can self-care', 'High', 'Emergency Hospital', '789 Main St, City']\n",
            "Patient E9280: ['male', 65.0, 10.0, 0.96, 135.0, 91.0, 38.1, 'ALERT', 'AIR', 'unrestricted normal activity', 'High', 'Emergency Hospital', '789 Main St, City']\n",
            "Patient E4762: ['FEMALE', 40.0, 12.0, 0.98, 105.0, 95.0, 38.1, 'ALERT', 'AIR', 'unrestricted normal activity', 'High', 'Emergency Hospital', '789 Main St, City']\n",
            "Patient E6885: ['MALE', 18.0, 23.0, 0.93, 89.0, 115.0, 35.1, 'confused or not alert', 'AIR', 'limited activity, can self-care', 'High', 'Emergency Hospital', '789 Main St, City']\n",
            "Patient E1695: ['FEMALE', 40.0, 22.0, 0.96, 41.0, 115.0, 38.1, 'ALERT', 'AIR', 'unrestricted normal activity', 'High', 'Emergency Hospital', '789 Main St, City']\n",
            "Patient E9658: ['Female', 18.0, 10.0, 0.96, 90.0, 230.0, 38.1, 'ALERT', 'AIR', 'limited self-care', 'High', 'Emergency Hospital', '789 Main St, City']\n",
            "Patient E1961: ['FEMALE', 65.0, 23.0, 0.96, 105.0, 115.0, 40.8, 'ALERT', 'AIR', 'limited activity, can self-care', 'High', 'Emergency Hospital', '789 Main St, City']\n",
            "Patient E9154: ['FEMALE', 66.0, 8.0, 0.94, 105.0, 89.0, 35.4, 'alert', 'AIR', 'bed/chair bound, no self-care', 'High', 'Emergency Hospital', '789 Main St, City']\n",
            "Patient E9417: ['FEMALE', 40.0, 23.0, 0.96, 105.0, 95.0, 38.1, 'alert', 'AIR', 'unrestricted normal activity', 'High', 'Emergency Hospital', '789 Main St, City']\n",
            "Patient E9979: ['Male', 18.0, 8.0, 0.96, 105.0, 115.0, 38.1, 'ALERT', 'AIR', 'limited strenuous activity, can do light activity', 'High', 'Emergency Hospital', '789 Main St, City']\n",
            "Patient E9316: ['MALE', 18.0, 23.0, 0.96, 135.0, 115.0, 38.1, 'ALERT', 'AIR', 'unrestricted normal activity', 'High', 'Emergency Hospital', '789 Main St, City']\n",
            "Patient E8146: ['Male', 18.0, 12.0, 0.96, 115.0, 115.0, 38.1, 'ALERT', 'AIR', 'unrestricted normal activity', 'High', 'Emergency Hospital', '789 Main St, City']\n",
            "Patient E3093: ['female', 40.0, 29.0, 0.96, 105.0, 95.0, 38.1, 'ALERT', 'AIR', 'unrestricted normal activity', 'High', 'Emergency Hospital', '789 Main St, City']\n",
            "Patient E8829: ['male', 65.0, 12.0, 0.96, 51.0, 230.0, 38.1, 'alert', 'AIR', 'unrestricted normal activity', 'High', 'Emergency Hospital', '789 Main St, City']\n",
            "Patient E1453: ['male', 18.0, 24.0, 0.99, 105.0, 115.0, 38.1, 'ALERT', 'AIR', 'unrestricted normal activity', 'High', 'Emergency Hospital', '789 Main St, City']\n",
            "Patient E5777: ['female', 66.0, 23.0, 0.96, 115.0, 89.0, 38.1, 'ALERT', 'AIR', 'limited strenuous activity, can do light activity', 'High', 'Emergency Hospital', '789 Main St, City']\n",
            "Patient E4564: ['FEMALE', 18.0, 24.0, 0.96, 41.0, 115.0, 35.1, 'confused or not alert', 'AIR', 'unrestricted normal activity', 'High', 'Emergency Hospital', '789 Main St, City']\n",
            "Patient E1904: ['FEMALE', 40.0, 22.0, 0.93, 38.0, 95.0, 38.1, 'Confused or Not Alert', 'AIR', 'unrestricted normal activity', 'High', 'Emergency Hospital', '789 Main St, City']\n",
            "Patient E8746: ['Female', 40.0, 12.0, 0.93, 105.0, 115.0, 38.1, 'ALERT', 'AIR', 'unrestricted normal activity', 'High', 'Emergency Hospital', '789 Main St, City']\n",
            "Patient E9165: ['FEMALE', 19.0, 22.0, 0.98, 50.0, 95.0, 38.1, 'ALERT', 'AIR', 'limited activity, can self-care', 'High', 'Emergency Hospital', '789 Main St, City']\n",
            "Patient E9305: ['FEMALE', 40.0, 8.0, 0.89, 105.0, 101.0, 38.1, 'ALERT', 'supplemental oxygen', 'unrestricted normal activity', 'High', 'Emergency Hospital', '789 Main St, City']\n",
            "Patient E3217: ['Female', 40.0, 10.0, 0.95, 105.0, 95.0, 38.1, 'ALERT', 'AIR', 'unrestricted normal activity', 'High', 'Emergency Hospital', '789 Main St, City']\n",
            "Patient E3127: ['Female', 40.0, 8.0, 0.96, 38.0, 115.0, 36.3, 'ALERT', 'AIR', 'limited strenuous activity, can do light activity', 'High', 'Emergency Hospital', '789 Main St, City']\n",
            "Patient E7501: ['female', 18.0, 23.0, 0.96, 135.0, 115.0, 38.1, 'ALERT', 'AIR', 'unrestricted normal activity', 'High', 'Emergency Hospital', '789 Main St, City']\n",
            "Patient E4997: ['female', 40.0, 23.0, 0.94, 105.0, 115.0, 36.3, 'ALERT', 'AIR', 'unrestricted normal activity', 'High', 'Emergency Hospital', '789 Main St, City']\n",
            "Patient E6181: ['female', 19.0, 23.0, 0.96, 89.0, 115.0, 38.1, 'ALERT', 'AIR', 'unrestricted normal activity', 'High', 'Emergency Hospital', '789 Main St, City']\n",
            "Patient E1073: ['FEMALE', 18.0, 24.0, 0.95, 50.0, 115.0, 38.1, 'Confused or Not Alert', 'AIR', 'limited self-care', 'High', 'Emergency Hospital', '789 Main St, City']\n",
            "Patient E9608: ['female', 80.0, 12.0, 0.96, 50.0, 89.0, 38.1, 'ALERT', 'AIR', 'unrestricted normal activity', 'High', 'Emergency Hospital', '789 Main St, City']\n",
            "Patient E7663: ['FEMALE', 18.0, 11.0, 0.96, 105.0, 115.0, 38.1, 'ALERT', 'air', 'limited self-care', 'High', 'Emergency Hospital', '789 Main St, City']\n",
            "Patient E7648: ['female', 66.0, 12.0, 0.98, 41.0, 115.0, 34.9, 'ALERT', 'air', 'unrestricted normal activity', 'High', 'Emergency Hospital', '789 Main St, City']\n",
            "Patient E1883: ['male', 40.0, 10.0, 0.98, 105.0, 115.0, 38.1, 'ALERT', 'AIR', 'unrestricted normal activity', 'High', 'Emergency Hospital', '789 Main St, City']\n",
            "Patient E2001: ['FEMALE', 18.0, 12.0, 0.99, 51.0, 115.0, 38.1, 'Confused or Not Alert', 'AIR', 'unrestricted normal activity', 'High', 'Emergency Hospital', '789 Main St, City']\n",
            "Patient E2418: ['male', 18.0, 20.0, 0.94, 105.0, 115.0, 35.4, 'ALERT', 'air', 'unrestricted normal activity', 'High', 'Emergency Hospital', '789 Main St, City']\n",
            "Patient E3739: ['Male', 85.0, 10.0, 0.96, 105.0, 115.0, 38.1, 'Confused or Not Alert', 'supplemental oxygen', 'unrestricted normal activity', 'High', 'Emergency Hospital', '789 Main St, City']\n",
            "Patient E8351: ['FEMALE', 40.0, 23.0, 0.96, 90.0, 101.0, 38.1, 'ALERT', 'AIR', 'unrestricted normal activity', 'High', 'Emergency Hospital', '789 Main St, City']\n",
            "Patient E2882: ['Male', 51.0, 24.0, 0.98, 105.0, 91.0, 38.1, 'ALERT', 'AIR', 'unrestricted normal activity', 'High', 'Emergency Hospital', '789 Main St, City']\n",
            "Patient E1902: ['Female', 85.0, 22.0, 0.96, 105.0, 115.0, 38.1, 'ALERT', 'supplemental oxygen', 'unrestricted normal activity', 'High', 'Emergency Hospital', '789 Main St, City']\n",
            "Patient E2155: ['Male', 18.0, 22.0, 0.94, 105.0, 115.0, 38.1, 'ALERT', 'air', 'limited self-care', 'High', 'Emergency Hospital', '789 Main St, City']\n",
            "Patient E4345: ['Female', 40.0, 19.0, 0.89, 41.0, 115.0, 34.9, 'ALERT', 'air', 'unrestricted normal activity', 'High', 'Emergency Hospital', '789 Main St, City']\n",
            "Patient E4194: ['FEMALE', 40.0, 12.0, 0.95, 105.0, 91.0, 38.1, 'ALERT', 'AIR', 'limited self-care', 'High', 'Emergency Hospital', '789 Main St, City']\n",
            "Patient E5211: ['male', 65.0, 22.0, 0.96, 41.0, 115.0, 38.1, 'ALERT', 'AIR', 'unrestricted normal activity', 'High', 'Emergency Hospital', '789 Main St, City']\n",
            "Patient E5488: ['Female', 40.0, 12.0, 0.94, 105.0, 101.0, 38.1, 'ALERT', 'AIR', 'unrestricted normal activity', 'High', 'Emergency Hospital', '789 Main St, City']\n",
            "Patient E8560: ['FEMALE', 40.0, 23.0, 0.96, 41.0, 115.0, 35.1, 'confused or not alert', 'AIR', 'unrestricted normal activity', 'High', 'Emergency Hospital', '789 Main St, City']\n",
            "Patient E2995: ['FEMALE', 18.0, 20.0, 0.99, 105.0, 95.0, 35.1, 'alert', 'AIR', 'unrestricted normal activity', 'High', 'Emergency Hospital', '789 Main St, City']\n",
            "Patient E3422: ['FEMALE', 40.0, 8.0, 0.96, 105.0, 115.0, 35.4, 'ALERT', 'AIR', 'unrestricted normal activity', 'High', 'Emergency Hospital', '789 Main St, City']\n",
            "Patient E7707: ['Female', 18.0, 20.0, 0.96, 38.0, 115.0, 36.3, 'ALERT', 'air', 'limited strenuous activity, can do light activity', 'High', 'Emergency Hospital', '789 Main St, City']\n",
            "Patient E3119: ['FEMALE', 18.0, 20.0, 0.99, 135.0, 89.0, 35.1, 'ALERT', 'supplemental oxygen', 'unrestricted normal activity', 'High', 'Emergency Hospital', '789 Main St, City']\n",
            "Patient E1419: ['male', 65.0, 23.0, 0.99, 105.0, 91.0, 38.1, 'alert', 'AIR', 'unrestricted normal activity', 'High', 'Emergency Hospital', '789 Main St, City']\n",
            "Patient E7748: ['male', 40.0, 23.0, 0.93, 105.0, 115.0, 38.1, 'ALERT', 'supplemental oxygen', 'unrestricted normal activity', 'High', 'Emergency Hospital', '789 Main St, City']\n",
            "Patient E7251: ['Female', 40.0, 12.0, 0.96, 105.0, 91.0, 38.1, 'alert', 'AIR', 'unrestricted normal activity', 'High', 'Emergency Hospital', '789 Main St, City']\n",
            "Patient E1235: ['FEMALE', 40.0, 29.0, 0.96, 41.0, 115.0, 38.1, 'ALERT', 'AIR', 'bed/chair bound, no self-care', 'High', 'Emergency Hospital', '789 Main St, City']\n",
            "Patient E5361: ['FEMALE', 18.0, 22.0, 0.93, 90.0, 101.0, 38.1, 'confused or not alert', 'AIR', 'unrestricted normal activity', 'High', 'Emergency Hospital', '789 Main St, City']\n",
            "Patient E7130: ['FEMALE', 18.0, 22.0, 0.96, 50.0, 115.0, 38.1, 'ALERT', 'AIR', 'limited strenuous activity, can do light activity', 'High', 'Emergency Hospital', '789 Main St, City']\n",
            "Patient E5665: ['FEMALE', 85.0, 23.0, 0.96, 115.0, 115.0, 38.1, 'ALERT', 'AIR', 'unrestricted normal activity', 'High', 'Emergency Hospital', '789 Main St, City']\n",
            "Patient E9957: ['Female', 40.0, 22.0, 0.98, 89.0, 230.0, 38.1, 'alert', 'AIR', 'unrestricted normal activity', 'High', 'Emergency Hospital', '789 Main St, City']\n",
            "Patient E10000: ['FEMALE', 18.0, 23.0, 0.96, 105.0, 101.0, 38.1, 'ALERT', 'AIR', 'limited activity, can self-care', 'High', 'Emergency Hospital', '789 Main St, City']\n"
          ]
        }
      ],
      "source": [
        "import csv\n",
        "import requests\n",
        "\n",
        "def priest(sex, age, breath, o2sat, heart, systolic, temp, alertness, inspired, status):\n",
        "    \"\"\"\n",
        "    PRIEST risk calculation placeholder.\n",
        "    Replace this with actual calculation logic.\n",
        "    \"\"\"\n",
        "    if o2sat < 95:\n",
        "        return \"High\"\n",
        "    elif breath > 20 or systolic < 100:\n",
        "        return \"Medium\"\n",
        "    else:\n",
        "        return \"Low\"\n",
        "\n",
        "def find_hospital(age, sex, risk):\n",
        "    \"\"\"\n",
        "    Placeholder for finding a hospital based on age, sex, and risk.\n",
        "    \"\"\"\n",
        "    if risk == \"High\":\n",
        "        return \"Emergency Hospital\"\n",
        "    elif risk == \"Medium\":\n",
        "        return \"General Hospital\"\n",
        "    else:\n",
        "        return \"Local Clinic\"\n",
        "\n",
        "def get_address(hospital):\n",
        "    \"\"\"\n",
        "    Returns a placeholder address for a given hospital.\n",
        "    \"\"\"\n",
        "    addresses = {\n",
        "        \"Emergency Hospital\": \"789 Main St, City\",\n",
        "        \"General Hospital\": \"456 Health Ave, Town\",\n",
        "        \"Local Clinic\": \"123 Wellness Rd, Village\"\n",
        "    }\n",
        "    return addresses.get(hospital, \"Unknown Address\")\n",
        "\n",
        "def process_people(url):\n",
        "    \"\"\"\n",
        "    Downloads and processes the patient data from a given URL and returns a dictionary.\n",
        "\n",
        "    The dictionary maps each patient ID to their medical information, including\n",
        "    the calculated PRIEST risk, hospital, and hospital address.\n",
        "\n",
        "    Parameters:\n",
        "    - url (str): The URL to download the pipe-delimited (.psv) patient data file.\n",
        "\n",
        "    Returns:\n",
        "    - dict: A dictionary where the key is the patient ID and the value is a list\n",
        "      with all the patient details.\n",
        "    \"\"\"\n",
        "    # Download the file content from the URL\n",
        "    response = requests.get(url)\n",
        "    response.raise_for_status()  # Ensure the request was successful\n",
        "\n",
        "    # Read the file content using the CSV reader with pipe delimiter\n",
        "    lines = response.text.strip().split('\\n')\n",
        "    reader = csv.reader(lines, delimiter='|')\n",
        "\n",
        "    # Skip the header row\n",
        "    next(reader)\n",
        "\n",
        "    patients_data = {}\n",
        "\n",
        "    for row in reader:\n",
        "        if len(row) < 11:\n",
        "            continue  # Skip rows that don't have enough fields\n",
        "\n",
        "        patient_id = row[0]\n",
        "        sex = row[1]\n",
        "        age = float(row[2])\n",
        "        breath = float(row[3])\n",
        "        o2sat = float(row[4])\n",
        "        heart = float(row[5])\n",
        "        systolic = float(row[6])\n",
        "        temp = float(row[7])\n",
        "        alertness = row[8]\n",
        "        inspired = row[9]\n",
        "        status = row[10]\n",
        "\n",
        "        # Calculate the PRIEST risk\n",
        "        risk = priest(sex, age, breath, o2sat, heart, systolic, temp, alertness, inspired, status)\n",
        "\n",
        "        # Determine the hospital and its address\n",
        "        hospital = find_hospital(age, sex, risk)\n",
        "        address = get_address(hospital)\n",
        "\n",
        "        # Store the patient data in the dictionary\n",
        "        patients_data[patient_id] = [\n",
        "            sex, age, breath, o2sat, heart, systolic, temp, alertness, inspired, status, risk, hospital, address\n",
        "        ]\n",
        "\n",
        "    return patients_data\n",
        "\n",
        "# Example usage\n",
        "url = \"https://drive.google.com/uc?export=download&id=1fLxJN9YGUqmqExrilxSS8furwUER5HHh\"\n",
        "result = process_people(url)\n",
        "for patient_id, details in result.items():\n",
        "    print(f\"Patient {patient_id}: {details}\")"
      ]
    },
    {
      "cell_type": "markdown",
      "metadata": {
        "id": "74XZcVCaB9x4"
      },
      "source": [
        "## Part 5: Checking your final results\n",
        "\n",
        "The final step is to check your results.  You should be able to compare your results to the output in `people_results.json` at the link below.  Write some code to check your results.  This does not need to be a function.\n",
        "\n",
        "`https://drive.google.com/uc?export=download&id=1gx1SSC20mO5XL6uYD0mdcM_cL91fcIW5`\n"
      ]
    },
    {
      "cell_type": "code",
      "execution_count": 79,
      "metadata": {
        "id": "tluviiZcB9x5",
        "outputId": "da3fcb4c-90eb-47d8-aed7-1665efd321f2",
        "colab": {
          "base_uri": "https://localhost:8080/"
        }
      },
      "outputs": [
        {
          "output_type": "stream",
          "name": "stdout",
          "text": [
            "{'E9559': ['FEMALE', 40.0, 24.0, 0.96, 105.0, 115.0, 34.9, 'ALERT', 'AIR', 'unrestricted normal activity', 'High', 'Emergency Hospital', '789 Main St, City'], 'E9385': ['Female', 51.0, 19.0, 0.99, 90.0, 91.0, 38.1, 'ALERT', 'supplemental oxygen', 'unrestricted normal activity', 'High', 'Emergency Hospital', '789 Main St, City'], 'E3067': ['female', 40.0, 29.0, 0.96, 105.0, 95.0, 38.1, 'ALERT', 'air', 'unrestricted normal activity', 'High', 'Emergency Hospital', '789 Main St, City'], 'E9422': ['FEMALE', 66.0, 19.0, 0.96, 135.0, 115.0, 38.1, 'ALERT', 'AIR', 'bed/chair bound, no self-care', 'High', 'Emergency Hospital', '789 Main St, City'], 'E8661': ['MALE', 18.0, 22.0, 0.95, 105.0, 115.0, 36.3, 'Confused or Not Alert', 'air', 'unrestricted normal activity', 'High', 'Emergency Hospital', '789 Main St, City'], 'E6235': ['Male', 16.0, 23.0, 0.96, 135.0, 115.0, 39.2, 'ALERT', 'supplemental oxygen', 'unrestricted normal activity', 'High', 'Emergency Hospital', '789 Main St, City'], 'E4451': ['MALE', 40.0, 8.0, 0.96, 135.0, 115.0, 38.1, 'ALERT', 'AIR', 'unrestricted normal activity', 'High', 'Emergency Hospital', '789 Main St, City'], 'E8433': ['FEMALE', 40.0, 23.0, 0.99, 89.0, 91.0, 38.1, 'ALERT', 'AIR', 'limited self-care', 'High', 'Emergency Hospital', '789 Main St, City'], 'E7593': ['FEMALE', 80.0, 23.0, 0.96, 105.0, 115.0, 38.1, 'ALERT', 'supplemental oxygen', 'limited activity, can self-care', 'High', 'Emergency Hospital', '789 Main St, City'], 'E3296': ['MALE', 51.0, 23.0, 0.95, 105.0, 115.0, 38.1, 'ALERT', 'AIR', 'unrestricted normal activity', 'High', 'Emergency Hospital', '789 Main St, City'], 'E4157': ['FEMALE', 40.0, 23.0, 0.96, 41.0, 115.0, 35.4, 'ALERT', 'AIR', 'unrestricted normal activity', 'High', 'Emergency Hospital', '789 Main St, City'], 'E7702': ['FEMALE', 40.0, 22.0, 0.96, 105.0, 115.0, 38.1, 'ALERT', 'supplemental oxygen', 'unrestricted normal activity', 'High', 'Emergency Hospital', '789 Main St, City'], 'E8158': ['MALE', 40.0, 20.0, 0.99, 135.0, 115.0, 39.2, 'ALERT', 'AIR', 'unrestricted normal activity', 'High', 'Emergency Hospital', '789 Main St, City'], 'E4795': ['female', 80.0, 11.0, 0.93, 105.0, 95.0, 40.8, 'ALERT', 'AIR', 'limited activity, can self-care', 'High', 'Emergency Hospital', '789 Main St, City'], 'E8800': ['MALE', 80.0, 22.0, 0.96, 105.0, 115.0, 39.2, 'confused or not alert', 'AIR', 'limited activity, can self-care', 'High', 'Emergency Hospital', '789 Main St, City'], 'E4855': ['female', 51.0, 23.0, 0.94, 135.0, 115.0, 38.1, 'ALERT', 'AIR', 'limited strenuous activity, can do light activity', 'High', 'Emergency Hospital', '789 Main St, City'], 'E9691': ['Male', 16.0, 10.0, 0.96, 105.0, 115.0, 38.1, 'ALERT', 'AIR', 'unrestricted normal activity', 'High', 'Emergency Hospital', '789 Main St, City'], 'E4535': ['FEMALE', 19.0, 11.0, 0.99, 105.0, 115.0, 35.4, 'ALERT', 'AIR', 'unrestricted normal activity', 'High', 'Emergency Hospital', '789 Main St, City'], 'E2360': ['Male', 40.0, 20.0, 0.96, 51.0, 95.0, 34.9, 'alert', 'supplemental oxygen', 'unrestricted normal activity', 'High', 'Emergency Hospital', '789 Main St, City'], 'E3447': ['MALE', 80.0, 22.0, 0.96, 41.0, 115.0, 38.1, 'ALERT', 'AIR', 'limited activity, can self-care', 'High', 'Emergency Hospital', '789 Main St, City'], 'E8208': ['FEMALE', 18.0, 23.0, 0.96, 135.0, 115.0, 38.1, 'ALERT', 'AIR', 'unrestricted normal activity', 'High', 'Emergency Hospital', '789 Main St, City'], 'E4428': ['FEMALE', 40.0, 23.0, 0.96, 38.0, 115.0, 36.3, 'ALERT', 'AIR', 'unrestricted normal activity', 'High', 'Emergency Hospital', '789 Main St, City'], 'E2766': ['Male', 18.0, 23.0, 0.96, 105.0, 115.0, 34.9, 'ALERT', 'AIR', 'unrestricted normal activity', 'High', 'Emergency Hospital', '789 Main St, City'], 'E3888': ['FEMALE', 51.0, 19.0, 0.96, 135.0, 115.0, 34.9, 'ALERT', 'AIR', 'unrestricted normal activity', 'High', 'Emergency Hospital', '789 Main St, City'], 'E7110': ['female', 85.0, 24.0, 0.99, 105.0, 101.0, 40.8, 'Confused or Not Alert', 'AIR', 'unrestricted normal activity', 'High', 'Emergency Hospital', '789 Main St, City'], 'E2668': ['FEMALE', 18.0, 22.0, 0.96, 105.0, 101.0, 38.1, 'ALERT', 'AIR', 'unrestricted normal activity', 'High', 'Emergency Hospital', '789 Main St, City'], 'E8482': ['Male', 40.0, 22.0, 0.96, 105.0, 230.0, 36.3, 'ALERT', 'AIR', 'limited self-care', 'High', 'Emergency Hospital', '789 Main St, City'], 'E9619': ['FEMALE', 40.0, 11.0, 0.98, 41.0, 115.0, 38.1, 'ALERT', 'AIR', 'unrestricted normal activity', 'High', 'Emergency Hospital', '789 Main St, City'], 'E1700': ['male', 40.0, 23.0, 0.96, 105.0, 115.0, 38.1, 'Confused or Not Alert', 'AIR', 'unrestricted normal activity', 'High', 'Emergency Hospital', '789 Main St, City'], 'E8585': ['MALE', 19.0, 8.0, 0.96, 105.0, 115.0, 36.3, 'alert', 'AIR', 'bed/chair bound, no self-care', 'High', 'Emergency Hospital', '789 Main St, City'], 'E8633': ['FEMALE', 40.0, 22.0, 0.96, 38.0, 91.0, 35.4, 'ALERT', 'AIR', 'unrestricted normal activity', 'High', 'Emergency Hospital', '789 Main St, City'], 'E2117': ['FEMALE', 16.0, 22.0, 0.96, 135.0, 115.0, 39.2, 'Confused or Not Alert', 'supplemental oxygen', 'bed/chair bound, no self-care', 'High', 'Emergency Hospital', '789 Main St, City'], 'E2322': ['female', 18.0, 22.0, 0.96, 105.0, 115.0, 38.1, 'alert', 'supplemental oxygen', 'unrestricted normal activity', 'High', 'Emergency Hospital', '789 Main St, City'], 'E6912': ['FEMALE', 51.0, 23.0, 0.96, 105.0, 95.0, 34.9, 'ALERT', 'AIR', 'unrestricted normal activity', 'High', 'Emergency Hospital', '789 Main St, City'], 'E5702': ['Male', 80.0, 23.0, 0.96, 135.0, 115.0, 38.1, 'ALERT', 'AIR', 'unrestricted normal activity', 'High', 'Emergency Hospital', '789 Main St, City'], 'E5513': ['FEMALE', 18.0, 12.0, 0.96, 105.0, 115.0, 38.1, 'ALERT', 'AIR', 'unrestricted normal activity', 'High', 'Emergency Hospital', '789 Main St, City'], 'E1861': ['FEMALE', 18.0, 22.0, 0.96, 105.0, 230.0, 38.1, 'ALERT', 'AIR', 'limited strenuous activity, can do light activity', 'High', 'Emergency Hospital', '789 Main St, City'], 'E4809': ['FEMALE', 40.0, 22.0, 0.96, 41.0, 230.0, 38.1, 'ALERT', 'AIR', 'unrestricted normal activity', 'High', 'Emergency Hospital', '789 Main St, City'], 'E1365': ['MALE', 22.0, 22.0, 0.96, 115.0, 101.0, 35.4, 'ALERT', 'AIR', 'bed/chair bound, no self-care', 'High', 'Emergency Hospital', '789 Main St, City'], 'E5984': ['Male', 40.0, 12.0, 0.93, 105.0, 91.0, 35.1, 'ALERT', 'AIR', 'limited activity, can self-care', 'High', 'Emergency Hospital', '789 Main St, City'], 'E7013': ['FEMALE', 66.0, 23.0, 0.96, 135.0, 89.0, 40.8, 'ALERT', 'supplemental oxygen', 'unrestricted normal activity', 'High', 'Emergency Hospital', '789 Main St, City'], 'E2331': ['female', 18.0, 23.0, 0.98, 105.0, 115.0, 38.1, 'ALERT', 'AIR', 'limited self-care', 'High', 'Emergency Hospital', '789 Main St, City'], 'E9938': ['MALE', 18.0, 12.0, 0.96, 105.0, 89.0, 35.1, 'ALERT', 'AIR', 'unrestricted normal activity', 'High', 'Emergency Hospital', '789 Main St, City'], 'E5121': ['Female', 18.0, 23.0, 0.96, 41.0, 95.0, 38.1, 'ALERT', 'supplemental oxygen', 'limited activity, can self-care', 'High', 'Emergency Hospital', '789 Main St, City'], 'E9280': ['male', 65.0, 10.0, 0.96, 135.0, 91.0, 38.1, 'ALERT', 'AIR', 'unrestricted normal activity', 'High', 'Emergency Hospital', '789 Main St, City'], 'E4762': ['FEMALE', 40.0, 12.0, 0.98, 105.0, 95.0, 38.1, 'ALERT', 'AIR', 'unrestricted normal activity', 'High', 'Emergency Hospital', '789 Main St, City'], 'E6885': ['MALE', 18.0, 23.0, 0.93, 89.0, 115.0, 35.1, 'confused or not alert', 'AIR', 'limited activity, can self-care', 'High', 'Emergency Hospital', '789 Main St, City'], 'E1695': ['FEMALE', 40.0, 22.0, 0.96, 41.0, 115.0, 38.1, 'ALERT', 'AIR', 'unrestricted normal activity', 'High', 'Emergency Hospital', '789 Main St, City'], 'E9658': ['Female', 18.0, 10.0, 0.96, 90.0, 230.0, 38.1, 'ALERT', 'AIR', 'limited self-care', 'High', 'Emergency Hospital', '789 Main St, City'], 'E1961': ['FEMALE', 65.0, 23.0, 0.96, 105.0, 115.0, 40.8, 'ALERT', 'AIR', 'limited activity, can self-care', 'High', 'Emergency Hospital', '789 Main St, City'], 'E9154': ['FEMALE', 66.0, 8.0, 0.94, 105.0, 89.0, 35.4, 'alert', 'AIR', 'bed/chair bound, no self-care', 'High', 'Emergency Hospital', '789 Main St, City'], 'E9417': ['FEMALE', 40.0, 23.0, 0.96, 105.0, 95.0, 38.1, 'alert', 'AIR', 'unrestricted normal activity', 'High', 'Emergency Hospital', '789 Main St, City'], 'E9979': ['Male', 18.0, 8.0, 0.96, 105.0, 115.0, 38.1, 'ALERT', 'AIR', 'limited strenuous activity, can do light activity', 'High', 'Emergency Hospital', '789 Main St, City'], 'E9316': ['MALE', 18.0, 23.0, 0.96, 135.0, 115.0, 38.1, 'ALERT', 'AIR', 'unrestricted normal activity', 'High', 'Emergency Hospital', '789 Main St, City'], 'E8146': ['Male', 18.0, 12.0, 0.96, 115.0, 115.0, 38.1, 'ALERT', 'AIR', 'unrestricted normal activity', 'High', 'Emergency Hospital', '789 Main St, City'], 'E3093': ['female', 40.0, 29.0, 0.96, 105.0, 95.0, 38.1, 'ALERT', 'AIR', 'unrestricted normal activity', 'High', 'Emergency Hospital', '789 Main St, City'], 'E8829': ['male', 65.0, 12.0, 0.96, 51.0, 230.0, 38.1, 'alert', 'AIR', 'unrestricted normal activity', 'High', 'Emergency Hospital', '789 Main St, City'], 'E1453': ['male', 18.0, 24.0, 0.99, 105.0, 115.0, 38.1, 'ALERT', 'AIR', 'unrestricted normal activity', 'High', 'Emergency Hospital', '789 Main St, City'], 'E5777': ['female', 66.0, 23.0, 0.96, 115.0, 89.0, 38.1, 'ALERT', 'AIR', 'limited strenuous activity, can do light activity', 'High', 'Emergency Hospital', '789 Main St, City'], 'E4564': ['FEMALE', 18.0, 24.0, 0.96, 41.0, 115.0, 35.1, 'confused or not alert', 'AIR', 'unrestricted normal activity', 'High', 'Emergency Hospital', '789 Main St, City'], 'E1904': ['FEMALE', 40.0, 22.0, 0.93, 38.0, 95.0, 38.1, 'Confused or Not Alert', 'AIR', 'unrestricted normal activity', 'High', 'Emergency Hospital', '789 Main St, City'], 'E8746': ['Female', 40.0, 12.0, 0.93, 105.0, 115.0, 38.1, 'ALERT', 'AIR', 'unrestricted normal activity', 'High', 'Emergency Hospital', '789 Main St, City'], 'E9165': ['FEMALE', 19.0, 22.0, 0.98, 50.0, 95.0, 38.1, 'ALERT', 'AIR', 'limited activity, can self-care', 'High', 'Emergency Hospital', '789 Main St, City'], 'E9305': ['FEMALE', 40.0, 8.0, 0.89, 105.0, 101.0, 38.1, 'ALERT', 'supplemental oxygen', 'unrestricted normal activity', 'High', 'Emergency Hospital', '789 Main St, City'], 'E3217': ['Female', 40.0, 10.0, 0.95, 105.0, 95.0, 38.1, 'ALERT', 'AIR', 'unrestricted normal activity', 'High', 'Emergency Hospital', '789 Main St, City'], 'E3127': ['Female', 40.0, 8.0, 0.96, 38.0, 115.0, 36.3, 'ALERT', 'AIR', 'limited strenuous activity, can do light activity', 'High', 'Emergency Hospital', '789 Main St, City'], 'E7501': ['female', 18.0, 23.0, 0.96, 135.0, 115.0, 38.1, 'ALERT', 'AIR', 'unrestricted normal activity', 'High', 'Emergency Hospital', '789 Main St, City'], 'E4997': ['female', 40.0, 23.0, 0.94, 105.0, 115.0, 36.3, 'ALERT', 'AIR', 'unrestricted normal activity', 'High', 'Emergency Hospital', '789 Main St, City'], 'E6181': ['female', 19.0, 23.0, 0.96, 89.0, 115.0, 38.1, 'ALERT', 'AIR', 'unrestricted normal activity', 'High', 'Emergency Hospital', '789 Main St, City'], 'E1073': ['FEMALE', 18.0, 24.0, 0.95, 50.0, 115.0, 38.1, 'Confused or Not Alert', 'AIR', 'limited self-care', 'High', 'Emergency Hospital', '789 Main St, City'], 'E9608': ['female', 80.0, 12.0, 0.96, 50.0, 89.0, 38.1, 'ALERT', 'AIR', 'unrestricted normal activity', 'High', 'Emergency Hospital', '789 Main St, City'], 'E7663': ['FEMALE', 18.0, 11.0, 0.96, 105.0, 115.0, 38.1, 'ALERT', 'air', 'limited self-care', 'High', 'Emergency Hospital', '789 Main St, City'], 'E7648': ['female', 66.0, 12.0, 0.98, 41.0, 115.0, 34.9, 'ALERT', 'air', 'unrestricted normal activity', 'High', 'Emergency Hospital', '789 Main St, City'], 'E1883': ['male', 40.0, 10.0, 0.98, 105.0, 115.0, 38.1, 'ALERT', 'AIR', 'unrestricted normal activity', 'High', 'Emergency Hospital', '789 Main St, City'], 'E2001': ['FEMALE', 18.0, 12.0, 0.99, 51.0, 115.0, 38.1, 'Confused or Not Alert', 'AIR', 'unrestricted normal activity', 'High', 'Emergency Hospital', '789 Main St, City'], 'E2418': ['male', 18.0, 20.0, 0.94, 105.0, 115.0, 35.4, 'ALERT', 'air', 'unrestricted normal activity', 'High', 'Emergency Hospital', '789 Main St, City'], 'E3739': ['Male', 85.0, 10.0, 0.96, 105.0, 115.0, 38.1, 'Confused or Not Alert', 'supplemental oxygen', 'unrestricted normal activity', 'High', 'Emergency Hospital', '789 Main St, City'], 'E8351': ['FEMALE', 40.0, 23.0, 0.96, 90.0, 101.0, 38.1, 'ALERT', 'AIR', 'unrestricted normal activity', 'High', 'Emergency Hospital', '789 Main St, City'], 'E2882': ['Male', 51.0, 24.0, 0.98, 105.0, 91.0, 38.1, 'ALERT', 'AIR', 'unrestricted normal activity', 'High', 'Emergency Hospital', '789 Main St, City'], 'E1902': ['Female', 85.0, 22.0, 0.96, 105.0, 115.0, 38.1, 'ALERT', 'supplemental oxygen', 'unrestricted normal activity', 'High', 'Emergency Hospital', '789 Main St, City'], 'E2155': ['Male', 18.0, 22.0, 0.94, 105.0, 115.0, 38.1, 'ALERT', 'air', 'limited self-care', 'High', 'Emergency Hospital', '789 Main St, City'], 'E4345': ['Female', 40.0, 19.0, 0.89, 41.0, 115.0, 34.9, 'ALERT', 'air', 'unrestricted normal activity', 'High', 'Emergency Hospital', '789 Main St, City'], 'E4194': ['FEMALE', 40.0, 12.0, 0.95, 105.0, 91.0, 38.1, 'ALERT', 'AIR', 'limited self-care', 'High', 'Emergency Hospital', '789 Main St, City'], 'E5211': ['male', 65.0, 22.0, 0.96, 41.0, 115.0, 38.1, 'ALERT', 'AIR', 'unrestricted normal activity', 'High', 'Emergency Hospital', '789 Main St, City'], 'E5488': ['Female', 40.0, 12.0, 0.94, 105.0, 101.0, 38.1, 'ALERT', 'AIR', 'unrestricted normal activity', 'High', 'Emergency Hospital', '789 Main St, City'], 'E8560': ['FEMALE', 40.0, 23.0, 0.96, 41.0, 115.0, 35.1, 'confused or not alert', 'AIR', 'unrestricted normal activity', 'High', 'Emergency Hospital', '789 Main St, City'], 'E2995': ['FEMALE', 18.0, 20.0, 0.99, 105.0, 95.0, 35.1, 'alert', 'AIR', 'unrestricted normal activity', 'High', 'Emergency Hospital', '789 Main St, City'], 'E3422': ['FEMALE', 40.0, 8.0, 0.96, 105.0, 115.0, 35.4, 'ALERT', 'AIR', 'unrestricted normal activity', 'High', 'Emergency Hospital', '789 Main St, City'], 'E7707': ['Female', 18.0, 20.0, 0.96, 38.0, 115.0, 36.3, 'ALERT', 'air', 'limited strenuous activity, can do light activity', 'High', 'Emergency Hospital', '789 Main St, City'], 'E3119': ['FEMALE', 18.0, 20.0, 0.99, 135.0, 89.0, 35.1, 'ALERT', 'supplemental oxygen', 'unrestricted normal activity', 'High', 'Emergency Hospital', '789 Main St, City'], 'E1419': ['male', 65.0, 23.0, 0.99, 105.0, 91.0, 38.1, 'alert', 'AIR', 'unrestricted normal activity', 'High', 'Emergency Hospital', '789 Main St, City'], 'E7748': ['male', 40.0, 23.0, 0.93, 105.0, 115.0, 38.1, 'ALERT', 'supplemental oxygen', 'unrestricted normal activity', 'High', 'Emergency Hospital', '789 Main St, City'], 'E7251': ['Female', 40.0, 12.0, 0.96, 105.0, 91.0, 38.1, 'alert', 'AIR', 'unrestricted normal activity', 'High', 'Emergency Hospital', '789 Main St, City'], 'E1235': ['FEMALE', 40.0, 29.0, 0.96, 41.0, 115.0, 38.1, 'ALERT', 'AIR', 'bed/chair bound, no self-care', 'High', 'Emergency Hospital', '789 Main St, City'], 'E5361': ['FEMALE', 18.0, 22.0, 0.93, 90.0, 101.0, 38.1, 'confused or not alert', 'AIR', 'unrestricted normal activity', 'High', 'Emergency Hospital', '789 Main St, City'], 'E7130': ['FEMALE', 18.0, 22.0, 0.96, 50.0, 115.0, 38.1, 'ALERT', 'AIR', 'limited strenuous activity, can do light activity', 'High', 'Emergency Hospital', '789 Main St, City'], 'E5665': ['FEMALE', 85.0, 23.0, 0.96, 115.0, 115.0, 38.1, 'ALERT', 'AIR', 'unrestricted normal activity', 'High', 'Emergency Hospital', '789 Main St, City'], 'E9957': ['Female', 40.0, 22.0, 0.98, 89.0, 230.0, 38.1, 'alert', 'AIR', 'unrestricted normal activity', 'High', 'Emergency Hospital', '789 Main St, City'], 'E10000': ['FEMALE', 18.0, 23.0, 0.96, 105.0, 101.0, 38.1, 'ALERT', 'AIR', 'limited activity, can self-care', 'High', 'Emergency Hospital', '789 Main St, City']}\n",
            "{'E9559': ['FEMALE', 40, 24.0, 0.96, 105.0, 115.0, 34.9, 'ALERT', 'AIR', 'unrestricted normal activity', 0.15, 'Select Specialty Hospital - Northeast Atlanta', '1821 CLIFTON ROAD NE'], 'E9385': ['Female', 51, 19.0, 0.99, 90.0, 91.0, 38.1, 'ALERT', 'supplemental oxygen', 'unrestricted normal activity', 0.18, 'Select Specialty Hospital - Northeast Atlanta', '1821 CLIFTON ROAD NE'], 'E3067': ['female', 40, 29.0, 0.96, 105.0, 95.0, 38.1, 'ALERT', 'air', 'unrestricted normal activity', 0.18, 'Select Specialty Hospital - Northeast Atlanta', '1821 CLIFTON ROAD NE'], 'E9422': ['FEMALE', 66, 19.0, 0.96, 135.0, 115.0, 38.1, 'ALERT', 'AIR', 'bed/chair bound, no self-care', 0.34, 'Wesley Woods Geriatric Hospital', '1821 CLIFTON ROAD, NE'], 'E8661': ['MALE', 18, 22.0, 0.95, 105.0, 115.0, 36.3, 'Confused or Not Alert', 'air', 'unrestricted normal activity', 0.22, 'Southwest Hospital and Medical Center', '501 FAIRBURN ROAD SW'], 'E6235': ['Male', 16, 23.0, 0.96, 135.0, 115.0, 39.2, 'ALERT', 'supplemental oxygen', 'unrestricted normal activity', 0.29, 'Childrens Healthcare of Atlanta at Scottish Rite', '1001 JOHNSON FERRY RD'], 'E4451': ['MALE', 40, 8.0, 0.96, 135.0, 115.0, 38.1, 'ALERT', 'AIR', 'unrestricted normal activity', 0.22, 'Southwest Hospital and Medical Center', '501 FAIRBURN ROAD SW'], 'E8433': ['FEMALE', 40, 23.0, 0.99, 89.0, 91.0, 38.1, 'ALERT', 'AIR', 'limited self-care', 0.22, 'Select Specialty Hospital - Northeast Atlanta', '1821 CLIFTON ROAD NE'], 'E7593': ['FEMALE', 80, 23.0, 0.96, 105.0, 115.0, 38.1, 'ALERT', 'supplemental oxygen', 'limited activity, can self-care', 0.34, 'Wesley Woods Geriatric Hospital', '1821 CLIFTON ROAD, NE'], 'E3296': ['MALE', 51, 23.0, 0.95, 105.0, 115.0, 38.1, 'ALERT', 'AIR', 'unrestricted normal activity', 0.22, 'Southwest Hospital and Medical Center', '501 FAIRBURN ROAD SW'], 'E4157': ['FEMALE', 40, 23.0, 0.96, 41.0, 115.0, 35.4, 'ALERT', 'AIR', 'unrestricted normal activity', 0.03, 'Select Specialty Hospital - Northeast Atlanta', '1821 CLIFTON ROAD NE'], 'E7702': ['FEMALE', 40, 22.0, 0.96, 105.0, 115.0, 38.1, 'ALERT', 'supplemental oxygen', 'unrestricted normal activity', 0.15, 'Select Specialty Hospital - Northeast Atlanta', '1821 CLIFTON ROAD NE'], 'E8158': ['MALE', 40, 20.0, 0.99, 135.0, 115.0, 39.2, 'ALERT', 'AIR', 'unrestricted normal activity', 0.15, 'Southwest Hospital and Medical Center', '501 FAIRBURN ROAD SW'], 'E4795': ['female', 80, 11.0, 0.93, 105.0, 95.0, 40.8, 'ALERT', 'AIR', 'limited activity, can self-care', 0.46, 'Wesley Woods Geriatric Hospital', '1821 CLIFTON ROAD, NE'], 'E8800': ['MALE', 80, 22.0, 0.96, 105.0, 115.0, 39.2, 'confused or not alert', 'AIR', 'limited activity, can self-care', 0.47, 'Wesley Woods Geriatric Hospital', '1821 CLIFTON ROAD, NE'], 'E4855': ['female', 51, 23.0, 0.94, 135.0, 115.0, 38.1, 'ALERT', 'AIR', 'limited strenuous activity, can do light activity', 0.29, 'Select Specialty Hospital - Northeast Atlanta', '1821 CLIFTON ROAD NE'], 'E9691': ['Male', 16, 10.0, 0.96, 105.0, 115.0, 38.1, 'ALERT', 'AIR', 'unrestricted normal activity', 0.03, 'Childrens Healthcare of Atlanta at Scottish Rite', '1001 JOHNSON FERRY RD'], 'E4535': ['FEMALE', 19, 11.0, 0.99, 105.0, 115.0, 35.4, 'ALERT', 'AIR', 'unrestricted normal activity', 0.02, 'Select Specialty Hospital - Northeast Atlanta', '1821 CLIFTON ROAD NE'], 'E2360': ['Male', 40, 20.0, 0.96, 51.0, 95.0, 34.9, 'alert', 'supplemental oxygen', 'unrestricted normal activity', 0.22, 'Southwest Hospital and Medical Center', '501 FAIRBURN ROAD SW'], 'E3447': ['MALE', 80, 22.0, 0.96, 41.0, 115.0, 38.1, 'ALERT', 'AIR', 'limited activity, can self-care', 0.29, 'Wesley Woods Geriatric Hospital', '1821 CLIFTON ROAD, NE'], 'E8208': ['FEMALE', 18, 23.0, 0.96, 135.0, 115.0, 38.1, 'ALERT', 'AIR', 'unrestricted normal activity', 0.15, 'Select Specialty Hospital - Northeast Atlanta', '1821 CLIFTON ROAD NE'], 'E4428': ['FEMALE', 40, 23.0, 0.96, 38.0, 115.0, 36.3, 'ALERT', 'AIR', 'unrestricted normal activity', 0.09, 'Select Specialty Hospital - Northeast Atlanta', '1821 CLIFTON ROAD NE'], 'E2766': ['Male', 18, 23.0, 0.96, 105.0, 115.0, 34.9, 'ALERT', 'AIR', 'unrestricted normal activity', 0.18, 'Southwest Hospital and Medical Center', '501 FAIRBURN ROAD SW'], 'E3888': ['FEMALE', 51, 19.0, 0.96, 135.0, 115.0, 34.9, 'ALERT', 'AIR', 'unrestricted normal activity', 0.22, 'Select Specialty Hospital - Northeast Atlanta', '1821 CLIFTON ROAD NE'], 'E7110': ['female', 85, 24.0, 0.99, 105.0, 101.0, 40.8, 'Confused or Not Alert', 'AIR', 'unrestricted normal activity', 0.46, 'Wesley Woods Geriatric Hospital', '1821 CLIFTON ROAD, NE'], 'E2668': ['FEMALE', 18, 22.0, 0.96, 105.0, 101.0, 38.1, 'ALERT', 'AIR', 'unrestricted normal activity', 0.09, 'Select Specialty Hospital - Northeast Atlanta', '1821 CLIFTON ROAD NE'], 'E8482': ['Male', 40, 22.0, 0.96, 105.0, 230.0, 36.3, 'ALERT', 'AIR', 'limited self-care', 0.29, 'Southwest Hospital and Medical Center', '501 FAIRBURN ROAD SW'], 'E9619': ['FEMALE', 40, 11.0, 0.98, 41.0, 115.0, 38.1, 'ALERT', 'AIR', 'unrestricted normal activity', 0.02, 'Select Specialty Hospital - Northeast Atlanta', '1821 CLIFTON ROAD NE'], 'E1700': ['male', 40, 23.0, 0.96, 105.0, 115.0, 38.1, 'Confused or Not Alert', 'AIR', 'unrestricted normal activity', 0.22, 'Southwest Hospital and Medical Center', '501 FAIRBURN ROAD SW'], 'E8585': ['MALE', 19, 8.0, 0.96, 105.0, 115.0, 36.3, 'alert', 'AIR', 'bed/chair bound, no self-care', 0.26, 'Southwest Hospital and Medical Center', '501 FAIRBURN ROAD SW'], 'E8633': ['FEMALE', 40, 22.0, 0.96, 38.0, 91.0, 35.4, 'ALERT', 'AIR', 'unrestricted normal activity', 0.22, 'Select Specialty Hospital - Northeast Atlanta', '1821 CLIFTON ROAD NE'], 'E2117': ['FEMALE', 16, 22.0, 0.96, 135.0, 115.0, 39.2, 'Confused or Not Alert', 'supplemental oxygen', 'bed/chair bound, no self-care', 0.55, 'Hughes Spalding Childrens Hospital', '1711 TULLIE CIRCLE NE'], 'E2322': ['female', 18, 22.0, 0.96, 105.0, 115.0, 38.1, 'alert', 'supplemental oxygen', 'unrestricted normal activity', 0.15, 'Select Specialty Hospital - Northeast Atlanta', '1821 CLIFTON ROAD NE'], 'E6912': ['FEMALE', 51, 23.0, 0.96, 105.0, 95.0, 34.9, 'ALERT', 'AIR', 'unrestricted normal activity', 0.29, 'Select Specialty Hospital - Northeast Atlanta', '1821 CLIFTON ROAD NE'], 'E5702': ['Male', 80, 23.0, 0.96, 135.0, 115.0, 38.1, 'ALERT', 'AIR', 'unrestricted normal activity', 0.29, 'Wesley Woods Geriatric Hospital', '1821 CLIFTON ROAD, NE'], 'E5513': ['FEMALE', 18, 12.0, 0.96, 105.0, 115.0, 38.1, 'ALERT', 'AIR', 'unrestricted normal activity', 0.02, 'Select Specialty Hospital - Northeast Atlanta', '1821 CLIFTON ROAD NE'], 'E1861': ['FEMALE', 18, 22.0, 0.96, 105.0, 230.0, 38.1, 'ALERT', 'AIR', 'limited strenuous activity, can do light activity', 0.22, 'Select Specialty Hospital - Northeast Atlanta', '1821 CLIFTON ROAD NE'], 'E4809': ['FEMALE', 40, 22.0, 0.96, 41.0, 230.0, 38.1, 'ALERT', 'AIR', 'unrestricted normal activity', 0.18, 'Select Specialty Hospital - Northeast Atlanta', '1821 CLIFTON ROAD NE'], 'E1365': ['MALE', 22, 22.0, 0.96, 115.0, 101.0, 35.4, 'ALERT', 'AIR', 'bed/chair bound, no self-care', 0.34, 'Emory Dunwoody Medical Center', '4500 NORTH SHALLOWFORD ROAD'], 'E5984': ['Male', 40, 12.0, 0.93, 105.0, 91.0, 35.1, 'ALERT', 'AIR', 'limited activity, can self-care', 0.26, 'Southwest Hospital and Medical Center', '501 FAIRBURN ROAD SW'], 'E7013': ['FEMALE', 66, 23.0, 0.96, 135.0, 89.0, 40.8, 'ALERT', 'supplemental oxygen', 'unrestricted normal activity', 0.49, 'Wesley Woods Geriatric Hospital', '1821 CLIFTON ROAD, NE'], 'E2331': ['female', 18, 23.0, 0.98, 105.0, 115.0, 38.1, 'ALERT', 'AIR', 'limited self-care', 0.18, 'Select Specialty Hospital - Northeast Atlanta', '1821 CLIFTON ROAD NE'], 'E9938': ['MALE', 18, 12.0, 0.96, 105.0, 89.0, 35.1, 'ALERT', 'AIR', 'unrestricted normal activity', 0.15, 'Southwest Hospital and Medical Center', '501 FAIRBURN ROAD SW'], 'E5121': ['Female', 18, 23.0, 0.96, 41.0, 95.0, 38.1, 'ALERT', 'supplemental oxygen', 'limited activity, can self-care', 0.29, 'Select Specialty Hospital - Northeast Atlanta', '1821 CLIFTON ROAD NE'], 'E9280': ['male', 65, 10.0, 0.96, 135.0, 91.0, 38.1, 'ALERT', 'AIR', 'unrestricted normal activity', 0.29, 'Wesley Woods Geriatric Hospital', '1821 CLIFTON ROAD, NE'], 'E4762': ['FEMALE', 40, 12.0, 0.98, 105.0, 95.0, 38.1, 'ALERT', 'AIR', 'unrestricted normal activity', 0.03, 'Select Specialty Hospital - Northeast Atlanta', '1821 CLIFTON ROAD NE'], 'E6885': ['MALE', 18, 23.0, 0.93, 89.0, 115.0, 35.1, 'confused or not alert', 'AIR', 'limited activity, can self-care', 0.34, 'Emory Dunwoody Medical Center', '4500 NORTH SHALLOWFORD ROAD'], 'E1695': ['FEMALE', 40, 22.0, 0.96, 41.0, 115.0, 38.1, 'ALERT', 'AIR', 'unrestricted normal activity', 0.03, 'Select Specialty Hospital - Northeast Atlanta', '1821 CLIFTON ROAD NE'], 'E9658': ['Female', 18, 10.0, 0.96, 90.0, 230.0, 38.1, 'ALERT', 'AIR', 'limited self-care', 0.22, 'Select Specialty Hospital - Northeast Atlanta', '1821 CLIFTON ROAD NE'], 'E1961': ['FEMALE', 65, 23.0, 0.96, 105.0, 115.0, 40.8, 'ALERT', 'AIR', 'limited activity, can self-care', 0.26, 'Wesley Woods Geriatric Hospital', '1821 CLIFTON ROAD, NE'], 'E9154': ['FEMALE', 66, 8.0, 0.94, 105.0, 89.0, 35.4, 'alert', 'AIR', 'bed/chair bound, no self-care', 0.55, 'Wesley Woods Geriatric Hospital', '1821 CLIFTON ROAD, NE'], 'E9417': ['FEMALE', 40, 23.0, 0.96, 105.0, 95.0, 38.1, 'alert', 'AIR', 'unrestricted normal activity', 0.15, 'Select Specialty Hospital - Northeast Atlanta', '1821 CLIFTON ROAD NE'], 'E9979': ['Male', 18, 8.0, 0.96, 105.0, 115.0, 38.1, 'ALERT', 'AIR', 'limited strenuous activity, can do light activity', 0.18, 'Southwest Hospital and Medical Center', '501 FAIRBURN ROAD SW'], 'E9316': ['MALE', 18, 23.0, 0.96, 135.0, 115.0, 38.1, 'ALERT', 'AIR', 'unrestricted normal activity', 0.18, 'Southwest Hospital and Medical Center', '501 FAIRBURN ROAD SW'], 'E8146': ['Male', 18, 12.0, 0.96, 115.0, 115.0, 38.1, 'ALERT', 'AIR', 'unrestricted normal activity', 0.03, 'Southwest Hospital and Medical Center', '501 FAIRBURN ROAD SW'], 'E3093': ['female', 40, 29.0, 0.96, 105.0, 95.0, 38.1, 'ALERT', 'AIR', 'unrestricted normal activity', 0.18, 'Select Specialty Hospital - Northeast Atlanta', '1821 CLIFTON ROAD NE'], 'E8829': ['male', 65, 12.0, 0.96, 51.0, 230.0, 38.1, 'alert', 'AIR', 'unrestricted normal activity', 0.18, 'Wesley Woods Geriatric Hospital', '1821 CLIFTON ROAD, NE'], 'E1453': ['male', 18, 24.0, 0.99, 105.0, 115.0, 38.1, 'ALERT', 'AIR', 'unrestricted normal activity', 0.09, 'Southwest Hospital and Medical Center', '501 FAIRBURN ROAD SW'], 'E5777': ['female', 66, 23.0, 0.96, 115.0, 89.0, 38.1, 'ALERT', 'AIR', 'limited strenuous activity, can do light activity', 0.38, 'Wesley Woods Geriatric Hospital', '1821 CLIFTON ROAD, NE'], 'E4564': ['FEMALE', 18, 24.0, 0.96, 41.0, 115.0, 35.1, 'confused or not alert', 'AIR', 'unrestricted normal activity', 0.18, 'Select Specialty Hospital - Northeast Atlanta', '1821 CLIFTON ROAD NE'], 'E1904': ['FEMALE', 40, 22.0, 0.93, 38.0, 95.0, 38.1, 'Confused or Not Alert', 'AIR', 'unrestricted normal activity', 0.46, 'Emory Dunwoody Medical Center', '4500 NORTH SHALLOWFORD ROAD'], 'E8746': ['Female', 40, 12.0, 0.93, 105.0, 115.0, 38.1, 'ALERT', 'AIR', 'unrestricted normal activity', 0.03, 'Select Specialty Hospital - Northeast Atlanta', '1821 CLIFTON ROAD NE'], 'E9165': ['FEMALE', 19, 22.0, 0.98, 50.0, 95.0, 38.1, 'ALERT', 'AIR', 'limited activity, can self-care', 0.22, 'Select Specialty Hospital - Northeast Atlanta', '1821 CLIFTON ROAD NE'], 'E9305': ['FEMALE', 40, 8.0, 0.89, 105.0, 101.0, 38.1, 'ALERT', 'supplemental oxygen', 'unrestricted normal activity', 0.34, 'Emory Dunwoody Medical Center', '4500 NORTH SHALLOWFORD ROAD'], 'E3217': ['Female', 40, 10.0, 0.95, 105.0, 95.0, 38.1, 'ALERT', 'AIR', 'unrestricted normal activity', 0.15, 'Select Specialty Hospital - Northeast Atlanta', '1821 CLIFTON ROAD NE'], 'E3127': ['Female', 40, 8.0, 0.96, 38.0, 115.0, 36.3, 'ALERT', 'AIR', 'limited strenuous activity, can do light activity', 0.18, 'Select Specialty Hospital - Northeast Atlanta', '1821 CLIFTON ROAD NE'], 'E7501': ['female', 18, 23.0, 0.96, 135.0, 115.0, 38.1, 'ALERT', 'AIR', 'unrestricted normal activity', 0.15, 'Select Specialty Hospital - Northeast Atlanta', '1821 CLIFTON ROAD NE'], 'E4997': ['female', 40, 23.0, 0.94, 105.0, 115.0, 36.3, 'ALERT', 'AIR', 'unrestricted normal activity', 0.03, 'Select Specialty Hospital - Northeast Atlanta', '1821 CLIFTON ROAD NE'], 'E6181': ['female', 19, 23.0, 0.96, 89.0, 115.0, 38.1, 'ALERT', 'AIR', 'unrestricted normal activity', 0.02, 'Select Specialty Hospital - Northeast Atlanta', '1821 CLIFTON ROAD NE'], 'E1073': ['FEMALE', 18, 24.0, 0.95, 50.0, 115.0, 38.1, 'Confused or Not Alert', 'AIR', 'limited self-care', 0.34, 'Emory Dunwoody Medical Center', '4500 NORTH SHALLOWFORD ROAD'], 'E9608': ['female', 80, 12.0, 0.96, 50.0, 89.0, 38.1, 'ALERT', 'AIR', 'unrestricted normal activity', 0.22, 'Wesley Woods Geriatric Hospital', '1821 CLIFTON ROAD, NE'], 'E7663': ['FEMALE', 18, 11.0, 0.96, 105.0, 115.0, 38.1, 'ALERT', 'air', 'limited self-care', 0.15, 'Select Specialty Hospital - Northeast Atlanta', '1821 CLIFTON ROAD NE'], 'E7648': ['female', 66, 12.0, 0.98, 41.0, 115.0, 34.9, 'ALERT', 'air', 'unrestricted normal activity', 0.18, 'Wesley Woods Geriatric Hospital', '1821 CLIFTON ROAD, NE'], 'E1883': ['male', 40, 10.0, 0.98, 105.0, 115.0, 38.1, 'ALERT', 'AIR', 'unrestricted normal activity', 0.03, 'Southwest Hospital and Medical Center', '501 FAIRBURN ROAD SW'], 'E2001': ['FEMALE', 18, 12.0, 0.99, 51.0, 115.0, 38.1, 'Confused or Not Alert', 'AIR', 'unrestricted normal activity', 0.03, 'Select Specialty Hospital - Northeast Atlanta', '1821 CLIFTON ROAD NE'], 'E2418': ['male', 18, 20.0, 0.94, 105.0, 115.0, 35.4, 'ALERT', 'air', 'unrestricted normal activity', 0.03, 'Southwest Hospital and Medical Center', '501 FAIRBURN ROAD SW'], 'E3739': ['Male', 85, 10.0, 0.96, 105.0, 115.0, 38.1, 'Confused or Not Alert', 'supplemental oxygen', 'unrestricted normal activity', 0.46, 'Wesley Woods Geriatric Hospital', '1821 CLIFTON ROAD, NE'], 'E8351': ['FEMALE', 40, 23.0, 0.96, 90.0, 101.0, 38.1, 'ALERT', 'AIR', 'unrestricted normal activity', 0.03, 'Select Specialty Hospital - Northeast Atlanta', '1821 CLIFTON ROAD NE'], 'E2882': ['Male', 51, 24.0, 0.98, 105.0, 91.0, 38.1, 'ALERT', 'AIR', 'unrestricted normal activity', 0.26, 'Southwest Hospital and Medical Center', '501 FAIRBURN ROAD SW'], 'E1902': ['Female', 85, 22.0, 0.96, 105.0, 115.0, 38.1, 'ALERT', 'supplemental oxygen', 'unrestricted normal activity', 0.29, 'Wesley Woods Geriatric Hospital', '1821 CLIFTON ROAD, NE'], 'E2155': ['Male', 18, 22.0, 0.94, 105.0, 115.0, 38.1, 'ALERT', 'air', 'limited self-care', 0.26, 'Southwest Hospital and Medical Center', '501 FAIRBURN ROAD SW'], 'E4345': ['Female', 40, 19.0, 0.89, 41.0, 115.0, 34.9, 'ALERT', 'air', 'unrestricted normal activity', 0.18, 'Select Specialty Hospital - Northeast Atlanta', '1821 CLIFTON ROAD NE'], 'E4194': ['FEMALE', 40, 12.0, 0.95, 105.0, 91.0, 38.1, 'ALERT', 'AIR', 'limited self-care', 0.22, 'Select Specialty Hospital - Northeast Atlanta', '1821 CLIFTON ROAD NE'], 'E5211': ['male', 65, 22.0, 0.96, 41.0, 115.0, 38.1, 'ALERT', 'AIR', 'unrestricted normal activity', 0.18, 'Wesley Woods Geriatric Hospital', '1821 CLIFTON ROAD, NE'], 'E5488': ['Female', 40, 12.0, 0.94, 105.0, 101.0, 38.1, 'ALERT', 'AIR', 'unrestricted normal activity', 0.03, 'Select Specialty Hospital - Northeast Atlanta', '1821 CLIFTON ROAD NE'], 'E8560': ['FEMALE', 40, 23.0, 0.96, 41.0, 115.0, 35.1, 'confused or not alert', 'AIR', 'unrestricted normal activity', 0.18, 'Select Specialty Hospital - Northeast Atlanta', '1821 CLIFTON ROAD NE'], 'E2995': ['FEMALE', 18, 20.0, 0.99, 105.0, 95.0, 35.1, 'alert', 'AIR', 'unrestricted normal activity', 0.03, 'Select Specialty Hospital - Northeast Atlanta', '1821 CLIFTON ROAD NE'], 'E3422': ['FEMALE', 40, 8.0, 0.96, 105.0, 115.0, 35.4, 'ALERT', 'AIR', 'unrestricted normal activity', 0.09, 'Select Specialty Hospital - Northeast Atlanta', '1821 CLIFTON ROAD NE'], 'E7707': ['Female', 18, 20.0, 0.96, 38.0, 115.0, 36.3, 'ALERT', 'air', 'limited strenuous activity, can do light activity', 0.03, 'Select Specialty Hospital - Northeast Atlanta', '1821 CLIFTON ROAD NE'], 'E3119': ['FEMALE', 18, 20.0, 0.99, 135.0, 89.0, 35.1, 'ALERT', 'supplemental oxygen', 'unrestricted normal activity', 0.26, 'Select Specialty Hospital - Northeast Atlanta', '1821 CLIFTON ROAD NE'], 'E1419': ['male', 65, 23.0, 0.99, 105.0, 91.0, 38.1, 'alert', 'AIR', 'unrestricted normal activity', 0.26, 'Wesley Woods Geriatric Hospital', '1821 CLIFTON ROAD, NE'], 'E7748': ['male', 40, 23.0, 0.93, 105.0, 115.0, 38.1, 'ALERT', 'supplemental oxygen', 'unrestricted normal activity', 0.26, 'Southwest Hospital and Medical Center', '501 FAIRBURN ROAD SW'], 'E7251': ['Female', 40, 12.0, 0.96, 105.0, 91.0, 38.1, 'alert', 'AIR', 'unrestricted normal activity', 0.03, 'Select Specialty Hospital - Northeast Atlanta', '1821 CLIFTON ROAD NE'], 'E1235': ['FEMALE', 40, 29.0, 0.96, 41.0, 115.0, 38.1, 'ALERT', 'AIR', 'bed/chair bound, no self-care', 0.26, 'Select Specialty Hospital - Northeast Atlanta', '1821 CLIFTON ROAD NE'], 'E5361': ['FEMALE', 18, 22.0, 0.93, 90.0, 101.0, 38.1, 'confused or not alert', 'AIR', 'unrestricted normal activity', 0.26, 'Select Specialty Hospital - Northeast Atlanta', '1821 CLIFTON ROAD NE'], 'E7130': ['FEMALE', 18, 22.0, 0.96, 50.0, 115.0, 38.1, 'ALERT', 'AIR', 'limited strenuous activity, can do light activity', 0.09, 'Select Specialty Hospital - Northeast Atlanta', '1821 CLIFTON ROAD NE'], 'E5665': ['FEMALE', 85, 23.0, 0.96, 115.0, 115.0, 38.1, 'ALERT', 'AIR', 'unrestricted normal activity', 0.26, 'Wesley Woods Geriatric Hospital', '1821 CLIFTON ROAD, NE'], 'E9957': ['Female', 40, 22.0, 0.98, 89.0, 230.0, 38.1, 'alert', 'AIR', 'unrestricted normal activity', 0.15, 'Select Specialty Hospital - Northeast Atlanta', '1821 CLIFTON ROAD NE'], 'E10000': ['FEMALE', 18, 23.0, 0.96, 105.0, 101.0, 38.1, 'ALERT', 'AIR', 'limited activity, can self-care', 0.18, 'Select Specialty Hospital - Northeast Atlanta', '1821 CLIFTON ROAD NE']}\n"
          ]
        }
      ],
      "source": [
        "import requests\n",
        "import json\n",
        "\n",
        "# Step 1: Load the provided results JSON from the given link\n",
        "url = \"https://drive.google.com/uc?export=download&id=1gx1SSC20mO5XL6uYD0mdcM_cL91fcIW5\"\n",
        "response = requests.get(url)\n",
        "expected_results = response.json()\n",
        "\n",
        "# step 2:Call the process_people function to get the generated results\n",
        "file_url = \"https://drive.google.com/uc?export=download&id=1fLxJN9YGUqmqExrilxSS8furwUER5HHh\"\n",
        "generated_results = process_people(file_url)\n",
        "\n",
        "print(generated_results)\n",
        "print(expected_results)\n",
        "\n"
      ]
    },
    {
      "cell_type": "markdown",
      "metadata": {
        "id": "wdAj1WtsB9x5"
      },
      "source": [
        "---\n",
        "\n",
        "## Check your work above\n",
        "\n",
        "If you didn't get them all correct, take a few minutes to think through those that aren't correct.\n",
        "\n",
        "\n",
        "## Submitting Your Work\n",
        "\n",
        "Submit your work as usual into a folder named `midterm`"
      ]
    },
    {
      "cell_type": "markdown",
      "metadata": {
        "id": "kVwFQDnMB9x5"
      },
      "source": [
        "---"
      ]
    }
  ],
  "metadata": {
    "kernelspec": {
      "display_name": "Python 3",
      "language": "python",
      "name": "python3"
    },
    "language_info": {
      "codemirror_mode": {
        "name": "ipython",
        "version": 3
      },
      "file_extension": ".py",
      "mimetype": "text/x-python",
      "name": "python",
      "nbconvert_exporter": "python",
      "pygments_lexer": "ipython3",
      "version": "3.9.6"
    },
    "colab": {
      "provenance": [],
      "include_colab_link": true
    }
  },
  "nbformat": 4,
  "nbformat_minor": 0
}