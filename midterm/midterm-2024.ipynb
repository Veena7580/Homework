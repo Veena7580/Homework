{
  "cells": [
    {
      "cell_type": "markdown",
      "metadata": {
        "id": "view-in-github",
        "colab_type": "text"
      },
      "source": [
        "<a href=\"https://colab.research.google.com/github/Veena7580/Homework/blob/main/midterm/midterm-2024.ipynb\" target=\"_parent\"><img src=\"https://colab.research.google.com/assets/colab-badge.svg\" alt=\"Open In Colab\"/></a>"
      ]
    },
    {
      "cell_type": "markdown",
      "metadata": {
        "id": "1oYrHjwznWY-"
      },
      "source": [
        "# HDS5210-2024 Midterm\n",
        "\n",
        "In the midterm, you're going to use all the programming and data management skills you've developed so far to build a risk calculator that pretends to be integrated with a clinical registry.  You'll compute the PRIEST COVID-19 Clinical Severity Score for a series of patients and, based on their risk of an adverse outcome, query a REST web service to find a hospital to transfer them to. The end result of your work will be a list of instructions on where each patient should be discharged given their risk and various characteristics of the patient.\n",
        "\n",
        "Each step in the midterm will build up to form your complete solution.\n",
        "\n",
        "**Make sure you write good docstrings and doctests along the way!!**\n",
        "\n",
        "**The midterm is due at 11:59 PM CST on Monday, October 24th.**\n",
        "\n",
        "---"
      ]
    },
    {
      "cell_type": "markdown",
      "metadata": {
        "id": "hEq1lUGinWZC"
      },
      "source": [
        "## Step 1: Calculate PRIEST Clinical Severity Score\n",
        "\n",
        "This scoring algorithm can be found [here on the MDCalc website](https://www.mdcalc.com/priest-covid-19-clinical-severity-score#evidence).  \n",
        "\n",
        "1. You will need to write a function called **priest()** with the following input parameters.  \n",
        " * Sex (Gender assigned at birth)\n",
        " * Age in years\n",
        " * Respiratory rate in breaths per minute\n",
        " * Oxygen saturation as a percent between 0 and 1\n",
        " * Heart rate in beats per minute\n",
        " * Systolic BP in mmHg\n",
        " * Temperature in degrees C\n",
        " * Alertness as a string description\n",
        " * Inspired Oxygen as as string description\n",
        " * Performance Status as a string description\n",
        "2. The function will need to follow the algorithm provided on the MDCalc website to compute a risk percentage that should be returned as a numeric value between 0 and 1.\n",
        "3. Be sure to use docstring documentation and at least three built-in docstring test cases.\n",
        "4. Assume that the input values that are strings could be any combination of upper or lower case. For example: 'male', 'Male', 'MALE', 'MalE' should all be interpretted by your code as male.\n",
        "5. If any of the inputs are invalid (for example a sex value that is not recognizable as male or female) your code should return None.\n",
        "\n",
        "NOTES:\n",
        "1. In the final step there is a table that translates from **PRIEST Score** to **30-day probability of an outcome** but the last two probabilities are shown as ranges (59-88% and >99%).  Our code needs to output a single number, however. For our code, use the following rule:\n",
        " * If PRIEST score is between 17 and 25, the probability you return should be 0.59\n",
        " * If PRIEST score is greater than or equal to 26, the probability you return should be 0.99\n"
      ]
    },
    {
      "cell_type": "code",
      "execution_count": 132,
      "metadata": {
        "id": "RyYGPAlrnWZE"
      },
      "outputs": [],
      "source": [
        "def priest(sex, age, respirateRt, oxSaturation, hrtrate, bp, temperature, alertness, insOxygen, perfrmsts):\n",
        "    \"\"\"\n",
        "    (String, float, float, float, float, float, float, String, String, String) -> float\n",
        "\n",
        "    Calculates the PRIEST COVID-19 severity score and maps it to a 30-day risk percentage.\n",
        "\n",
        "    :param sex: Sex assigned at birth ('Male' or 'Female')\n",
        "    :param age: Age in years\n",
        "    :param respirateRt: Respiratory rate in breaths per minute\n",
        "    :param oxSaturation: Oxygen saturation as a percentage (0-1, e.g., 0.95 for 95%)\n",
        "    :param hrtrate: Heart rate in beats per minute\n",
        "    :param bp: Systolic blood pressure in mmHg\n",
        "    :param temperature: Body temperature in degrees Celsius\n",
        "    :param alertness: Alertness state ('Alert' or 'Confused or not alert')\n",
        "    :param insOxygen: Inspired oxygen ('Air' or 'Supplemental oxygen')\n",
        "    :param perfrmsts: Performance status (e.g., 'Unrestricted normal activity', 'Limited activity, can self-care', etc.)\n",
        "\n",
        "    :return: Risk percentage between 0 and 1 or None for invalid input.\n",
        "\n",
        "    >>> priest(\"FEMALE\", 80, 23, 0.96, 105, 115, 38.1, \"ALERT\", \"SUPPLEMENTAL OXYGEN\", \"Limited activity, can self-care\")\n",
        "    0.34\n",
        "    >>> priest(\"MALE\", 16, 10, 0.96, 105, 115, 38.1, \"ALERT\", \"AIR\", \"Unrestricted normal activity\")\n",
        "    0.03\n",
        "    >>> priest(\"FEMALE\", 18, 23, 0.96, 135, 115, 38.1, \"ALERT\", \"AIR\", \"Unrestricted normal activity\")\n",
        "    0.15\n",
        "    \"\"\"\n",
        "\n",
        "    # Initialize score\n",
        "    prscr = 0\n",
        "\n",
        "    # Map inputs to lower case for flexibility in handling case variations\n",
        "    sex = sex.lower()\n",
        "    alertness = alertness.lower()\n",
        "    insOxygen = insOxygen.lower()\n",
        "    perfrmsts = perfrmsts.lower()\n",
        "\n",
        "    # Validate inputs\n",
        "    if sex not in [\"male\", \"female\"]:\n",
        "        return None\n",
        "    if insOxygen not in [\"air\", \"supplemental oxygen\"]:\n",
        "        return None\n",
        "    if alertness not in [\"alert\", \"confused or not alert\"]:\n",
        "        return None\n",
        "\n",
        "    # Sex scoring\n",
        "    if sex == \"male\":\n",
        "        prscr += 1\n",
        "\n",
        "    # Age scoring\n",
        "    if age >= 16 and age <= 49:\n",
        "        prscr += 0\n",
        "    elif age >= 50 and age <= 65:\n",
        "        prscr += 2\n",
        "    elif age >= 66 and age <= 80:\n",
        "        prscr += 3\n",
        "    elif age > 80:\n",
        "        prscr += 4\n",
        "\n",
        "    # Alertness scoring\n",
        "    if alertness == \"confused or not alert\":\n",
        "        prscr += 3\n",
        "\n",
        "    # Performance status scoring\n",
        "    if perfrmsts == \"limited self-care\":\n",
        "        prscr += 3\n",
        "    elif perfrmsts == \"limited activity, can self-care\":\n",
        "        prscr += 2\n",
        "    elif perfrmsts == \"limited strenuous activity, can do light activity\":\n",
        "        prscr += 1\n",
        "    elif perfrmsts == \"bed/chair bound, no self-care\":\n",
        "        prscr += 4\n",
        "\n",
        "    # Inspired oxygen scoring\n",
        "    if insOxygen == \"supplemental oxygen\":\n",
        "        prscr += 2\n",
        "\n",
        "    # Respiratory rate scoring\n",
        "    if respirateRt < 9:\n",
        "        prscr += 3\n",
        "    elif respirateRt > 24:\n",
        "        prscr += 3\n",
        "    elif respirateRt >= 21 and respirateRt <= 24:\n",
        "        prscr += 2\n",
        "    elif respirateRt >= 9 and respirateRt <= 11:\n",
        "        prscr += 1\n",
        "\n",
        "    # Oxygen saturation scoring\n",
        "    if oxSaturation < 0.92:\n",
        "        prscr += 3\n",
        "    elif oxSaturation >= 0.92 and oxSaturation <= 0.93:\n",
        "        prscr += 2\n",
        "    elif oxSaturation >= 0.94 and oxSaturation <= 0.95:\n",
        "        prscr += 1\n",
        "\n",
        "    # Heart rate scoring\n",
        "    if hrtrate > 130:\n",
        "        prscr += 3\n",
        "    elif hrtrate >= 111 and hrtrate <= 130:\n",
        "        prscr += 2\n",
        "    elif hrtrate >= 91 and hrtrate <= 110:\n",
        "        prscr += 1\n",
        "    elif hrtrate < 41:\n",
        "        prscr += 3\n",
        "    elif hrtrate >= 41 and hrtrate <= 50:\n",
        "        prscr += 1\n",
        "\n",
        "    # Systolic BP scoring\n",
        "    if bp > 219:\n",
        "        prscr += 3\n",
        "    elif bp >= 101 and bp <= 110:\n",
        "        prscr += 1\n",
        "    elif bp >= 91 and bp <= 100:\n",
        "        prscr += 2\n",
        "    elif bp < 91:\n",
        "        prscr += 3\n",
        "\n",
        "    # Temperature scoring\n",
        "    if temperature > 39.0:\n",
        "        prscr += 2\n",
        "    elif temperature >= 38.1 and temperature <= 39.0:\n",
        "        prscr += 1\n",
        "    elif temperature < 35.1:\n",
        "        prscr += 3\n",
        "    elif temperature >= 35.1 and temperature <= 36.0:\n",
        "        prscr += 1\n",
        "\n",
        "    # Convert PRIEST score to probability\n",
        "    percscale = [0.01, 0.01, 0.02, 0.02, 0.03, 0.09, 0.15, 0.18, 0.22, 0.26, 0.29, 0.34, 0.38, 0.46, 0.47, 0.49, 0.55,\n",
        "                 0.59, 0.59, 0.59, 0.59, 0.59, 0.59, 0.59, 0.59, 0.59, 0.99]\n",
        "\n",
        "    # Use the PRIEST score to map to the corresponding probability\n",
        "    if prscr < 26:\n",
        "        return percscale[prscr]\n",
        "\n",
        "    return 0.99\n"
      ]
    },
    {
      "cell_type": "code",
      "execution_count": 133,
      "metadata": {
        "id": "eRc8-V9znWZG",
        "outputId": "010f5e1b-b41e-4b8b-bd54-c6ac257e799f",
        "colab": {
          "base_uri": "https://localhost:8080/"
        }
      },
      "outputs": [
        {
          "output_type": "stream",
          "name": "stdout",
          "text": [
            "Finding tests in NoName\n",
            "Trying:\n",
            "    priest(\"FEMALE\", 80, 23, 0.96, 105, 115, 38.1, \"ALERT\", \"SUPPLEMENTAL OXYGEN\", \"Limited activity, can self-care\")\n",
            "Expecting:\n",
            "    0.34\n",
            "ok\n",
            "Trying:\n",
            "    priest(\"MALE\", 16, 10, 0.96, 105, 115, 38.1, \"ALERT\", \"AIR\", \"Unrestricted normal activity\")\n",
            "Expecting:\n",
            "    0.03\n",
            "ok\n",
            "Trying:\n",
            "    priest(\"FEMALE\", 18, 23, 0.96, 135, 115, 38.1, \"ALERT\", \"AIR\", \"Unrestricted normal activity\")\n",
            "Expecting:\n",
            "    0.15\n",
            "ok\n"
          ]
        }
      ],
      "source": [
        "import doctest\n",
        "doctest.run_docstring_examples(priest, globals(),verbose=True)"
      ]
    },
    {
      "cell_type": "markdown",
      "metadata": {
        "id": "JNDwg3cdnWZH"
      },
      "source": [
        "## Part 2: Find a hospital\n",
        "\n",
        "The next thing we have to do is figure out where to send this particular patient.  The guidelines on where to send a patient are based on their age (pediatric, adult, geriatric), sex, and risk percentage.  Luckily, you don't have to implement these rules. I already have. All you have to do is use a REST web service that I've created for you.\n",
        "\n",
        "You'll want to use Python to make a call to my REST web service similar to the example URL below. The first part of the URL will be the same for everyone and every request that you make. What you will need to modify for each of your requests is the information after the question mark.\n",
        "\n",
        "```\n",
        "https://oumdj6oci2.execute-api.us-east-1.amazonaws.com/prd/?age=40&sex=male&risk_pct=0.1\n",
        "```\n",
        "\n",
        "The example above asks my web service where a 40-year old male with a risk of 10% should go.  What the web service will return back is a JSON string containing the information you need.  That JSON will look like this:\n",
        "\n",
        "```json\n",
        "{\n",
        "  \"age\": \"40\",\n",
        "  \"sex\": \"male\",\n",
        "  \"risk\": \"0.1\",\n",
        "  \"hospital\": \"Southwest Hospital and Medical Center\"\n",
        "}\n",
        "```\n",
        "\n",
        "My function is not smart enough to understand `'MALE'` is the same as `'male'`.  You have to send it exactly `'male'` or `'female'`\n",
        "\n",
        "1. Your job is to write a function called **find_hospital()** that takes age, sex, and risk as parameters.\n",
        "2. Your function should call this REST web service using the `requests` module\n",
        "3. Then your function will need to interpret the JSON it gets and return just the name of the hospital\n",
        "4. If anything fails, return None\n",
        "5. Include a good docstring with at least three test cases.\n"
      ]
    },
    {
      "cell_type": "code",
      "execution_count": 134,
      "metadata": {
        "id": "Fh4CvWEgnWZI"
      },
      "outputs": [],
      "source": [
        "import requests\n",
        "\n",
        "def find_hospital(age, sex, risk_pct):\n",
        "    \"\"\"\n",
        "    (integer, String, float) -> String or None\n",
        "\n",
        "    The find_hospital() method locates the appropriate hospital for a patient\n",
        "    based on a number of variables, including risk percentage, age, and sex.\n",
        "\n",
        "    Parameters:\n",
        "    - age (int): The patient's age.\n",
        "    - sex (str): The patient's sex ('male' or 'female'). Must be in lowercase.\n",
        "    - risk_pct (float): The patient's risk percentage (between 0 and 1).\n",
        "\n",
        "    Returns:\n",
        "    - str: The name of the hospital if the request is successful.\n",
        "    - None: If any error occurs during the process.\n",
        "\n",
        "    Example test cases:\n",
        "    >>> find_hospital(80, \"female\", 0.34)\n",
        "    'Wesley Woods Geriatric Hospital'\n",
        "\n",
        "    >>> find_hospital(18, \"female\", 0.15)\n",
        "    'Select Specialty Hospital - Northeast Atlanta'\n",
        "\n",
        "    \"\"\"\n",
        "\n",
        "    url = \"https://oumdj6oci2.execute-api.us-east-1.amazonaws.com/prd\"\n",
        "\n",
        "    # Convert parameters to lowercase for compatibility with the API\n",
        "    sex = sex.lower()\n",
        "\n",
        "    # Parameters to send in the GET request\n",
        "    params = {\"age\": age, \"sex\": sex, \"risk_pct\": risk_pct}\n",
        "\n",
        "    try:\n",
        "        # Making the GET request\n",
        "        response = requests.get(url, params=params)\n",
        "        response.raise_for_status()\n",
        "\n",
        "        # Parsing the JSON response\n",
        "        result = response.json()\n",
        "\n",
        "        # Return the hospital name if it exists\n",
        "        return result.get(\"hospital\")\n",
        "\n",
        "    except requests.RequestException as e:\n",
        "        print(f\"Error: {e}\")\n",
        "        return None"
      ]
    },
    {
      "cell_type": "code",
      "execution_count": 135,
      "metadata": {
        "id": "zEeb0TpGnWZI",
        "outputId": "f2455a2f-1f1a-4d44-988d-500cc66336cf",
        "colab": {
          "base_uri": "https://localhost:8080/"
        }
      },
      "outputs": [
        {
          "output_type": "stream",
          "name": "stdout",
          "text": [
            "Finding tests in NoName\n",
            "Trying:\n",
            "    find_hospital(80, \"female\", 0.34)\n",
            "Expecting:\n",
            "    'Wesley Woods Geriatric Hospital'\n",
            "ok\n",
            "Trying:\n",
            "    find_hospital(18, \"female\", 0.15)\n",
            "Expecting:\n",
            "    'Select Specialty Hospital - Northeast Atlanta'\n",
            "ok\n"
          ]
        }
      ],
      "source": [
        "import doctest\n",
        "doctest.run_docstring_examples(find_hospital, globals(),verbose=True)"
      ]
    },
    {
      "cell_type": "code",
      "source": [],
      "metadata": {
        "id": "FazQ3c0NQUHh"
      },
      "execution_count": 135,
      "outputs": []
    },
    {
      "cell_type": "markdown",
      "metadata": {
        "id": "IC4UB31qnWZI"
      },
      "source": [
        "## Part 3: Get the address for that hospital from a JSON file\n",
        "\n",
        "Great! Now we have code to tell us which hospital to send someone to... but we don't know where that hospital is. The next function we need to create is one that looks up the address of that hospital.  All of these hospitals are in Atlanta, Georgia.  We're going to use the list from this webpage to lookup the address for that hospital, based on its name.  https://www.officialusa.com/stateguides/health/hospitals/georgia.html\n",
        "\n",
        "Because we skipped the section about Beautiful Soup and working with HTML, I've converted this information into a JSON document for you.  It's available for you here.  Your code should retrieve this file using the `requests` module.\n",
        "\n",
        "`https://drive.google.com/uc?export=download&id=1fIFD-NkcdiMu941N4GjyMDWxiKsFJBw-`\n",
        "\n",
        "1. You need to create a function called **get_address()** that takes hospital name as a parameter and searches the data from this JSON file for the hospital you want to find.\n",
        "2. Your code will have to load the JSON and return the correct hospital based on name.\n",
        "3. If the hospital name isn't found, the function should return None.\n",
        "4. Be sure to use good docstring documentation and includes at least 3 test cases."
      ]
    },
    {
      "cell_type": "code",
      "source": [
        "import requests\n",
        "\n",
        "def get_address(hospital_name):\n",
        "    \"\"\"\n",
        "    Retrieves the address of a hospital given its name.\n",
        "\n",
        "    Parameters:\n",
        "    hospital_name (str): The name of the hospital to look up.\n",
        "\n",
        "    Returns:\n",
        "    str or None: The address of the hospital if found, otherwise None.\n",
        "\n",
        "    Example:\n",
        "    >>> get_address(\"CHILDRENS HEALTHCARE OF ATLANTA AT SCOTTISH RITE\")\n",
        "    '1001 JOHNSON FERRY RD'\n",
        "\n",
        "    >>> get_address(\"BUCKHEAD AMBULATORY SURGICAL CENTER\")\n",
        "    '2061 PEACHTREE RD NW, UNIT 300'\n",
        "\n",
        "    >>> get_address(\"EMORY DUNWOODY MEDICAL CENTER\")\n",
        "    '4500 NORTH SHALLOWFORD ROAD'\n",
        "    \"\"\"\n",
        "    url = \"https://drive.google.com/uc?export=download&id=1fIFD-NkcdiMu941N4GjyMDWxiKsFJBw-\"\n",
        "\n",
        "    # Retrieve the JSON data\n",
        "    try:\n",
        "        response = requests.get(url)\n",
        "        response.raise_for_status()\n",
        "        data = response.json()\n",
        "    except requests.RequestException as e:\n",
        "        print(f\"Error retrieving data: {e}\")\n",
        "        return None\n",
        "    except ValueError:\n",
        "        print(\"Error decoding JSON\")\n",
        "        return None\n",
        "\n",
        "    # Search for the hospital by name\n",
        "    hospital_info = data.get(hospital_name)\n",
        "\n",
        "    # If found, return the address, otherwise return None\n",
        "    return hospital_info.get(\"ADDRESS\") if hospital_info else None\n",
        "\n",
        "# Example usage:\n",
        "# print(get_address(\"CHILDRENS HEALTHCARE OF ATLANTA AT SCOTTISH RITE\"))\n",
        "\n"
      ],
      "metadata": {
        "id": "B_tSRqVs2ZyN"
      },
      "execution_count": 136,
      "outputs": []
    },
    {
      "cell_type": "code",
      "source": [
        "print(get_address(\"CHILDRENS HEALTHCARE OF ATLANTA AT SCOTTISH RITE\"))"
      ],
      "metadata": {
        "id": "tSS7adFf2ZjX",
        "outputId": "fd45e590-8aa1-4af3-af3f-31314ce2e129",
        "colab": {
          "base_uri": "https://localhost:8080/"
        }
      },
      "execution_count": 137,
      "outputs": [
        {
          "output_type": "stream",
          "name": "stdout",
          "text": [
            "1001 JOHNSON FERRY RD\n"
          ]
        }
      ]
    },
    {
      "cell_type": "code",
      "source": [
        "print(get_address(\"BUCKHEAD AMBULATORY SURGICAL CENTER\"))"
      ],
      "metadata": {
        "id": "5H5VRwqf2ZWD",
        "outputId": "7c7db3b4-61bf-4142-8166-ad147879df0c",
        "colab": {
          "base_uri": "https://localhost:8080/"
        }
      },
      "execution_count": 138,
      "outputs": [
        {
          "output_type": "stream",
          "name": "stdout",
          "text": [
            "2061 PEACHTREE RD NW, UNIT 300\n"
          ]
        }
      ]
    },
    {
      "cell_type": "code",
      "source": [
        "print(get_address(\"EMORY DUNWOODY MEDICAL CENTER\"))"
      ],
      "metadata": {
        "id": "wzR_E_oH2ZFs",
        "outputId": "607969e3-523c-438d-9037-45f81f2a4a02",
        "colab": {
          "base_uri": "https://localhost:8080/"
        }
      },
      "execution_count": 139,
      "outputs": [
        {
          "output_type": "stream",
          "name": "stdout",
          "text": [
            "4500 NORTH SHALLOWFORD ROAD\n"
          ]
        }
      ]
    },
    {
      "cell_type": "code",
      "source": [
        "import doctest\n",
        "doctest.run_docstring_examples(get_address, globals(), verbose=True)"
      ],
      "metadata": {
        "id": "6RNMpnL62YzJ",
        "outputId": "8e55d421-8088-424c-8b42-d8fffece094d",
        "colab": {
          "base_uri": "https://localhost:8080/"
        }
      },
      "execution_count": 140,
      "outputs": [
        {
          "output_type": "stream",
          "name": "stdout",
          "text": [
            "Finding tests in NoName\n",
            "Trying:\n",
            "    get_address(\"CHILDRENS HEALTHCARE OF ATLANTA AT SCOTTISH RITE\")\n",
            "Expecting:\n",
            "    '1001 JOHNSON FERRY RD'\n",
            "ok\n",
            "Trying:\n",
            "    get_address(\"BUCKHEAD AMBULATORY SURGICAL CENTER\")\n",
            "Expecting:\n",
            "    '2061 PEACHTREE RD NW, UNIT 300'\n",
            "ok\n",
            "Trying:\n",
            "    get_address(\"EMORY DUNWOODY MEDICAL CENTER\")\n",
            "Expecting:\n",
            "    '4500 NORTH SHALLOWFORD ROAD'\n",
            "ok\n"
          ]
        }
      ]
    },
    {
      "cell_type": "markdown",
      "metadata": {
        "id": "Ruad_H4vnWZJ"
      },
      "source": [
        "## Part 4: Run the risk calculator on a population\n",
        "\n",
        "At the link below, there is a file called `people.psv`.  It is a pipe-delimited (`|`) file with columns that match the inputs for the PRIEST calculation above.  Your code should use the `requests` module to retrieve the file from this URL.\n",
        "\n",
        "`https://drive.google.com/uc?export=download&id=1fLxJN9YGUqmqExrilxSS8furwUER5HHh`\n",
        "\n",
        "\n",
        "In addition, the file has a patient identifier in the first column.\n",
        "\n",
        "1. Write a function called **process_people()** that takes the file location above as its only parameter. Your Python program should use your code above to process all of these rows, determine the hospital and address, and return a list whose items are a dictionary like this: `{ patient_number: [sex, age, breath, o2sat, heart, systolic, temp, alertness, inspired, status, hospital, address]}`.  Look at the file in Part 5 for what the output looks like.\n",
        "2. Be sure to use good docstrings, but you don't need any tests in your doc strings.  I've provided those for you withe file in Part 5.\n",
        "\n",
        "\n",
        "**NOTE** that when running your code for all the 100 records in the `people.psv` file, it may take a few minutes to complete.  You're making multiple calls to the internet for each record, so that can take a little while.\n"
      ]
    },
    {
      "cell_type": "code",
      "source": [
        "import csv\n",
        "import requests\n",
        "\n",
        "def priest(sex, age, breath, o2sat, heart, systolic, temp, alertness, inspired, status):\n",
        "    \"\"\"\n",
        "    PRIEST risk calculation placeholder.\n",
        "    Replace this with actual calculation logic.\n",
        "    \"\"\"\n",
        "    if o2sat < 95:\n",
        "        return \"High\"\n",
        "    elif breath > 20 or systolic < 100:\n",
        "        return \"Medium\"\n",
        "    else:\n",
        "        return \"Low\"\n",
        "\n",
        "def find_hospital(age, sex, risk):\n",
        "    \"\"\"\n",
        "    Placeholder for finding a hospital based on age, sex, and risk.\n",
        "    \"\"\"\n",
        "    if risk == \"High\":\n",
        "        return \"Emergency Hospital\"\n",
        "    elif risk == \"Medium\":\n",
        "        return \"General Hospital\"\n",
        "    else:\n",
        "        return \"Local Clinic\"\n",
        "\n",
        "def get_address(hospital):\n",
        "    \"\"\"\n",
        "    Returns a placeholder address for a given hospital.\n",
        "    \"\"\"\n",
        "    addresses = {\n",
        "        \"Emergency Hospital\": \"789 Main St, City\",\n",
        "        \"General Hospital\": \"456 Health Ave, Town\",\n",
        "        \"Local Clinic\": \"123 Wellness Rd, Village\"\n",
        "    }\n",
        "    return addresses.get(hospital, \"Unknown Address\")\n",
        "\n",
        "def process_people(url):\n",
        "    \"\"\"\n",
        "    Downloads and processes the patient data from a given URL and returns a dictionary.\n",
        "\n",
        "    The dictionary maps each patient ID to their medical information, including\n",
        "    the calculated PRIEST risk, hospital, and hospital address.\n",
        "\n",
        "    Parameters:\n",
        "    - url (str): The URL to download the pipe-delimited (.psv) patient data file.\n",
        "\n",
        "    Returns:\n",
        "    - dict: A dictionary where the key is the patient ID and the value is a list\n",
        "      with all the patient details.\n",
        "    \"\"\"\n",
        "    # Download the file content from the URL\n",
        "    response = requests.get(url)\n",
        "    response.raise_for_status()  # Ensure the request was successful\n",
        "\n",
        "    # Read the file content using the CSV reader with pipe delimiter\n",
        "    lines = response.text.strip().split('\\n')\n",
        "    reader = csv.reader(lines, delimiter='|')\n",
        "\n",
        "    # Skip the header row\n",
        "    next(reader)\n",
        "\n",
        "    patients_data = {}\n",
        "\n",
        "    for row in reader:\n",
        "        if len(row) < 11:\n",
        "            continue  # Skip rows that don't have enough fields\n",
        "\n",
        "        patient_id = row[0]\n",
        "        sex = row[1]\n",
        "        age = float(row[2])\n",
        "        breath = float(row[3])\n",
        "        o2sat = float(row[4])\n",
        "        heart = float(row[5])\n",
        "        systolic = float(row[6])\n",
        "        temp = float(row[7])\n",
        "        alertness = row[8]\n",
        "        inspired = row[9]\n",
        "        status = row[10]\n",
        "\n",
        "        # Calculate the PRIEST risk\n",
        "        risk = priest(sex, age, breath, o2sat, heart, systolic, temp, alertness, inspired, status)\n",
        "\n",
        "        # Determine the hospital and its address\n",
        "        hospital = find_hospital(age, sex, risk)\n",
        "        address = get_address(hospital)\n",
        "\n",
        "        # Store the patient data in the dictionary\n",
        "        patients_data[patient_id] = [\n",
        "            sex, age, breath, o2sat, heart, systolic, temp, alertness, inspired, status, risk, hospital, address\n",
        "        ]\n",
        "\n",
        "    return patients_data\n",
        "\n",
        "# Example usage\n",
        "url = \"https://drive.google.com/uc?export=download&id=1fLxJN9YGUqmqExrilxSS8furwUER5HHh\"\n",
        "result = process_people(url)\n",
        "for patient_id, details in result.items():\n",
        "    print(f\"Patient {patient_id}: {details}\")\n"
      ],
      "metadata": {
        "id": "9kMnEdEL9cE4",
        "outputId": "e6fbea2f-946a-487e-867f-2d3da3db0ef6",
        "colab": {
          "base_uri": "https://localhost:8080/"
        }
      },
      "execution_count": 141,
      "outputs": [
        {
          "output_type": "stream",
          "name": "stdout",
          "text": [
            "Patient E9559: ['FEMALE', 40.0, 24.0, 0.96, 105.0, 115.0, 34.9, 'ALERT', 'AIR', 'unrestricted normal activity', 'High', 'Emergency Hospital', '789 Main St, City']\n",
            "Patient E9385: ['Female', 51.0, 19.0, 0.99, 90.0, 91.0, 38.1, 'ALERT', 'supplemental oxygen', 'unrestricted normal activity', 'High', 'Emergency Hospital', '789 Main St, City']\n",
            "Patient E3067: ['female', 40.0, 29.0, 0.96, 105.0, 95.0, 38.1, 'ALERT', 'air', 'unrestricted normal activity', 'High', 'Emergency Hospital', '789 Main St, City']\n",
            "Patient E9422: ['FEMALE', 66.0, 19.0, 0.96, 135.0, 115.0, 38.1, 'ALERT', 'AIR', 'bed/chair bound, no self-care', 'High', 'Emergency Hospital', '789 Main St, City']\n",
            "Patient E8661: ['MALE', 18.0, 22.0, 0.95, 105.0, 115.0, 36.3, 'Confused or Not Alert', 'air', 'unrestricted normal activity', 'High', 'Emergency Hospital', '789 Main St, City']\n",
            "Patient E6235: ['Male', 16.0, 23.0, 0.96, 135.0, 115.0, 39.2, 'ALERT', 'supplemental oxygen', 'unrestricted normal activity', 'High', 'Emergency Hospital', '789 Main St, City']\n",
            "Patient E4451: ['MALE', 40.0, 8.0, 0.96, 135.0, 115.0, 38.1, 'ALERT', 'AIR', 'unrestricted normal activity', 'High', 'Emergency Hospital', '789 Main St, City']\n",
            "Patient E8433: ['FEMALE', 40.0, 23.0, 0.99, 89.0, 91.0, 38.1, 'ALERT', 'AIR', 'limited self-care', 'High', 'Emergency Hospital', '789 Main St, City']\n",
            "Patient E7593: ['FEMALE', 80.0, 23.0, 0.96, 105.0, 115.0, 38.1, 'ALERT', 'supplemental oxygen', 'limited activity, can self-care', 'High', 'Emergency Hospital', '789 Main St, City']\n",
            "Patient E3296: ['MALE', 51.0, 23.0, 0.95, 105.0, 115.0, 38.1, 'ALERT', 'AIR', 'unrestricted normal activity', 'High', 'Emergency Hospital', '789 Main St, City']\n",
            "Patient E4157: ['FEMALE', 40.0, 23.0, 0.96, 41.0, 115.0, 35.4, 'ALERT', 'AIR', 'unrestricted normal activity', 'High', 'Emergency Hospital', '789 Main St, City']\n",
            "Patient E7702: ['FEMALE', 40.0, 22.0, 0.96, 105.0, 115.0, 38.1, 'ALERT', 'supplemental oxygen', 'unrestricted normal activity', 'High', 'Emergency Hospital', '789 Main St, City']\n",
            "Patient E8158: ['MALE', 40.0, 20.0, 0.99, 135.0, 115.0, 39.2, 'ALERT', 'AIR', 'unrestricted normal activity', 'High', 'Emergency Hospital', '789 Main St, City']\n",
            "Patient E4795: ['female', 80.0, 11.0, 0.93, 105.0, 95.0, 40.8, 'ALERT', 'AIR', 'limited activity, can self-care', 'High', 'Emergency Hospital', '789 Main St, City']\n",
            "Patient E8800: ['MALE', 80.0, 22.0, 0.96, 105.0, 115.0, 39.2, 'confused or not alert', 'AIR', 'limited activity, can self-care', 'High', 'Emergency Hospital', '789 Main St, City']\n",
            "Patient E4855: ['female', 51.0, 23.0, 0.94, 135.0, 115.0, 38.1, 'ALERT', 'AIR', 'limited strenuous activity, can do light activity', 'High', 'Emergency Hospital', '789 Main St, City']\n",
            "Patient E9691: ['Male', 16.0, 10.0, 0.96, 105.0, 115.0, 38.1, 'ALERT', 'AIR', 'unrestricted normal activity', 'High', 'Emergency Hospital', '789 Main St, City']\n",
            "Patient E4535: ['FEMALE', 19.0, 11.0, 0.99, 105.0, 115.0, 35.4, 'ALERT', 'AIR', 'unrestricted normal activity', 'High', 'Emergency Hospital', '789 Main St, City']\n",
            "Patient E2360: ['Male', 40.0, 20.0, 0.96, 51.0, 95.0, 34.9, 'alert', 'supplemental oxygen', 'unrestricted normal activity', 'High', 'Emergency Hospital', '789 Main St, City']\n",
            "Patient E3447: ['MALE', 80.0, 22.0, 0.96, 41.0, 115.0, 38.1, 'ALERT', 'AIR', 'limited activity, can self-care', 'High', 'Emergency Hospital', '789 Main St, City']\n",
            "Patient E8208: ['FEMALE', 18.0, 23.0, 0.96, 135.0, 115.0, 38.1, 'ALERT', 'AIR', 'unrestricted normal activity', 'High', 'Emergency Hospital', '789 Main St, City']\n",
            "Patient E4428: ['FEMALE', 40.0, 23.0, 0.96, 38.0, 115.0, 36.3, 'ALERT', 'AIR', 'unrestricted normal activity', 'High', 'Emergency Hospital', '789 Main St, City']\n",
            "Patient E2766: ['Male', 18.0, 23.0, 0.96, 105.0, 115.0, 34.9, 'ALERT', 'AIR', 'unrestricted normal activity', 'High', 'Emergency Hospital', '789 Main St, City']\n",
            "Patient E3888: ['FEMALE', 51.0, 19.0, 0.96, 135.0, 115.0, 34.9, 'ALERT', 'AIR', 'unrestricted normal activity', 'High', 'Emergency Hospital', '789 Main St, City']\n",
            "Patient E7110: ['female', 85.0, 24.0, 0.99, 105.0, 101.0, 40.8, 'Confused or Not Alert', 'AIR', 'unrestricted normal activity', 'High', 'Emergency Hospital', '789 Main St, City']\n",
            "Patient E2668: ['FEMALE', 18.0, 22.0, 0.96, 105.0, 101.0, 38.1, 'ALERT', 'AIR', 'unrestricted normal activity', 'High', 'Emergency Hospital', '789 Main St, City']\n",
            "Patient E8482: ['Male', 40.0, 22.0, 0.96, 105.0, 230.0, 36.3, 'ALERT', 'AIR', 'limited self-care', 'High', 'Emergency Hospital', '789 Main St, City']\n",
            "Patient E9619: ['FEMALE', 40.0, 11.0, 0.98, 41.0, 115.0, 38.1, 'ALERT', 'AIR', 'unrestricted normal activity', 'High', 'Emergency Hospital', '789 Main St, City']\n",
            "Patient E1700: ['male', 40.0, 23.0, 0.96, 105.0, 115.0, 38.1, 'Confused or Not Alert', 'AIR', 'unrestricted normal activity', 'High', 'Emergency Hospital', '789 Main St, City']\n",
            "Patient E8585: ['MALE', 19.0, 8.0, 0.96, 105.0, 115.0, 36.3, 'alert', 'AIR', 'bed/chair bound, no self-care', 'High', 'Emergency Hospital', '789 Main St, City']\n",
            "Patient E8633: ['FEMALE', 40.0, 22.0, 0.96, 38.0, 91.0, 35.4, 'ALERT', 'AIR', 'unrestricted normal activity', 'High', 'Emergency Hospital', '789 Main St, City']\n",
            "Patient E2117: ['FEMALE', 16.0, 22.0, 0.96, 135.0, 115.0, 39.2, 'Confused or Not Alert', 'supplemental oxygen', 'bed/chair bound, no self-care', 'High', 'Emergency Hospital', '789 Main St, City']\n",
            "Patient E2322: ['female', 18.0, 22.0, 0.96, 105.0, 115.0, 38.1, 'alert', 'supplemental oxygen', 'unrestricted normal activity', 'High', 'Emergency Hospital', '789 Main St, City']\n",
            "Patient E6912: ['FEMALE', 51.0, 23.0, 0.96, 105.0, 95.0, 34.9, 'ALERT', 'AIR', 'unrestricted normal activity', 'High', 'Emergency Hospital', '789 Main St, City']\n",
            "Patient E5702: ['Male', 80.0, 23.0, 0.96, 135.0, 115.0, 38.1, 'ALERT', 'AIR', 'unrestricted normal activity', 'High', 'Emergency Hospital', '789 Main St, City']\n",
            "Patient E5513: ['FEMALE', 18.0, 12.0, 0.96, 105.0, 115.0, 38.1, 'ALERT', 'AIR', 'unrestricted normal activity', 'High', 'Emergency Hospital', '789 Main St, City']\n",
            "Patient E1861: ['FEMALE', 18.0, 22.0, 0.96, 105.0, 230.0, 38.1, 'ALERT', 'AIR', 'limited strenuous activity, can do light activity', 'High', 'Emergency Hospital', '789 Main St, City']\n",
            "Patient E4809: ['FEMALE', 40.0, 22.0, 0.96, 41.0, 230.0, 38.1, 'ALERT', 'AIR', 'unrestricted normal activity', 'High', 'Emergency Hospital', '789 Main St, City']\n",
            "Patient E1365: ['MALE', 22.0, 22.0, 0.96, 115.0, 101.0, 35.4, 'ALERT', 'AIR', 'bed/chair bound, no self-care', 'High', 'Emergency Hospital', '789 Main St, City']\n",
            "Patient E5984: ['Male', 40.0, 12.0, 0.93, 105.0, 91.0, 35.1, 'ALERT', 'AIR', 'limited activity, can self-care', 'High', 'Emergency Hospital', '789 Main St, City']\n",
            "Patient E7013: ['FEMALE', 66.0, 23.0, 0.96, 135.0, 89.0, 40.8, 'ALERT', 'supplemental oxygen', 'unrestricted normal activity', 'High', 'Emergency Hospital', '789 Main St, City']\n",
            "Patient E2331: ['female', 18.0, 23.0, 0.98, 105.0, 115.0, 38.1, 'ALERT', 'AIR', 'limited self-care', 'High', 'Emergency Hospital', '789 Main St, City']\n",
            "Patient E9938: ['MALE', 18.0, 12.0, 0.96, 105.0, 89.0, 35.1, 'ALERT', 'AIR', 'unrestricted normal activity', 'High', 'Emergency Hospital', '789 Main St, City']\n",
            "Patient E5121: ['Female', 18.0, 23.0, 0.96, 41.0, 95.0, 38.1, 'ALERT', 'supplemental oxygen', 'limited activity, can self-care', 'High', 'Emergency Hospital', '789 Main St, City']\n",
            "Patient E9280: ['male', 65.0, 10.0, 0.96, 135.0, 91.0, 38.1, 'ALERT', 'AIR', 'unrestricted normal activity', 'High', 'Emergency Hospital', '789 Main St, City']\n",
            "Patient E4762: ['FEMALE', 40.0, 12.0, 0.98, 105.0, 95.0, 38.1, 'ALERT', 'AIR', 'unrestricted normal activity', 'High', 'Emergency Hospital', '789 Main St, City']\n",
            "Patient E6885: ['MALE', 18.0, 23.0, 0.93, 89.0, 115.0, 35.1, 'confused or not alert', 'AIR', 'limited activity, can self-care', 'High', 'Emergency Hospital', '789 Main St, City']\n",
            "Patient E1695: ['FEMALE', 40.0, 22.0, 0.96, 41.0, 115.0, 38.1, 'ALERT', 'AIR', 'unrestricted normal activity', 'High', 'Emergency Hospital', '789 Main St, City']\n",
            "Patient E9658: ['Female', 18.0, 10.0, 0.96, 90.0, 230.0, 38.1, 'ALERT', 'AIR', 'limited self-care', 'High', 'Emergency Hospital', '789 Main St, City']\n",
            "Patient E1961: ['FEMALE', 65.0, 23.0, 0.96, 105.0, 115.0, 40.8, 'ALERT', 'AIR', 'limited activity, can self-care', 'High', 'Emergency Hospital', '789 Main St, City']\n",
            "Patient E9154: ['FEMALE', 66.0, 8.0, 0.94, 105.0, 89.0, 35.4, 'alert', 'AIR', 'bed/chair bound, no self-care', 'High', 'Emergency Hospital', '789 Main St, City']\n",
            "Patient E9417: ['FEMALE', 40.0, 23.0, 0.96, 105.0, 95.0, 38.1, 'alert', 'AIR', 'unrestricted normal activity', 'High', 'Emergency Hospital', '789 Main St, City']\n",
            "Patient E9979: ['Male', 18.0, 8.0, 0.96, 105.0, 115.0, 38.1, 'ALERT', 'AIR', 'limited strenuous activity, can do light activity', 'High', 'Emergency Hospital', '789 Main St, City']\n",
            "Patient E9316: ['MALE', 18.0, 23.0, 0.96, 135.0, 115.0, 38.1, 'ALERT', 'AIR', 'unrestricted normal activity', 'High', 'Emergency Hospital', '789 Main St, City']\n",
            "Patient E8146: ['Male', 18.0, 12.0, 0.96, 115.0, 115.0, 38.1, 'ALERT', 'AIR', 'unrestricted normal activity', 'High', 'Emergency Hospital', '789 Main St, City']\n",
            "Patient E3093: ['female', 40.0, 29.0, 0.96, 105.0, 95.0, 38.1, 'ALERT', 'AIR', 'unrestricted normal activity', 'High', 'Emergency Hospital', '789 Main St, City']\n",
            "Patient E8829: ['male', 65.0, 12.0, 0.96, 51.0, 230.0, 38.1, 'alert', 'AIR', 'unrestricted normal activity', 'High', 'Emergency Hospital', '789 Main St, City']\n",
            "Patient E1453: ['male', 18.0, 24.0, 0.99, 105.0, 115.0, 38.1, 'ALERT', 'AIR', 'unrestricted normal activity', 'High', 'Emergency Hospital', '789 Main St, City']\n",
            "Patient E5777: ['female', 66.0, 23.0, 0.96, 115.0, 89.0, 38.1, 'ALERT', 'AIR', 'limited strenuous activity, can do light activity', 'High', 'Emergency Hospital', '789 Main St, City']\n",
            "Patient E4564: ['FEMALE', 18.0, 24.0, 0.96, 41.0, 115.0, 35.1, 'confused or not alert', 'AIR', 'unrestricted normal activity', 'High', 'Emergency Hospital', '789 Main St, City']\n",
            "Patient E1904: ['FEMALE', 40.0, 22.0, 0.93, 38.0, 95.0, 38.1, 'Confused or Not Alert', 'AIR', 'unrestricted normal activity', 'High', 'Emergency Hospital', '789 Main St, City']\n",
            "Patient E8746: ['Female', 40.0, 12.0, 0.93, 105.0, 115.0, 38.1, 'ALERT', 'AIR', 'unrestricted normal activity', 'High', 'Emergency Hospital', '789 Main St, City']\n",
            "Patient E9165: ['FEMALE', 19.0, 22.0, 0.98, 50.0, 95.0, 38.1, 'ALERT', 'AIR', 'limited activity, can self-care', 'High', 'Emergency Hospital', '789 Main St, City']\n",
            "Patient E9305: ['FEMALE', 40.0, 8.0, 0.89, 105.0, 101.0, 38.1, 'ALERT', 'supplemental oxygen', 'unrestricted normal activity', 'High', 'Emergency Hospital', '789 Main St, City']\n",
            "Patient E3217: ['Female', 40.0, 10.0, 0.95, 105.0, 95.0, 38.1, 'ALERT', 'AIR', 'unrestricted normal activity', 'High', 'Emergency Hospital', '789 Main St, City']\n",
            "Patient E3127: ['Female', 40.0, 8.0, 0.96, 38.0, 115.0, 36.3, 'ALERT', 'AIR', 'limited strenuous activity, can do light activity', 'High', 'Emergency Hospital', '789 Main St, City']\n",
            "Patient E7501: ['female', 18.0, 23.0, 0.96, 135.0, 115.0, 38.1, 'ALERT', 'AIR', 'unrestricted normal activity', 'High', 'Emergency Hospital', '789 Main St, City']\n",
            "Patient E4997: ['female', 40.0, 23.0, 0.94, 105.0, 115.0, 36.3, 'ALERT', 'AIR', 'unrestricted normal activity', 'High', 'Emergency Hospital', '789 Main St, City']\n",
            "Patient E6181: ['female', 19.0, 23.0, 0.96, 89.0, 115.0, 38.1, 'ALERT', 'AIR', 'unrestricted normal activity', 'High', 'Emergency Hospital', '789 Main St, City']\n",
            "Patient E1073: ['FEMALE', 18.0, 24.0, 0.95, 50.0, 115.0, 38.1, 'Confused or Not Alert', 'AIR', 'limited self-care', 'High', 'Emergency Hospital', '789 Main St, City']\n",
            "Patient E9608: ['female', 80.0, 12.0, 0.96, 50.0, 89.0, 38.1, 'ALERT', 'AIR', 'unrestricted normal activity', 'High', 'Emergency Hospital', '789 Main St, City']\n",
            "Patient E7663: ['FEMALE', 18.0, 11.0, 0.96, 105.0, 115.0, 38.1, 'ALERT', 'air', 'limited self-care', 'High', 'Emergency Hospital', '789 Main St, City']\n",
            "Patient E7648: ['female', 66.0, 12.0, 0.98, 41.0, 115.0, 34.9, 'ALERT', 'air', 'unrestricted normal activity', 'High', 'Emergency Hospital', '789 Main St, City']\n",
            "Patient E1883: ['male', 40.0, 10.0, 0.98, 105.0, 115.0, 38.1, 'ALERT', 'AIR', 'unrestricted normal activity', 'High', 'Emergency Hospital', '789 Main St, City']\n",
            "Patient E2001: ['FEMALE', 18.0, 12.0, 0.99, 51.0, 115.0, 38.1, 'Confused or Not Alert', 'AIR', 'unrestricted normal activity', 'High', 'Emergency Hospital', '789 Main St, City']\n",
            "Patient E2418: ['male', 18.0, 20.0, 0.94, 105.0, 115.0, 35.4, 'ALERT', 'air', 'unrestricted normal activity', 'High', 'Emergency Hospital', '789 Main St, City']\n",
            "Patient E3739: ['Male', 85.0, 10.0, 0.96, 105.0, 115.0, 38.1, 'Confused or Not Alert', 'supplemental oxygen', 'unrestricted normal activity', 'High', 'Emergency Hospital', '789 Main St, City']\n",
            "Patient E8351: ['FEMALE', 40.0, 23.0, 0.96, 90.0, 101.0, 38.1, 'ALERT', 'AIR', 'unrestricted normal activity', 'High', 'Emergency Hospital', '789 Main St, City']\n",
            "Patient E2882: ['Male', 51.0, 24.0, 0.98, 105.0, 91.0, 38.1, 'ALERT', 'AIR', 'unrestricted normal activity', 'High', 'Emergency Hospital', '789 Main St, City']\n",
            "Patient E1902: ['Female', 85.0, 22.0, 0.96, 105.0, 115.0, 38.1, 'ALERT', 'supplemental oxygen', 'unrestricted normal activity', 'High', 'Emergency Hospital', '789 Main St, City']\n",
            "Patient E2155: ['Male', 18.0, 22.0, 0.94, 105.0, 115.0, 38.1, 'ALERT', 'air', 'limited self-care', 'High', 'Emergency Hospital', '789 Main St, City']\n",
            "Patient E4345: ['Female', 40.0, 19.0, 0.89, 41.0, 115.0, 34.9, 'ALERT', 'air', 'unrestricted normal activity', 'High', 'Emergency Hospital', '789 Main St, City']\n",
            "Patient E4194: ['FEMALE', 40.0, 12.0, 0.95, 105.0, 91.0, 38.1, 'ALERT', 'AIR', 'limited self-care', 'High', 'Emergency Hospital', '789 Main St, City']\n",
            "Patient E5211: ['male', 65.0, 22.0, 0.96, 41.0, 115.0, 38.1, 'ALERT', 'AIR', 'unrestricted normal activity', 'High', 'Emergency Hospital', '789 Main St, City']\n",
            "Patient E5488: ['Female', 40.0, 12.0, 0.94, 105.0, 101.0, 38.1, 'ALERT', 'AIR', 'unrestricted normal activity', 'High', 'Emergency Hospital', '789 Main St, City']\n",
            "Patient E8560: ['FEMALE', 40.0, 23.0, 0.96, 41.0, 115.0, 35.1, 'confused or not alert', 'AIR', 'unrestricted normal activity', 'High', 'Emergency Hospital', '789 Main St, City']\n",
            "Patient E2995: ['FEMALE', 18.0, 20.0, 0.99, 105.0, 95.0, 35.1, 'alert', 'AIR', 'unrestricted normal activity', 'High', 'Emergency Hospital', '789 Main St, City']\n",
            "Patient E3422: ['FEMALE', 40.0, 8.0, 0.96, 105.0, 115.0, 35.4, 'ALERT', 'AIR', 'unrestricted normal activity', 'High', 'Emergency Hospital', '789 Main St, City']\n",
            "Patient E7707: ['Female', 18.0, 20.0, 0.96, 38.0, 115.0, 36.3, 'ALERT', 'air', 'limited strenuous activity, can do light activity', 'High', 'Emergency Hospital', '789 Main St, City']\n",
            "Patient E3119: ['FEMALE', 18.0, 20.0, 0.99, 135.0, 89.0, 35.1, 'ALERT', 'supplemental oxygen', 'unrestricted normal activity', 'High', 'Emergency Hospital', '789 Main St, City']\n",
            "Patient E1419: ['male', 65.0, 23.0, 0.99, 105.0, 91.0, 38.1, 'alert', 'AIR', 'unrestricted normal activity', 'High', 'Emergency Hospital', '789 Main St, City']\n",
            "Patient E7748: ['male', 40.0, 23.0, 0.93, 105.0, 115.0, 38.1, 'ALERT', 'supplemental oxygen', 'unrestricted normal activity', 'High', 'Emergency Hospital', '789 Main St, City']\n",
            "Patient E7251: ['Female', 40.0, 12.0, 0.96, 105.0, 91.0, 38.1, 'alert', 'AIR', 'unrestricted normal activity', 'High', 'Emergency Hospital', '789 Main St, City']\n",
            "Patient E1235: ['FEMALE', 40.0, 29.0, 0.96, 41.0, 115.0, 38.1, 'ALERT', 'AIR', 'bed/chair bound, no self-care', 'High', 'Emergency Hospital', '789 Main St, City']\n",
            "Patient E5361: ['FEMALE', 18.0, 22.0, 0.93, 90.0, 101.0, 38.1, 'confused or not alert', 'AIR', 'unrestricted normal activity', 'High', 'Emergency Hospital', '789 Main St, City']\n",
            "Patient E7130: ['FEMALE', 18.0, 22.0, 0.96, 50.0, 115.0, 38.1, 'ALERT', 'AIR', 'limited strenuous activity, can do light activity', 'High', 'Emergency Hospital', '789 Main St, City']\n",
            "Patient E5665: ['FEMALE', 85.0, 23.0, 0.96, 115.0, 115.0, 38.1, 'ALERT', 'AIR', 'unrestricted normal activity', 'High', 'Emergency Hospital', '789 Main St, City']\n",
            "Patient E9957: ['Female', 40.0, 22.0, 0.98, 89.0, 230.0, 38.1, 'alert', 'AIR', 'unrestricted normal activity', 'High', 'Emergency Hospital', '789 Main St, City']\n",
            "Patient E10000: ['FEMALE', 18.0, 23.0, 0.96, 105.0, 101.0, 38.1, 'ALERT', 'AIR', 'limited activity, can self-care', 'High', 'Emergency Hospital', '789 Main St, City']\n"
          ]
        }
      ]
    },
    {
      "cell_type": "markdown",
      "metadata": {
        "id": "m5nHsbL-nWZK"
      },
      "source": [
        "## Part 5: Checking your final results\n",
        "\n",
        "The final step is to check your results.  You should be able to compare your results to the output in `people_results.json` at the link below.  Write some code to check your results.  This does not need to be a function.\n",
        "\n",
        "`https://drive.google.com/uc?export=download&id=1gx1SSC20mO5XL6uYD0mdcM_cL91fcIW5`\n"
      ]
    },
    {
      "cell_type": "code",
      "execution_count": 142,
      "metadata": {
        "id": "vBqbirNXnWZK",
        "outputId": "c5b6f4b8-28b8-4949-96a4-008373f6bcc0",
        "colab": {
          "base_uri": "https://localhost:8080/"
        }
      },
      "outputs": [
        {
          "output_type": "stream",
          "name": "stdout",
          "text": [
            "Results are Not Same\n"
          ]
        }
      ],
      "source": [
        "import requests\n",
        "import json\n",
        "\n",
        "def process_people(url):\n",
        "    # Implement your logic here to process data from the URL\n",
        "    # Ensure this function returns an object that is not None and has a psv() method\n",
        "    pass\n",
        "\n",
        "# Use the new link for processing people\n",
        "methodCalc = process_people(\"https://drive.google.com/uc?export=download&id=1fLxJN9YGUqmqExrilxSS8furwUER5\")\n",
        "\n",
        "# Check if methodCalc is not None and has a psv() method before using it\n",
        "if methodCalc is not None and hasattr(methodCalc, 'psv'):\n",
        "    methodCalcStr = methodCalc.psv()\n",
        "else:\n",
        "    methodCalcStr = None\n",
        "\n",
        "# Fetching original response data\n",
        "original_response = requests.get(\"https://drive.google.com/uc?export=download&id=1gx1SSC20mO5XL6uYD0mdcM_cL91fcIW5\")\n",
        "\n",
        "# Assuming the original response contains a JSON object\n",
        "if original_response.status_code == 200:\n",
        "    originalstr = original_response.json()\n",
        "else:\n",
        "    originalstr = None\n",
        "\n",
        "# Compare the processed data with the original data\n",
        "if methodCalcStr == originalstr:\n",
        "    print(\"Results Are Same\")\n",
        "else:\n",
        "    print(\"Results are Not Same\")\n"
      ]
    },
    {
      "cell_type": "markdown",
      "metadata": {
        "id": "soZOjDdinWZL"
      },
      "source": [
        "---\n",
        "\n",
        "## Check your work above\n",
        "\n",
        "If you didn't get them all correct, take a few minutes to think through those that aren't correct.\n",
        "\n",
        "\n",
        "## Submitting Your Work\n",
        "\n",
        "Submit your work as usual into a folder named `midterm`"
      ]
    },
    {
      "cell_type": "markdown",
      "metadata": {
        "id": "AvJ3SxGRnWZL"
      },
      "source": [
        "---"
      ]
    }
  ],
  "metadata": {
    "kernelspec": {
      "display_name": "Python 3",
      "language": "python",
      "name": "python3"
    },
    "language_info": {
      "codemirror_mode": {
        "name": "ipython",
        "version": 3
      },
      "file_extension": ".py",
      "mimetype": "text/x-python",
      "name": "python",
      "nbconvert_exporter": "python",
      "pygments_lexer": "ipython3",
      "version": "3.9.6"
    },
    "colab": {
      "provenance": [],
      "include_colab_link": true
    }
  },
  "nbformat": 4,
  "nbformat_minor": 0
}