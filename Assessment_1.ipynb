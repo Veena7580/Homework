{
  "nbformat": 4,
  "nbformat_minor": 0,
  "metadata": {
    "colab": {
      "provenance": [],
      "authorship_tag": "ABX9TyMvhBzvecgJcxGQE/pEp38R",
      "include_colab_link": true
    },
    "kernelspec": {
      "name": "python3",
      "display_name": "Python 3"
    },
    "language_info": {
      "name": "python"
    }
  },
  "cells": [
    {
      "cell_type": "markdown",
      "metadata": {
        "id": "view-in-github",
        "colab_type": "text"
      },
      "source": [
        "<a href=\"https://colab.research.google.com/github/Veena7580/Homework/blob/main/Assessment_1.ipynb\" target=\"_parent\"><img src=\"https://colab.research.google.com/assets/colab-badge.svg\" alt=\"Open In Colab\"/></a>"
      ]
    },
    {
      "cell_type": "markdown",
      "source": [
        "# 1. Variable Swapping (Without a Third Variable)\n",
        "Write a Python program to swap two numbers without using a third variable.\n",
        "\n",
        "\n",
        "\n",
        "Example Input:\n",
        "a = 5\n",
        "b = 10\n",
        "Expected Output:\n",
        "a = 10\n",
        "b = 5"
      ],
      "metadata": {
        "id": "VtJWXncNsCR6"
      }
    },
    {
      "cell_type": "code",
      "source": [
        "# Input\n",
        "a = 5\n",
        "b = 10\n",
        "# swapping a=b & b=a\n",
        "a ,b = b, a\n",
        "# Printing the variabe\n",
        "print (\"a =\", a)\n",
        "print (\"b =\", b)\n"
      ],
      "metadata": {
        "colab": {
          "base_uri": "https://localhost:8080/"
        },
        "id": "TRmThUgksF2W",
        "outputId": "78c68986-55cf-4d4d-a647-367c500f7958"
      },
      "execution_count": 32,
      "outputs": [
        {
          "output_type": "stream",
          "name": "stdout",
          "text": [
            "a = 10\n",
            "b = 5\n"
          ]
        }
      ]
    },
    {
      "cell_type": "markdown",
      "source": [
        "# 2. Data Type Identification\n",
        "Write a Python program that takes user input and prints its data type.\n",
        "Example Input:\n",
        "Enter a value: 3.14\n",
        "\n",
        "\n",
        "Expected Output:\n",
        "The data type of the input is: <class 'float'>"
      ],
      "metadata": {
        "id": "Wr_-8Hf1tFAQ"
      }
    },
    {
      "cell_type": "code",
      "source": [
        "# Input\n",
        "y = 3.14\n",
        "# Printing the value\n",
        "print(type(y))"
      ],
      "metadata": {
        "colab": {
          "base_uri": "https://localhost:8080/"
        },
        "id": "3W7HbsdKwjSu",
        "outputId": "919b008e-dd8c-4618-f573-b6a1896973ec"
      },
      "execution_count": 33,
      "outputs": [
        {
          "output_type": "stream",
          "name": "stdout",
          "text": [
            "<class 'float'>\n"
          ]
        }
      ]
    },
    {
      "cell_type": "markdown",
      "source": [
        "# 3. Convert Decimal to Binary, Octal, and Hexadecimal\n",
        "Write a Python program that converts a given decimal number into its binary, octal, and\n",
        "hexadecimal equivalents.\n",
        "Example Input:\n",
        "num = 25\n",
        "\n",
        "\n",
        "Expected Output:\n",
        "Binary: 11001\n",
        "Octal: 31\n",
        "Hexadecimal: 19"
      ],
      "metadata": {
        "id": "_kIpVyxYtl-8"
      }
    },
    {
      "cell_type": "code",
      "source": [
        "# Input\n",
        "num = 25\n",
        "# Printing the value\n",
        "print(\"Binary: \", bin(num))\n",
        "print(\"Octal: \", oct(num))\n",
        "print(\"Hexadecimal: \", hex(num))"
      ],
      "metadata": {
        "colab": {
          "base_uri": "https://localhost:8080/"
        },
        "id": "qQDS-B5RuUWf",
        "outputId": "d53fc914-d0db-40e7-f96d-088e551ea646"
      },
      "execution_count": 34,
      "outputs": [
        {
          "output_type": "stream",
          "name": "stdout",
          "text": [
            "Binary:  0b11001\n",
            "Octal:  0o31\n",
            "Hexadecimal:  0x19\n"
          ]
        }
      ]
    },
    {
      "cell_type": "markdown",
      "source": [
        "# 4. Find the Largest of Three Numbers Using the Ternary Operator\n",
        "Write a Python program to find the largest of three numbers using a ternary (conditional)\n",
        "operator.\n",
        "Example Input:\n",
        "num1 = 12\n",
        "num2 = 25\n",
        "num3 = 18\n",
        "\n",
        "\n",
        "Expected Output:\n",
        "Largest number: 25"
      ],
      "metadata": {
        "id": "L8YeU-nzxmkU"
      }
    },
    {
      "cell_type": "code",
      "source": [
        "# Input\n",
        "num1 = 12\n",
        "num2 = 25\n",
        "num3 = 18\n",
        "# Used conditional operator\n",
        "largest = max(num1, num2, num3)\n",
        "# Printing the value\n",
        "print (\"largest number =\", largest)"
      ],
      "metadata": {
        "colab": {
          "base_uri": "https://localhost:8080/"
        },
        "id": "l_WNvD2bxtuh",
        "outputId": "3f338de2-3418-4f3d-8a1c-25e87ea3cb0c"
      },
      "execution_count": 35,
      "outputs": [
        {
          "output_type": "stream",
          "name": "stdout",
          "text": [
            "largest number = 25\n"
          ]
        }
      ]
    },
    {
      "cell_type": "markdown",
      "source": [
        "# 5. Arithmetic Operations on Two User Inputs\n",
        "Write a Python program that takes two numbers as input and performs addition, subtraction,\n",
        "multiplication, division, and modulus operations. Print the results.\n",
        "Example Input:\n",
        "Enter first number: 15\n",
        "Enter second number: 4\n",
        "\n",
        "\n",
        "Expected Output:\n",
        "Addition: 19\n",
        "Subtraction: 11\n",
        "Multiplication: 60\n",
        "Division: 3.75\n",
        "Modulus: 3"
      ],
      "metadata": {
        "id": "vGoZPmx1yU6V"
      }
    },
    {
      "cell_type": "code",
      "source": [
        "# Input\n",
        "num1 = 15\n",
        "num2 = 4\n",
        "# Printing the value\n",
        "print (\"Addition : \", num1+num2)\n",
        "print (\"Subtraction : \", num1-num2)\n",
        "print (\"Multiplication: \", num1*num2)\n",
        "print (\"Division: \", num1/num2)\n",
        "print (\"modulus :\", num1%num2)"
      ],
      "metadata": {
        "colab": {
          "base_uri": "https://localhost:8080/"
        },
        "id": "wuKN5j_Uy4aI",
        "outputId": "703612d7-61b6-42af-e66c-333501c3ea0f"
      },
      "execution_count": 36,
      "outputs": [
        {
          "output_type": "stream",
          "name": "stdout",
          "text": [
            "Addition :  19\n",
            "Subtraction :  11\n",
            "Multiplication:  60\n",
            "Division:  3.75\n",
            "modulus : 3\n"
          ]
        }
      ]
    },
    {
      "cell_type": "code",
      "source": [],
      "metadata": {
        "id": "cNAjpd8zz8mV"
      },
      "execution_count": 36,
      "outputs": []
    }
  ]
}