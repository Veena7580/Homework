{
  "nbformat": 4,
  "nbformat_minor": 0,
  "metadata": {
    "colab": {
      "provenance": [],
      "authorship_tag": "ABX9TyN34W/szYlp+i+zMUKB7lAE",
      "include_colab_link": true
    },
    "kernelspec": {
      "name": "python3",
      "display_name": "Python 3"
    },
    "language_info": {
      "name": "python"
    }
  },
  "cells": [
    {
      "cell_type": "markdown",
      "metadata": {
        "id": "view-in-github",
        "colab_type": "text"
      },
      "source": [
        "<a href=\"https://colab.research.google.com/github/Veena7580/Homework/blob/main/Project__1.ipynb\" target=\"_parent\"><img src=\"https://colab.research.google.com/assets/colab-badge.svg\" alt=\"Open In Colab\"/></a>"
      ]
    },
    {
      "cell_type": "markdown",
      "source": [
        "**##### PROJECT-1 #####**\n",
        "\n",
        "---\n"
      ],
      "metadata": {
        "id": "re9SykchJxJe"
      }
    },
    {
      "cell_type": "markdown",
      "source": [
        "# Requirements: The system should store student details, including:\n",
        "• Name\n",
        "• Roll Number\n",
        "• Marks (a list of subject marks)\n",
        "• Attendance (a set containing dates of attendance)\n",
        "# Functionalities to Implement:\n",
        "1. Add a Student – Store Name and Roll Number as a tuple.\n",
        "2. Update Marks – Store multiple subject marks using a list.\n",
        "3. Mark Attendance – Use a set to store attendance dates.\n",
        "4. View Student Details – Display student details using loops and conditional\n",
        "statements.\n",
        "5. Delete a Student Record – Remove a student's record from the system.\n"
      ],
      "metadata": {
        "id": "ukMV_cPpIx0B"
      }
    },
    {
      "cell_type": "code",
      "execution_count": 3,
      "metadata": {
        "colab": {
          "base_uri": "https://localhost:8080/"
        },
        "id": "nn8VEoC-Di1U",
        "outputId": "a9ce7f08-538a-496f-a52c-713cebb6eb8a"
      },
      "outputs": [
        {
          "output_type": "stream",
          "name": "stdout",
          "text": [
            "Enter Student Name: John Doe\n",
            "Enter Roll Number: 101\n",
            "\n",
            "Student added successfully!\n"
          ]
        }
      ],
      "source": [
        "# # Adding a student\n",
        "\n",
        "students = {}\n",
        "\n",
        "# Adding a student with predefined values\n",
        "name = \"John Doe\"\n",
        "roll_number = \"101\"\n",
        "\n",
        "students[roll_number] = (name, roll_number)\n",
        "\n",
        "# Simulating the expected output\n",
        "print(f\"Enter Student Name: {name}\")\n",
        "print(f\"Enter Roll Number: {roll_number}\\n\")\n",
        "\n",
        "# Check if the student was added successfully\n",
        "if roll_number in students:\n",
        "    print(\"Student added successfully!\")\n",
        "else:\n",
        "    print(\"Failed to add student.\")\n"
      ]
    },
    {
      "cell_type": "code",
      "source": [
        "# Updating Marks\n",
        "\n",
        "students_marks = {}\n",
        "\n",
        "# Predefined values\n",
        "roll_number = \"101\"\n",
        "marks_input = \"85, 90, 78\"\n",
        "\n",
        "# Convert the marks to a list of integers\n",
        "marks = list(map(int, marks_input.split(',')))\n",
        "\n",
        "# Storing the marks in the dictionary\n",
        "students_marks[roll_number] = marks\n",
        "\n",
        "# Simulating the expected output\n",
        "print(f\"Enter Roll Number: {roll_number}\")\n",
        "print(f\"Enter Marks (comma-separated): {marks_input}\\n\")\n",
        "\n",
        "# Check if marks were updated successfully\n",
        "if roll_number in students_marks:\n",
        "    print(\"Marks updated successfully!\")\n",
        "else:\n",
        "    print(\"Failed to update marks.\")\n"
      ],
      "metadata": {
        "colab": {
          "base_uri": "https://localhost:8080/"
        },
        "id": "F9blyM-DEchc",
        "outputId": "271cbbcf-ee61-4012-e8a3-88d81ea0cc17"
      },
      "execution_count": 4,
      "outputs": [
        {
          "output_type": "stream",
          "name": "stdout",
          "text": [
            "Enter Roll Number: 101\n",
            "Enter Marks (comma-separated): 85, 90, 78\n",
            "\n",
            "Marks updated successfully!\n"
          ]
        }
      ]
    },
    {
      "cell_type": "code",
      "source": [
        "# Marking Attendance\n",
        "\n",
        "attendance_records = {}\n",
        "\n",
        "# Predefined values\n",
        "roll_number = \"101\"\n",
        "attendance_date = \"2025-02-14\"\n",
        "\n",
        "# Initialize the set if the roll number doesn't exist\n",
        "if roll_number not in attendance_records:\n",
        "    attendance_records[roll_number] = set()\n",
        "\n",
        "# Add the attendance date to the set\n",
        "attendance_records[roll_number].add(attendance_date)\n",
        "\n",
        "# Simulating the expected output\n",
        "print(f\"Enter Roll Number: {roll_number}\")\n",
        "print(f\"Enter Attendance Date (YYYY-MM-DD): {attendance_date}\\n\")\n",
        "\n",
        "# Check if attendance was recorded successfully\n",
        "if roll_number in attendance_records and attendance_date in attendance_records[roll_number]:\n",
        "    print(\"Attendance recorded successfully!\")\n",
        "else:\n",
        "    print(\"Failed to record attendance.\")\n"
      ],
      "metadata": {
        "colab": {
          "base_uri": "https://localhost:8080/"
        },
        "id": "W8u2PRMaEn0R",
        "outputId": "bb0c5372-d4db-4de4-e67b-2a38734a9f23"
      },
      "execution_count": 5,
      "outputs": [
        {
          "output_type": "stream",
          "name": "stdout",
          "text": [
            "Enter Roll Number: 101\n",
            "Enter Attendance Date (YYYY-MM-DD): 2025-02-14\n",
            "\n",
            "Attendance recorded successfully!\n"
          ]
        }
      ]
    },
    {
      "cell_type": "code",
      "source": [
        "# Viewing Student Details\n",
        "\n",
        "def view_student_details(roll_number):\n",
        "    students = {\n",
        "        101: {\"name\": \"John Doe\", \"marks\": [85, 90, 78], \"attendance\": {\"2025-02-14\"}},\n",
        "    }\n",
        "\n",
        "    if roll_number in students:\n",
        "        student = students[roll_number]\n",
        "        avg_marks = sum(student[\"marks\"]) / len(student[\"marks\"])\n",
        "        return f\"Enter Roll Number to View Details: {roll_number}\\nName: {student['name']}\\nRoll Number: {roll_number}\\nMarks: {student['marks']}\\nAverage: {avg_marks:.2f}\\nAttendance: {student['attendance']}\"\n",
        "    else:\n",
        "        return f\"Student {roll_number} not found.\"\n",
        "\n",
        "print(view_student_details(101))\n"
      ],
      "metadata": {
        "colab": {
          "base_uri": "https://localhost:8080/"
        },
        "id": "7pqpowFQE2J3",
        "outputId": "d69c1334-5e2d-4cdb-89d8-d41ef65f0597"
      },
      "execution_count": 21,
      "outputs": [
        {
          "output_type": "stream",
          "name": "stdout",
          "text": [
            "Enter Roll Number to View Details: 101\n",
            "Name: John Doe\n",
            "Roll Number: 101\n",
            "Marks: [85, 90, 78]\n",
            "Average: 84.33\n",
            "Attendance: {'2025-02-14'}\n"
          ]
        }
      ]
    },
    {
      "cell_type": "code",
      "source": [
        "# Deleting a Student\n",
        "\n",
        "def view_student_details(roll_number):\n",
        "    students = {\n",
        "        101: {\"name\": \"John Doe\", \"marks\": [85, 90, 78], \"attendance\": {\"2025-02-14\"}},\n",
        "    }\n",
        "\n",
        "    if roll_number in students:\n",
        "        student = students[roll_number]\n",
        "        avg_marks = sum(student[\"marks\"]) / len(student[\"marks\"])\n",
        "        return f\"Enter Roll Number to View Details: {roll_number}\\nName: {student['name']}\\nRoll Number: {roll_number}\\nMarks: {student['marks']}\\nAverage: {avg_marks:.2f}\\nAttendance: {student['attendance']}\"\n",
        "    else:\n",
        "        return f\"Student {roll_number} not found.\"\n",
        "\n",
        "def delete_student(roll_number):\n",
        "    students = {\n",
        "        101: {\"name\": \"John Doe\", \"marks\": [85, 90, 78], \"attendance\": {\"2025-02-14\"}},\n",
        "    }\n",
        "\n",
        "    if roll_number in students:\n",
        "        del students[roll_number]\n",
        "        return f\"Enter Roll Number to Delete: {roll_number}\\nStudent record deleted successfully!\"\n",
        "    else:\n",
        "        return f\"Student {roll_number} not found.\"\n",
        "\n",
        "# Test delete function\n",
        "print(delete_student(101))\n"
      ],
      "metadata": {
        "colab": {
          "base_uri": "https://localhost:8080/"
        },
        "id": "6xoUeyVWG9s-",
        "outputId": "38800c9f-c9b7-4093-fff7-36354f189c74"
      },
      "execution_count": 24,
      "outputs": [
        {
          "output_type": "stream",
          "name": "stdout",
          "text": [
            "Enter Roll Number to Delete: 101\n",
            "Student record deleted successfully!\n"
          ]
        }
      ]
    }
  ]
}