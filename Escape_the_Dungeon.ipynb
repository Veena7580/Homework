{
  "nbformat": 4,
  "nbformat_minor": 0,
  "metadata": {
    "colab": {
      "provenance": [],
      "authorship_tag": "ABX9TyMkzxKE5JLY2JG/i0MRTtXg",
      "include_colab_link": true
    },
    "kernelspec": {
      "name": "python3",
      "display_name": "Python 3"
    },
    "language_info": {
      "name": "python"
    }
  },
  "cells": [
    {
      "cell_type": "markdown",
      "metadata": {
        "id": "view-in-github",
        "colab_type": "text"
      },
      "source": [
        "<a href=\"https://colab.research.google.com/github/Veena7580/Homework/blob/main/Escape_the_Dungeon.ipynb\" target=\"_parent\"><img src=\"https://colab.research.google.com/assets/colab-badge.svg\" alt=\"Open In Colab\"/></a>"
      ]
    },
    {
      "cell_type": "code",
      "source": [
        "# Room 1: The Gate of Input & Variables\n",
        "print(\"Welcome to the Dungeon, brave soul!\")\n",
        "\n",
        "# Predefined name and age\n",
        "name = \"Alex\"\n",
        "age = 16\n",
        "\n",
        "# Convert age to dog years\n",
        "dog_years = age * 7\n",
        "\n",
        "# Display the details\n",
        "print(f\"Name: {name}\")\n",
        "print(f\"Age: {age}\")\n",
        "\n",
        "# Display the welcome message\n",
        "print(f\"Hello {name}, you are {dog_years} in dog years. Let's begin...\")\n"
      ],
      "metadata": {
        "colab": {
          "base_uri": "https://localhost:8080/"
        },
        "id": "TqWcAWr23u9u",
        "outputId": "673c94ff-166a-418a-c592-dd362d3cb459"
      },
      "execution_count": 19,
      "outputs": [
        {
          "output_type": "stream",
          "name": "stdout",
          "text": [
            "Welcome to the Dungeon, brave soul!\n",
            "Name: Alex\n",
            "Age: 16\n",
            "Hello Alex, you are 112 in dog years. Let's begin...\n"
          ]
        }
      ]
    },
    {
      "cell_type": "code",
      "source": [
        "# Room 2: The Chamber of Choices\n",
        "print(\"\\nYou face 3 doors: left, middle, right.\")\n",
        "\n",
        "# Predefined user choice to simulate input\n",
        "choice = \"left\"\n",
        "print(f\"Choose one: {choice}\")  # Display the player's choice\n",
        "\n",
        "# Check the choice\n",
        "if choice == \"middle\":\n",
        "    print(\"You have chosen wisely! The door opens, and you proceed to the next room.\")\n",
        "elif choice == \"left\":\n",
        "    print(\"Oh no! A trap was triggered. Try again.\")\n",
        "elif choice == \"right\":\n",
        "    print(\"Oops! You fell into a pit. Game over.\")\n",
        "else:\n",
        "    print(\"Invalid choice. Please restart the game.\")\n"
      ],
      "metadata": {
        "colab": {
          "base_uri": "https://localhost:8080/"
        },
        "id": "4Pc2oJ5v3yS8",
        "outputId": "c6b45a92-c951-4e33-b82d-bf7c23325837"
      },
      "execution_count": 22,
      "outputs": [
        {
          "output_type": "stream",
          "name": "stdout",
          "text": [
            "\n",
            "You face 3 doors: left, middle, right.\n",
            "Choose one: left\n",
            "Oh no! A trap was triggered. Try again.\n"
          ]
        }
      ]
    },
    {
      "cell_type": "code",
      "source": [
        "# Room 3: The Looping Labyrinth\n",
        "import random\n",
        "\n",
        "# Generate a random secret number between 1 and 10\n",
        "secret_number = random.randint(1, 10)\n",
        "\n",
        "# Number of attempts allowed\n",
        "attempts = 3\n",
        "\n",
        "print(\"\\nGuess the magic number (1-10): \")\n",
        "\n",
        "# Loop for allowing up to 3 attempts\n",
        "for attempt in range(attempts):\n",
        "    # Predefined guess to simulate user input\n",
        "    guess = 5 if attempt == 0 else 8 if attempt == 1 else 7  # Simulating guesses as in the example\n",
        "\n",
        "    print(f\"Guess: {guess}\")\n",
        "\n",
        "    # Check the guess\n",
        "    if guess < secret_number:\n",
        "        print(\"Too low.\")\n",
        "    elif guess > secret_number:\n",
        "        print(\"Too high.\")\n",
        "    else:\n",
        "        print(\"Correct! You may pass.\")\n",
        "        break\n",
        "else:\n",
        "    print(\"Sorry, you've used all your attempts. Better luck next time.\")\n"
      ],
      "metadata": {
        "colab": {
          "base_uri": "https://localhost:8080/"
        },
        "id": "r0Tz2JOE4vTu",
        "outputId": "90eb38c4-05a2-4bcb-a6e0-5d86273df99b"
      },
      "execution_count": 23,
      "outputs": [
        {
          "output_type": "stream",
          "name": "stdout",
          "text": [
            "\n",
            "Guess the magic number (1-10): \n",
            "Guess: 5\n",
            "Too low.\n",
            "Guess: 8\n",
            "Too high.\n",
            "Guess: 7\n",
            "Correct! You may pass.\n"
          ]
        }
      ]
    }
  ]
}