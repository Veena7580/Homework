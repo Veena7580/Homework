{
  "nbformat": 4,
  "nbformat_minor": 0,
  "metadata": {
    "colab": {
      "provenance": [],
      "authorship_tag": "ABX9TyMRFWvK4/9I28fBOfTug/Cf",
      "include_colab_link": true
    },
    "kernelspec": {
      "name": "python3",
      "display_name": "Python 3"
    },
    "language_info": {
      "name": "python"
    }
  },
  "cells": [
    {
      "cell_type": "markdown",
      "metadata": {
        "id": "view-in-github",
        "colab_type": "text"
      },
      "source": [
        "<a href=\"https://colab.research.google.com/github/Veena7580/Homework/blob/main/List_Assessment.ipynb\" target=\"_parent\"><img src=\"https://colab.research.google.com/assets/colab-badge.svg\" alt=\"Open In Colab\"/></a>"
      ]
    },
    {
      "cell_type": "code",
      "execution_count": 1,
      "metadata": {
        "colab": {
          "base_uri": "https://localhost:8080/"
        },
        "id": "YHB58i1e7f3t",
        "outputId": "83b9885e-57b9-4511-8153-8b3ecd57165f"
      },
      "outputs": [
        {
          "output_type": "stream",
          "name": "stdout",
          "text": [
            "['Apple', 'Banana', 'Cherry']\n"
          ]
        }
      ],
      "source": [
        "#  Question 1: Add Items Dynamically\n",
        "# Problem:  Create an empty list called fruits. 1. Add \"Apple\" to the list. 2. Add \"Banana\" and \"Cherry\" together. 3. Print the final list.\n",
        "\n",
        "# Expected Output:  ['Apple', 'Banana', 'Cherry']\n",
        "\n",
        "fruits = []\n",
        "fruits.append(\"Apple\")\n",
        "fruits.append(\"Banana\")\n",
        "fruits.append(\"Cherry\")\n",
        "print(fruits)"
      ]
    },
    {
      "cell_type": "code",
      "source": [
        "# Question 2: Delete and Modify Items\n",
        "# Problem:  You have a list of colors: colors = [\"Red\", \"Blue\", \"Green\",\"Yellow\"] 1. Remove \"Blue\" from the list. 2. Replace \"Yellow\" with \"Black\". 3. Print the updated list.\n",
        "\n",
        "# Expected Output: ['Red', 'Green', 'Black']\n",
        "\n",
        "colors = [\"Red\", \"Blue\", \"Green\", \"Yellow\"]\n",
        "colors.remove(\"Blue\")\n",
        "colors[colors.index(\"Yellow\")] = \"Black\"\n",
        "print(colors)"
      ],
      "metadata": {
        "colab": {
          "base_uri": "https://localhost:8080/"
        },
        "id": "akkWdlpB79kq",
        "outputId": "ed26ab79-1774-4eaf-ddab-98ea32862fe1"
      },
      "execution_count": 5,
      "outputs": [
        {
          "output_type": "stream",
          "name": "stdout",
          "text": [
            "['Red', 'Green', 'Black']\n"
          ]
        }
      ]
    },
    {
      "cell_type": "code",
      "source": [
        "# Question 3: Insert at a Specific Position\n",
        "# Problem: You are given a list of numbers: numbers = [10, 20, 40, 50] 1. Insert 30 at index 2 (between 20 and 40). 2. Print the final list.\n",
        "\n",
        "# Expected Output: [10, 20, 30, 40, 50]\n",
        "\n",
        "numbers = [10, 20, 40, 50]\n",
        "numbers.insert(2, 30)\n",
        "print(numbers)"
      ],
      "metadata": {
        "colab": {
          "base_uri": "https://localhost:8080/"
        },
        "id": "t-JQQ_S78su_",
        "outputId": "3d276ce6-6deb-48ee-a4a7-d8cfa77209bd"
      },
      "execution_count": 6,
      "outputs": [
        {
          "output_type": "stream",
          "name": "stdout",
          "text": [
            "[10, 20, 30, 40, 50]\n"
          ]
        }
      ]
    },
    {
      "cell_type": "code",
      "source": [
        "# Question 4: Remove and Print Removed Element\n",
        "# Problem: You have a list of students: students = [\"Alice\", \"Bob\", \"Charlie\", \"David\"] 1. Remove \"Charlie\" from the list and store the removed name in a variable. 2. Print \"Charlie has been removed!\". 3. Print the updated list.\n",
        "\n",
        "# Expected Output: Charlie has been removed!\n",
        "\n",
        "students = [\"Alice\", \"Bob\", \"Charlie\", \"David\"]\n",
        "removed_student = students.pop(2)\n",
        "print(f\"{removed_student} has been removed!\")\n",
        "print(students)"
      ],
      "metadata": {
        "colab": {
          "base_uri": "https://localhost:8080/"
        },
        "id": "LfehCfvV9E02",
        "outputId": "3c49c28d-666c-4d7b-9e99-4e8630380be4"
      },
      "execution_count": 7,
      "outputs": [
        {
          "output_type": "stream",
          "name": "stdout",
          "text": [
            "Charlie has been removed!\n",
            "['Alice', 'Bob', 'David']\n"
          ]
        }
      ]
    },
    {
      "cell_type": "code",
      "source": [
        "# Question 5: Slicing Trick\n",
        "# Problem: You are given a list of numbers: data = [1, 2, 3, 4, 5, 6, 7, 8, 9] 1. Create a new list even_numbers that contains only even numbers from data using slicing. 2. Print even_numbers.\n",
        "\n",
        "# Expected Output: [2, 4, 6, 8]\n",
        "\n",
        "data = [1, 2, 3, 4, 5, 6, 7, 8, 9]\n",
        "even_numbers = data[1::2]\n",
        "print(even_numbers)\n"
      ],
      "metadata": {
        "colab": {
          "base_uri": "https://localhost:8080/"
        },
        "id": "jzCO4JzA9Svr",
        "outputId": "1348441a-df19-4290-f483-0748bff00273"
      },
      "execution_count": 8,
      "outputs": [
        {
          "output_type": "stream",
          "name": "stdout",
          "text": [
            "[2, 4, 6, 8]\n"
          ]
        }
      ]
    },
    {
      "cell_type": "code",
      "source": [
        "# Problem:  You have a list of words:\n",
        "words = [\"Python\", \"is\", \"awesome\"]\n",
        "\n",
        "#Expected Output: Python very awesome\n",
        "\n",
        "words = [\"Python\", \"is\", \"awesome\"]\n",
        "\n",
        "# Replace \"is\" with \"very\"\n",
        "words[words.index(\"is\")] = \"very\"\n",
        "\n",
        "# Print the updated list\n",
        "print(\" \".join(words))\n"
      ],
      "metadata": {
        "colab": {
          "base_uri": "https://localhost:8080/"
        },
        "id": "d0wnsepQ9erH",
        "outputId": "678c4a2b-26cc-4252-f1fd-52958a15e59b"
      },
      "execution_count": 10,
      "outputs": [
        {
          "output_type": "stream",
          "name": "stdout",
          "text": [
            "Python very awesome\n"
          ]
        }
      ]
    }
  ]
}